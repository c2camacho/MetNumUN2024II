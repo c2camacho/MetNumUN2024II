{
  "nbformat": 4,
  "nbformat_minor": 0,
  "metadata": {
    "colab": {
      "provenance": [],
      "authorship_tag": "ABX9TyMUx95rxoBLOVthIhs0+m/t",
      "include_colab_link": true
    },
    "kernelspec": {
      "name": "python3",
      "display_name": "Python 3"
    },
    "language_info": {
      "name": "python"
    }
  },
  "cells": [
    {
      "cell_type": "markdown",
      "metadata": {
        "id": "view-in-github",
        "colab_type": "text"
      },
      "source": [
        "<a href=\"https://colab.research.google.com/github/c2camacho/MetNumUN2024II/blob/main/cacamacho_Lab18_Optimization.ipynb\" target=\"_parent\"><img src=\"https://colab.research.google.com/assets/colab-badge.svg\" alt=\"Open In Colab\"/></a>"
      ]
    },
    {
      "cell_type": "markdown",
      "source": [
        "el link para la hoja de exel se coloca a continuacion usar correo de la unal: https://docs.google.com/spreadsheets/d/1nXw68R3K9IDTuKBQgIPFkXIC_g_JEdd1/edit?usp=sharing&ouid=101103429881662751853&rtpof=true&sd=true"
      ],
      "metadata": {
        "id": "8MEg2jBXzwOo"
      }
    },
    {
      "cell_type": "markdown",
      "source": [
        "# Punto 1 Minimisar dieta"
      ],
      "metadata": {
        "id": "fd4xvkll41xb"
      }
    },
    {
      "cell_type": "code",
      "execution_count": null,
      "metadata": {
        "id": "WoM-Tz-_ytI3",
        "colab": {
          "base_uri": "https://localhost:8080/"
        },
        "outputId": "c5f61c9a-83e3-412e-c0a6-6739618c9c1c"
      },
      "outputs": [
        {
          "output_type": "stream",
          "name": "stdout",
          "text": [
            "Solución óptima encontrada:\n",
            "Brownies (x1): 0.0 unidades\n",
            "Helado (x2): 2.9999999999999996 unidades\n",
            "Cola (x3): 1.0 unidades\n",
            "Tarta de queso (x4): 0.0 unidades\n",
            "Costo mínimo: $0.90\n"
          ]
        },
        {
          "output_type": "stream",
          "name": "stderr",
          "text": [
            "<ipython-input-4-51f4bd804065>:26: DeprecationWarning: `method='simplex'` is deprecated and will be removed in SciPy 1.11.0. Please use one of the HiGHS solvers (e.g. `method='highs'`) in new code.\n",
            "  result = linprog(c, A_ub=A_ub, b_ub=b_ub, bounds=bounds, method='simplex')\n"
          ]
        }
      ],
      "source": [
        "from scipy.optimize import linprog\n",
        "\n",
        "# Coeficientes de la función objetivo (minimizar 0.50x1 + 0.20x2 + 0.30x3 + 0.80x4)\n",
        "c = [0.50, 0.20, 0.30, 0.80]\n",
        "\n",
        "# Coeficientes de las restricciones de desigualdad (lado izquierdo)\n",
        "A_ub = [\n",
        "    [-400, -200, -150, -500],  # Calorías (>= 500)\n",
        "    [-3, -2, 0, 0],            # Chocolate (>= 6)\n",
        "    [-2, -2, -4, -4],          # Azúcar (>= 10)\n",
        "    [-2, -4, -1, -5]           # Grasa (>= 8)\n",
        "]\n",
        "\n",
        "# Lado derecho de las restricciones de desigualdad\n",
        "b_ub = [-500, -6, -10, -8]\n",
        "\n",
        "# Restricciones de no negatividad (x1, x2, x3, x4 >= 0)\n",
        "bounds = [\n",
        "    (0, None),  # x1 >= 0\n",
        "    (0, None),  # x2 >= 0\n",
        "    (0, None),  # x3 >= 0\n",
        "    (0, None)   # x4 >= 0\n",
        "]\n",
        "\n",
        "# Resolver el problema usando el método simplex\n",
        "result = linprog(c, A_ub=A_ub, b_ub=b_ub, bounds=bounds, method='simplex')\n",
        "\n",
        "# Mostrar los resultados\n",
        "if result.success:\n",
        "    print(\"Solución óptima encontrada:\")\n",
        "    print(f\"Brownies (x1): {result.x[0]} unidades\")\n",
        "    print(f\"Helado (x2): {result.x[1]} unidades\")\n",
        "    print(f\"Cola (x3): {result.x[2]} unidades\")\n",
        "    print(f\"Tarta de queso (x4): {result.x[3]} unidades\")\n",
        "    print(f\"Costo mínimo: ${result.fun:.2f}\")\n",
        "else:\n",
        "    print(\"No se encontró una solución óptima.\")"
      ]
    },
    {
      "cell_type": "markdown",
      "source": [
        "# Punto 2 Maximisa dinero"
      ],
      "metadata": {
        "id": "rshT9BpK48wm"
      }
    },
    {
      "cell_type": "code",
      "source": [
        "from scipy.optimize import linprog\n",
        "\n",
        "# Coeficientes de la función objetivo (maximizar 6x1 + 10x2 + 4.5x3)\n",
        "# Como linprog minimiza, multiplicamos por -1 para maximizar\n",
        "c = [-6, -10, -4.5]\n",
        "\n",
        "# Coeficientes de las restricciones de desigualdad (lado izquierdo)\n",
        "A_ub = [\n",
        "    [1/10, 1/5, 1/15],    # Cocción\n",
        "    [1/20, 1/15, 1/25],   # Empaquetado\n",
        "    [1/30, 1/15, 1/30]    # Entrega\n",
        "]\n",
        "\n",
        "# Lado derecho de las restricciones de desigualdad\n",
        "b_ub = [4, 2, 2]\n",
        "\n",
        "# Restricciones de demanda mínima (x1 >= 20, x2 >= 10, x3 >= 30)\n",
        "bounds = [\n",
        "    (20, None),  # x1 >= 20\n",
        "    (10, None),  # x2 >= 10\n",
        "    (30, None)   # x3 >= 30\n",
        "]\n",
        "\n",
        "# Resolver el problema usando el método simplex\n",
        "result = linprog(c, A_ub=A_ub, b_ub=b_ub, bounds=bounds, method='simplex')\n",
        "\n",
        "# Mostrar los resultados\n",
        "if result.success:\n",
        "    print(\"Solución óptima encontrada:\")\n",
        "    print(f\"Hummus (x1): {result.x[0]} porciones\")\n",
        "    print(f\"Moussaka (x2): {result.x[1]} porciones\")\n",
        "    print(f\"Tabouleh (x3): {result.x[2]} porciones\")\n",
        "    print(f\"Ganancia máxima: ${-result.fun:.2f}\")\n",
        "else:\n",
        "    print(\"No se encontró una solución óptima.\")"
      ],
      "metadata": {
        "colab": {
          "base_uri": "https://localhost:8080/"
        },
        "id": "a9Z9ixNl5GIX",
        "outputId": "ca63df77-f9a7-4f05-a779-60ce66068351"
      },
      "execution_count": null,
      "outputs": [
        {
          "output_type": "stream",
          "name": "stdout",
          "text": [
            "No se encontró una solución óptima.\n"
          ]
        },
        {
          "output_type": "stream",
          "name": "stderr",
          "text": [
            "<ipython-input-5-8fda9afa45d7>:25: DeprecationWarning: `method='simplex'` is deprecated and will be removed in SciPy 1.11.0. Please use one of the HiGHS solvers (e.g. `method='highs'`) in new code.\n",
            "  result = linprog(c, A_ub=A_ub, b_ub=b_ub, bounds=bounds, method='simplex')\n"
          ]
        }
      ]
    },
    {
      "cell_type": "markdown",
      "source": [
        "# Punto 3 Cuadro magico"
      ],
      "metadata": {
        "id": "hEkiQqHO5MBu"
      }
    },
    {
      "cell_type": "code",
      "source": [
        "!pip install ortools"
      ],
      "metadata": {
        "colab": {
          "base_uri": "https://localhost:8080/"
        },
        "id": "1FsDu-fS81DM",
        "outputId": "32600183-6f29-4f20-9111-19c5bf3b5fdc"
      },
      "execution_count": null,
      "outputs": [
        {
          "output_type": "stream",
          "name": "stdout",
          "text": [
            "Collecting ortools\n",
            "  Downloading ortools-9.12.4544-cp311-cp311-manylinux_2_27_x86_64.manylinux_2_28_x86_64.whl.metadata (3.3 kB)\n",
            "Collecting absl-py>=2.0.0 (from ortools)\n",
            "  Downloading absl_py-2.1.0-py3-none-any.whl.metadata (2.3 kB)\n",
            "Requirement already satisfied: numpy>=1.13.3 in /usr/local/lib/python3.11/dist-packages (from ortools) (1.26.4)\n",
            "Requirement already satisfied: pandas>=2.0.0 in /usr/local/lib/python3.11/dist-packages (from ortools) (2.2.2)\n",
            "Collecting protobuf<5.30,>=5.29.3 (from ortools)\n",
            "  Downloading protobuf-5.29.3-cp38-abi3-manylinux2014_x86_64.whl.metadata (592 bytes)\n",
            "Requirement already satisfied: immutabledict>=3.0.0 in /usr/local/lib/python3.11/dist-packages (from ortools) (4.2.1)\n",
            "Requirement already satisfied: python-dateutil>=2.8.2 in /usr/local/lib/python3.11/dist-packages (from pandas>=2.0.0->ortools) (2.8.2)\n",
            "Requirement already satisfied: pytz>=2020.1 in /usr/local/lib/python3.11/dist-packages (from pandas>=2.0.0->ortools) (2025.1)\n",
            "Requirement already satisfied: tzdata>=2022.7 in /usr/local/lib/python3.11/dist-packages (from pandas>=2.0.0->ortools) (2025.1)\n",
            "Requirement already satisfied: six>=1.5 in /usr/local/lib/python3.11/dist-packages (from python-dateutil>=2.8.2->pandas>=2.0.0->ortools) (1.17.0)\n",
            "Downloading ortools-9.12.4544-cp311-cp311-manylinux_2_27_x86_64.manylinux_2_28_x86_64.whl (24.9 MB)\n",
            "\u001b[2K   \u001b[90m━━━━━━━━━━━━━━━━━━━━━━━━━━━━━━━━━━━━━━━━\u001b[0m \u001b[32m24.9/24.9 MB\u001b[0m \u001b[31m71.1 MB/s\u001b[0m eta \u001b[36m0:00:00\u001b[0m\n",
            "\u001b[?25hDownloading absl_py-2.1.0-py3-none-any.whl (133 kB)\n",
            "\u001b[2K   \u001b[90m━━━━━━━━━━━━━━━━━━━━━━━━━━━━━━━━━━━━━━━━\u001b[0m \u001b[32m133.7/133.7 kB\u001b[0m \u001b[31m11.5 MB/s\u001b[0m eta \u001b[36m0:00:00\u001b[0m\n",
            "\u001b[?25hDownloading protobuf-5.29.3-cp38-abi3-manylinux2014_x86_64.whl (319 kB)\n",
            "\u001b[2K   \u001b[90m━━━━━━━━━━━━━━━━━━━━━━━━━━━━━━━━━━━━━━━━\u001b[0m \u001b[32m319.7/319.7 kB\u001b[0m \u001b[31m24.1 MB/s\u001b[0m eta \u001b[36m0:00:00\u001b[0m\n",
            "\u001b[?25hInstalling collected packages: protobuf, absl-py, ortools\n",
            "  Attempting uninstall: protobuf\n",
            "    Found existing installation: protobuf 4.25.6\n",
            "    Uninstalling protobuf-4.25.6:\n",
            "      Successfully uninstalled protobuf-4.25.6\n",
            "  Attempting uninstall: absl-py\n",
            "    Found existing installation: absl-py 1.4.0\n",
            "    Uninstalling absl-py-1.4.0:\n",
            "      Successfully uninstalled absl-py-1.4.0\n",
            "Successfully installed absl-py-2.1.0 ortools-9.12.4544 protobuf-5.29.3\n"
          ]
        }
      ]
    },
    {
      "cell_type": "code",
      "source": [
        "import ortools\n",
        "print(ortools.__version__)"
      ],
      "metadata": {
        "colab": {
          "base_uri": "https://localhost:8080/"
        },
        "id": "8H-lS3y385rq",
        "outputId": "a0cedc5c-ebd6-45c8-aba3-f7734721a262"
      },
      "execution_count": null,
      "outputs": [
        {
          "output_type": "stream",
          "name": "stdout",
          "text": [
            "9.12.4544\n"
          ]
        }
      ]
    },
    {
      "cell_type": "code",
      "source": [
        "!pip install pulp"
      ],
      "metadata": {
        "colab": {
          "base_uri": "https://localhost:8080/"
        },
        "id": "DiOo39E3ANjc",
        "outputId": "49afb42b-0f69-43bf-aca4-2d1f16468404"
      },
      "execution_count": null,
      "outputs": [
        {
          "output_type": "stream",
          "name": "stdout",
          "text": [
            "Collecting pulp\n",
            "  Downloading PuLP-3.0.2-py3-none-any.whl.metadata (6.7 kB)\n",
            "Downloading PuLP-3.0.2-py3-none-any.whl (17.7 MB)\n",
            "\u001b[2K   \u001b[90m━━━━━━━━━━━━━━━━━━━━━━━━━━━━━━━━━━━━━━━━\u001b[0m \u001b[32m17.7/17.7 MB\u001b[0m \u001b[31m70.1 MB/s\u001b[0m eta \u001b[36m0:00:00\u001b[0m\n",
            "\u001b[?25hInstalling collected packages: pulp\n",
            "Successfully installed pulp-3.0.2\n"
          ]
        }
      ]
    },
    {
      "cell_type": "code",
      "source": [
        "# Inicio:\n",
        "print(\"CUADRO MÁGICO\")\n",
        "tamano = int(input(\"Ingrese el tamaño del Cuadro impar: \"))\n",
        "\n",
        "# Verificar que el tamaño sea impar\n",
        "if tamano % 2 == 0:\n",
        "    print(\"El tamaño debe ser un número impar.\")\n",
        "    exit()\n",
        "\n",
        "# Cálculo de la constante mágica\n",
        "magia = tamano * (pow(tamano, 2) + 1) // 2\n",
        "print(\"El número mágico es:\", magia)\n",
        "\n",
        "# Inicialización del cuadro mágico\n",
        "centro = tamano // 2\n",
        "cuadro = [[0 for _ in range(tamano)] for _ in range(tamano)]\n",
        "cuadro[0][centro] = 1\n",
        "\n",
        "# Variables:\n",
        "num = 1\n",
        "fila = 0\n",
        "columna = centro\n",
        "\n",
        "# Proceso:\n",
        "for _ in range((tamano * tamano) - 1):\n",
        "    num += 1\n",
        "    ubifila, ubicolumna = fila, columna\n",
        "    fila -= 1\n",
        "    columna -= 1\n",
        "\n",
        "    # Ajustar la posición si sale de los límites\n",
        "    if fila < 0:\n",
        "        fila = tamano - 1\n",
        "    if columna < 0:\n",
        "        columna = tamano - 1\n",
        "\n",
        "    # Llenado del cuadro\n",
        "    if cuadro[fila][columna] == 0:\n",
        "        cuadro[fila][columna] = num\n",
        "    else:\n",
        "        fila = ubifila + 1\n",
        "        columna = ubicolumna\n",
        "        cuadro[fila][columna] = num\n",
        "\n",
        "# Impresión del cuadro mágico\n",
        "for fila in cuadro:\n",
        "    print(\" \".join(str(num) for num in fila))"
      ],
      "metadata": {
        "colab": {
          "base_uri": "https://localhost:8080/"
        },
        "id": "J-la0bru5UoX",
        "outputId": "33bbe7be-cf9f-4104-cb31-3c6a94731e7a"
      },
      "execution_count": null,
      "outputs": [
        {
          "output_type": "stream",
          "name": "stdout",
          "text": [
            "CUADRO MÁGICO\n",
            "Ingrese el tamaño del Cuadro impar: 3\n",
            "El número mágico es: 15\n",
            "6 1 8\n",
            "7 5 3\n",
            "2 9 4\n"
          ]
        }
      ]
    },
    {
      "cell_type": "markdown",
      "source": [
        "# Punto 4 problema de envios"
      ],
      "metadata": {
        "id": "LeMT7g1q5W8u"
      }
    },
    {
      "cell_type": "code",
      "source": [
        "from scipy.optimize import linprog\n",
        "\n",
        "# Coeficientes de la función objetivo (costos de envío)\n",
        "c = [1.00, 3.00, 0.50, 4.00, 2.50, 5.00, 1.50, 2.50]\n",
        "\n",
        "# Coeficientes de las restricciones de desigualdad (lado izquierdo)\n",
        "A_ub = [\n",
        "    [1, 1, 1, 1, 0, 0, 0, 0],  # Restricción de disponibilidad en Warehouse 1\n",
        "    [0, 0, 0, 0, 1, 1, 1, 1],  # Restricción de disponibilidad en Warehouse 2\n",
        "    [-1, 0, 0, 0, -1, 0, 0, 0],  # Restricción de demanda de Customer 1\n",
        "    [0, -1, 0, 0, 0, -1, 0, 0],  # Restricción de demanda de Customer 2\n",
        "    [0, 0, -1, 0, 0, 0, -1, 0],  # Restricción de demanda de Customer 3\n",
        "    [0, 0, 0, -1, 0, 0, 0, -1]   # Restricción de demanda de Customer 4\n",
        "]\n",
        "\n",
        "# Lado derecho de las restricciones de desigualdad\n",
        "b_ub = [60000, 80000, -35000, -22000, -18000, -30000]\n",
        "\n",
        "# Límites de las variables (no negatividad)\n",
        "bounds = [(0, None)] * 8  # 8 variables, todas >= 0\n",
        "\n",
        "# Resolver el problema usando el método simplex\n",
        "result = linprog(c, A_ub=A_ub, b_ub=b_ub, bounds=bounds, method='simplex')\n",
        "\n",
        "# Mostrar los resultados\n",
        "if result.success:\n",
        "    print(\"Solución óptima encontrada:\")\n",
        "    print(f\"Envíos desde Warehouse 1 a Customer 1: {result.x[0]:.2f}\")\n",
        "    print(f\"Envíos desde Warehouse 1 a Customer 2: {result.x[1]:.2f}\")\n",
        "    print(f\"Envíos desde Warehouse 1 a Customer 3: {result.x[2]:.2f}\")\n",
        "    print(f\"Envíos desde Warehouse 1 a Customer 4: {result.x[3]:.2f}\")\n",
        "    print(f\"Envíos desde Warehouse 2 a Customer 1: {result.x[4]:.2f}\")\n",
        "    print(f\"Envíos desde Warehouse 2 a Customer 2: {result.x[5]:.2f}\")\n",
        "    print(f\"Envíos desde Warehouse 2 a Customer 3: {result.x[6]:.2f}\")\n",
        "    print(f\"Envíos desde Warehouse 2 a Customer 4: {result.x[7]:.2f}\")\n",
        "    print(f\"Costo mínimo: ${result.fun:.2f}\")\n",
        "else:\n",
        "    print(\"No se encontró una solución óptima.\")"
      ],
      "metadata": {
        "colab": {
          "base_uri": "https://localhost:8080/"
        },
        "id": "5HjvCFoq5dre",
        "outputId": "acdd76f8-ef0f-4a1d-cd83-1ea989dcc6fb"
      },
      "execution_count": null,
      "outputs": [
        {
          "output_type": "stream",
          "name": "stdout",
          "text": [
            "Solución óptima encontrada:\n",
            "Envíos desde Warehouse 1 a Customer 1: 35000.00\n",
            "Envíos desde Warehouse 1 a Customer 2: 22000.00\n",
            "Envíos desde Warehouse 1 a Customer 3: 3000.00\n",
            "Envíos desde Warehouse 1 a Customer 4: 0.00\n",
            "Envíos desde Warehouse 2 a Customer 1: 0.00\n",
            "Envíos desde Warehouse 2 a Customer 2: 0.00\n",
            "Envíos desde Warehouse 2 a Customer 3: 15000.00\n",
            "Envíos desde Warehouse 2 a Customer 4: 30000.00\n",
            "Costo mínimo: $200000.00\n"
          ]
        },
        {
          "output_type": "stream",
          "name": "stderr",
          "text": [
            "<ipython-input-8-a60df36ef9fe>:23: DeprecationWarning: `method='simplex'` is deprecated and will be removed in SciPy 1.11.0. Please use one of the HiGHS solvers (e.g. `method='highs'`) in new code.\n",
            "  result = linprog(c, A_ub=A_ub, b_ub=b_ub, bounds=bounds, method='simplex')\n"
          ]
        }
      ]
    }
  ]
}