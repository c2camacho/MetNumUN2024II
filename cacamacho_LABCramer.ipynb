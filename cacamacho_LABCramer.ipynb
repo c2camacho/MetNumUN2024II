{
  "nbformat": 4,
  "nbformat_minor": 0,
  "metadata": {
    "colab": {
      "provenance": [],
      "include_colab_link": true
    },
    "kernelspec": {
      "name": "python3",
      "display_name": "Python 3"
    },
    "language_info": {
      "name": "python"
    }
  },
  "cells": [
    {
      "cell_type": "markdown",
      "metadata": {
        "id": "view-in-github",
        "colab_type": "text"
      },
      "source": [
        "<a href=\"https://colab.research.google.com/github/c2camacho/MetNumUN2024II/blob/main/cacamacho_LABCramer.ipynb\" target=\"_parent\"><img src=\"https://colab.research.google.com/assets/colab-badge.svg\" alt=\"Open In Colab\"/></a>"
      ]
    },
    {
      "cell_type": "markdown",
      "source": [
        "### Cramer by hand\n",
        "\n",
        "$$A = \\left[\n",
        "  \\begin{array}{cc}\n",
        "1 & 2\\\\\n",
        "3 & 4\n",
        "\\end{array}\n",
        "\\right],  \n",
        "b= \\left[\n",
        "\\begin{array}{c}\n",
        "5\\\\\n",
        "6\n",
        "\\end{array}\n",
        "\\right]\n",
        "$$\n",
        "$$\n",
        "Ax =B\n",
        "$$\n",
        "$$  \n",
        "\\left[\n",
        "  \\begin{array}{cc}\n",
        "1 & 2\\\\\n",
        "3 & 4\n",
        "\\end{array}\n",
        "\\right]\n",
        "\\left[\n",
        "\\begin{array}{c}\n",
        "x_1\\\\\n",
        "x_2\n",
        "\\end{array}\n",
        "\\right]  \n",
        "=\n",
        "\\left[\n",
        "\\begin{array}{c}\n",
        "5\\\\\n",
        "6\n",
        "\\end{array}\n",
        "\\right]\n",
        "$$\n",
        "\n",
        "$$Det\\ A =  (1 * 4) - (3 * 2)  = 4 - 6 = -2$$\n",
        "\n",
        "$$A_1 = \\left[\n",
        "  \\begin{array}{cc}\n",
        "5 & 2\\\\\n",
        "6 & 4\n",
        "\\end{array}\n",
        "\\right]\n",
        "$$\n",
        "\n",
        "$$Det\\ A_1 = (5 * 4) - (6 * 2) = 20 - 12 =  8$$\n",
        "\n",
        "$$x_1 =  \\frac{Det\\ A_1}{Det\\ A}= \\frac{8}{-2} =  -4$$\n",
        "\n",
        "$$A_2 = \\left[\n",
        "  \\begin{array}{cc}\n",
        "1 & 5\\\\\n",
        "3 & 6\n",
        "\\end{array}\n",
        "\\right]\n",
        "$$\n",
        "\n",
        "$$Det\\ A_2 = (1*6) - (3*5)  = 6 -15 = -9$$\n",
        "\n",
        "$$x_2 = \\frac{Det\\ A_2}{Det\\ A}= \\frac{-9}{-2} =  \\frac{9}{2}$$"
      ],
      "metadata": {
        "id": "SUmNm2PmfHU7"
      }
    },
    {
      "cell_type": "markdown",
      "source": [
        "- ***Adding a single digit to any number requires about 7.30 bits of processing.*** - World Mental Calculation: News and Resources for Competitive and Advanced Mental Calculation https://worldmentalcalculation.com/2019/06/30/fastest-possible-processing-speed-of-the-human-brain/\n",
        "\n",
        "- ***The human brain can process 11 million bits of information every second. But our conscious minds can handle only 40 to 50 bits of information a second.*** - Understanding Unconscious Bias https://www.npr.org/2020/07/14/891140598/understanding-unconscious-bias\n",
        "\n",
        "- ***A new way to analyze human reaction times shows that the brain processes data no faster than 60 bits per second.***- New Measure of Human Brain Processing Speed https://www.technologyreview.com/2009/08/25/210267/new-measure-of-human-brain-processing-speed/\n",
        "\n",
        "\n"
      ],
      "metadata": {
        "id": "3rH8z64pk2XV"
      }
    },
    {
      "cell_type": "markdown",
      "source": [
        "# Number of operations to compute a determinant by cofactor expasion\n",
        "- Cofactor expansion https://people.math.carleton.ca/~kcheung/math/notes/MATH1107/07/07_cofactor_expansion.html\n",
        "## Definition of A(i∣j)\n",
        "Let $A$ be an $n\\times n$ matrix. Let $i,j \\in \\{1,…,n\\}$. We define $A(i∣j)$  to be the matrix obtained from $A$ by removing row $i$ and column $j$ from $A$.\n",
        "\n",
        "## Cofactor formula\n",
        "One way of computing the determinant of an $n\\times n$  matrix\n",
        "\n",
        "$$A = \\left[\n",
        "  \\begin{array}{cccc}\n",
        "a_{11} & a_{12} & \\cdots & a_{1n}\\\\\n",
        "a_{21} & a_{22} & \\cdots & a_{2n}\\\\\n",
        "\\vdots  & \\vdots & \\ddots & \\vdots\\\\\n",
        "a_{n1} & a_{n2} & \\cdots & a_{nn}\\\\\n",
        "\\end{array}\n",
        "\\right]\n",
        "$$\n",
        "is to use the following formula called the cofactor formula.\n",
        "\n",
        "Pick either any $i\\ \\in \\{1,…,n\\}$ (fixed row) or $i\\ \\in \\{1,…,n\\}$ (fixed column). Then\n",
        "\n",
        "$$\\det(A)  = \\sum_{j=1}^n (-1)^{i+j}a_{ij} \\det(A(i∣j)) $$\n",
        "\n",
        "\n",
        "$C_{i,j}= (-1)^{i+j}a_{ij} \\det(A(i∣j))$ is called a cofactor of $A$.\n",
        "\n",
        "$$\\det(A)  = \\sum_{j=1}^n C_{i,j} $$\n",
        "\n"
      ],
      "metadata": {
        "id": "CgrSIpDOnaGQ"
      }
    },
    {
      "cell_type": "code",
      "source": [
        "# Code from https://stackoverflow.com/questions/16510111/computing-determinant-of-a-matrix-nxn-recursively\n",
        "\n",
        "import numpy as np\n",
        "\n",
        "def smaller_matrix(original_matrix,row, column):\n",
        "    for ii in range(len(original_matrix)):\n",
        "        new_matrix=np.delete(original_matrix,ii,0)\n",
        "        new_matrix=np.delete(new_matrix,column,1)\n",
        "        return new_matrix\n",
        "\n",
        "\n",
        "def determinant(matrix):\n",
        "    \"\"\"Returns a determinant of a matrix by recursive method.\"\"\"\n",
        "    (r,c) = matrix.shape\n",
        "    if r != c:\n",
        "        print(\"Error!Not a square matrix!\")\n",
        "        return None\n",
        "    elif r==2:\n",
        "        simple_determinant = matrix[0][0]*matrix[1][1]-matrix[0][1]*matrix[1][0]\n",
        "        return simple_determinant\n",
        "    else:\n",
        "        answer=0\n",
        "        for j in range(r):\n",
        "            cofactor = (-1)**(0+j) * matrix[0][j] * determinant(smaller_matrix(matrix, 0, j))\n",
        "            answer+= cofactor\n",
        "        return answer"
      ],
      "metadata": {
        "id": "J-joKRBhC7eF"
      },
      "execution_count": 1,
      "outputs": []
    },
    {
      "cell_type": "code",
      "source": [
        "#test the function\n",
        "#Only works for numpy.array input\n",
        "np.random.seed(1)"
      ],
      "metadata": {
        "id": "Il2pcRD4DptG"
      },
      "execution_count": 2,
      "outputs": []
    },
    {
      "cell_type": "code",
      "source": [
        "n = 2\n",
        "matrix=np.random.randint(-5,5,size=(n,n))\n",
        "matrix"
      ],
      "metadata": {
        "colab": {
          "base_uri": "https://localhost:8080/"
        },
        "id": "AgKC1-aiFRW2",
        "outputId": "c4229e06-0309-4f56-f184-8a2464cf9080"
      },
      "execution_count": 3,
      "outputs": [
        {
          "output_type": "execute_result",
          "data": {
            "text/plain": [
              "array([[0, 3],\n",
              "       [4, 0]])"
            ]
          },
          "metadata": {},
          "execution_count": 3
        }
      ]
    },
    {
      "cell_type": "code",
      "source": [
        "determinant(matrix)"
      ],
      "metadata": {
        "colab": {
          "base_uri": "https://localhost:8080/"
        },
        "outputId": "c6ae9d73-d1fb-48bc-d902-628497457699",
        "id": "oI0rUp-SDptH"
      },
      "execution_count": 4,
      "outputs": [
        {
          "output_type": "execute_result",
          "data": {
            "text/plain": [
              "-12"
            ]
          },
          "metadata": {},
          "execution_count": 4
        }
      ]
    },
    {
      "cell_type": "code",
      "source": [
        "np.linalg.det(matrix)"
      ],
      "metadata": {
        "colab": {
          "base_uri": "https://localhost:8080/"
        },
        "id": "iqZv7iK-KKXH",
        "outputId": "746ff06e-4f11-44ad-dc8b-82cd00ed782b"
      },
      "execution_count": 5,
      "outputs": [
        {
          "output_type": "execute_result",
          "data": {
            "text/plain": [
              "-12.0"
            ]
          },
          "metadata": {},
          "execution_count": 5
        }
      ]
    },
    {
      "cell_type": "code",
      "source": [
        "round(np.linalg.det(matrix))"
      ],
      "metadata": {
        "colab": {
          "base_uri": "https://localhost:8080/"
        },
        "id": "sY21rHM-KdlO",
        "outputId": "c2c1a827-1f28-4740-ea98-634f72c76344"
      },
      "execution_count": 6,
      "outputs": [
        {
          "output_type": "execute_result",
          "data": {
            "text/plain": [
              "-12"
            ]
          },
          "metadata": {},
          "execution_count": 6
        }
      ]
    },
    {
      "cell_type": "code",
      "source": [
        "n = 5\n",
        "matrix=np.diag(np.random.randint(-10,10,size=(n)))\n",
        "matrix"
      ],
      "metadata": {
        "colab": {
          "base_uri": "https://localhost:8080/"
        },
        "id": "-QXGZWFIDs5k",
        "outputId": "df4b7a37-7f94-4b6e-b925-bf5697fc2e3e"
      },
      "execution_count": 7,
      "outputs": [
        {
          "output_type": "execute_result",
          "data": {
            "text/plain": [
              "array([[  5,   0,   0,   0,   0],\n",
              "       [  0, -10,   0,   0,   0],\n",
              "       [  0,   0,   6,   0,   0],\n",
              "       [  0,   0,   0,  -9,   0],\n",
              "       [  0,   0,   0,   0,   2]])"
            ]
          },
          "metadata": {},
          "execution_count": 7
        }
      ]
    },
    {
      "cell_type": "code",
      "source": [
        "determinant(matrix)"
      ],
      "metadata": {
        "colab": {
          "base_uri": "https://localhost:8080/"
        },
        "id": "VP6hRwhwD-3W",
        "outputId": "aa060f45-c8d4-4044-d9c2-d13ab508dc7a"
      },
      "execution_count": 8,
      "outputs": [
        {
          "output_type": "execute_result",
          "data": {
            "text/plain": [
              "5400"
            ]
          },
          "metadata": {},
          "execution_count": 8
        }
      ]
    },
    {
      "cell_type": "code",
      "source": [
        "np.linalg.det(matrix)"
      ],
      "metadata": {
        "colab": {
          "base_uri": "https://localhost:8080/"
        },
        "id": "8NV7Zvp-KtRz",
        "outputId": "cf2bdcaa-e61c-4799-c672-12b3a21d1ec1"
      },
      "execution_count": 9,
      "outputs": [
        {
          "output_type": "execute_result",
          "data": {
            "text/plain": [
              "5400.000000000003"
            ]
          },
          "metadata": {},
          "execution_count": 9
        }
      ]
    },
    {
      "cell_type": "code",
      "source": [
        "round(np.linalg.det(matrix))"
      ],
      "metadata": {
        "colab": {
          "base_uri": "https://localhost:8080/"
        },
        "id": "HXKK3weLKt5T",
        "outputId": "ef68b2d2-1cf5-480d-dcc0-66d60df9488f"
      },
      "execution_count": 10,
      "outputs": [
        {
          "output_type": "execute_result",
          "data": {
            "text/plain": [
              "5400"
            ]
          },
          "metadata": {},
          "execution_count": 10
        }
      ]
    },
    {
      "cell_type": "code",
      "source": [
        "# Modified from the previous code\n",
        "import numpy as np\n",
        "\n",
        "# A a squared numpy matrix\n",
        "def det(A):\n",
        "    \"\"\"Returns a determinant of a matrix by recursive method.\"\"\"\n",
        "    (r,c) = A.shape\n",
        "    if r != c:\n",
        "        print(\"Error!Not a square matrix!\")\n",
        "        return None\n",
        "    elif r==1:\n",
        "          # the code with  r==2 is more efficient but we use this\n",
        "         # because the number of operations is easier to compute\n",
        "        return A[0][0]\n",
        "    else:\n",
        "        answer=0\n",
        "        for j in range(r):\n",
        "            s = 1 if (0+j)%2 == 0 else -1\n",
        "            Aij = np.delete(A,0,0)\n",
        "            Aij = np.delete(Aij,j,1)\n",
        "            cofactor = (s) * A[0][j] * det(Aij)\n",
        "            answer+= cofactor\n",
        "        return answer"
      ],
      "metadata": {
        "id": "B258g8lnBgnG"
      },
      "execution_count": 11,
      "outputs": []
    },
    {
      "cell_type": "code",
      "source": [
        "#test the function\n",
        "#Only works for numpy.array input\n",
        "np.random.seed(1)"
      ],
      "metadata": {
        "id": "ZR2mjlqiGdM6"
      },
      "execution_count": 12,
      "outputs": []
    },
    {
      "cell_type": "code",
      "source": [
        "n = 2\n",
        "A=np.random.randint(-5,5,size=(n,n))\n",
        "A"
      ],
      "metadata": {
        "colab": {
          "base_uri": "https://localhost:8080/"
        },
        "outputId": "8747f46e-0b06-4158-cf45-2883b04b520e",
        "id": "jPpBCFaoGlak"
      },
      "execution_count": 13,
      "outputs": [
        {
          "output_type": "execute_result",
          "data": {
            "text/plain": [
              "array([[0, 3],\n",
              "       [4, 0]])"
            ]
          },
          "metadata": {},
          "execution_count": 13
        }
      ]
    },
    {
      "cell_type": "code",
      "source": [
        "det(A)"
      ],
      "metadata": {
        "colab": {
          "base_uri": "https://localhost:8080/"
        },
        "outputId": "a6793268-2627-4e2b-c6ff-970b3ad0a874",
        "id": "WKbuirZeGlak"
      },
      "execution_count": 14,
      "outputs": [
        {
          "output_type": "execute_result",
          "data": {
            "text/plain": [
              "-12"
            ]
          },
          "metadata": {},
          "execution_count": 14
        }
      ]
    },
    {
      "cell_type": "code",
      "source": [
        "determinant(A)"
      ],
      "metadata": {
        "colab": {
          "base_uri": "https://localhost:8080/"
        },
        "id": "_B5xBFirTvQm",
        "outputId": "1afa3f47-a8f2-491d-a37b-1d4912fcf795"
      },
      "execution_count": 15,
      "outputs": [
        {
          "output_type": "execute_result",
          "data": {
            "text/plain": [
              "-12"
            ]
          },
          "metadata": {},
          "execution_count": 15
        }
      ]
    },
    {
      "cell_type": "code",
      "source": [
        "np.linalg.det(A)"
      ],
      "metadata": {
        "colab": {
          "base_uri": "https://localhost:8080/"
        },
        "outputId": "3de0274a-420a-4fd3-d87e-b2edbdff21a7",
        "id": "bRyF2dsFLbXC"
      },
      "execution_count": 16,
      "outputs": [
        {
          "output_type": "execute_result",
          "data": {
            "text/plain": [
              "-12.0"
            ]
          },
          "metadata": {},
          "execution_count": 16
        }
      ]
    },
    {
      "cell_type": "code",
      "source": [
        "round(np.linalg.det(A))"
      ],
      "metadata": {
        "colab": {
          "base_uri": "https://localhost:8080/"
        },
        "outputId": "aca285ad-71c3-4eda-e741-2da4529d5fab",
        "id": "sOe1w9FPLbXD"
      },
      "execution_count": 17,
      "outputs": [
        {
          "output_type": "execute_result",
          "data": {
            "text/plain": [
              "-12"
            ]
          },
          "metadata": {},
          "execution_count": 17
        }
      ]
    },
    {
      "cell_type": "code",
      "source": [
        "n = 10\n",
        "\n",
        "A=np.random.randint(-10,10,size=(n,n))\n",
        "\n",
        "A"
      ],
      "metadata": {
        "colab": {
          "base_uri": "https://localhost:8080/"
        },
        "outputId": "dc48ec2a-b4ab-4a1b-eb0a-9618f1edcd9f",
        "id": "jzFX1soHGlak"
      },
      "execution_count": 18,
      "outputs": [
        {
          "output_type": "execute_result",
          "data": {
            "text/plain": [
              "array([[  5, -10,   6,  -9,   2,  -3,   3,  -4,   8,  -5],\n",
              "       [  8,   1,   0,   4,   8,  -6,  -1,   7, -10,   3],\n",
              "       [ -1,  -1,  -3,  -9, -10,   7,  -2,   3,   9,   5],\n",
              "       [  0,  -2,  -3,  -7,  -4,   7,  -7,  -6,   7,   1],\n",
              "       [  2,   6,   3,   9,  -1,   8,   5, -10,  -6,   5],\n",
              "       [ -8,  -3,  -2,  -1,  -7,  -3,  -6,  -5,   9,  -4],\n",
              "       [ -2, -10,  -8,   0,   5,   5,  -3,   9,   0,   4],\n",
              "       [-10,  -9,   7,   3,  -7, -10,   3,  -4,  -4,  -8],\n",
              "       [  2,   1,  -3,   3,  -2,   1,   2,   1,  -6,  -3],\n",
              "       [ -3,   3,  -6,   6,   8, -10,   3,   0,   7,  -3]])"
            ]
          },
          "metadata": {},
          "execution_count": 18
        }
      ]
    },
    {
      "cell_type": "code",
      "source": [
        "import time\n",
        "\n",
        "start_time = time.time()\n",
        "d = det(A)\n",
        "end_time = time.time()"
      ],
      "metadata": {
        "id": "I97qAqxGGlak"
      },
      "execution_count": 19,
      "outputs": []
    },
    {
      "cell_type": "code",
      "source": [
        "print(\"det(A): \",d)\n",
        "print(\"time: \",end_time - start_time)"
      ],
      "metadata": {
        "colab": {
          "base_uri": "https://localhost:8080/"
        },
        "id": "s7Ud-gBiTD0n",
        "outputId": "fea2df0f-1f84-4471-f9fc-103a18272de6"
      },
      "execution_count": 20,
      "outputs": [
        {
          "output_type": "stream",
          "name": "stdout",
          "text": [
            "det(A):  29129065307\n",
            "time:  91.62609791755676\n"
          ]
        }
      ]
    },
    {
      "cell_type": "code",
      "source": [
        "import time\n",
        "\n",
        "start_time = time.time()\n",
        "d = determinant(A)\n",
        "end_time = time.time()"
      ],
      "metadata": {
        "id": "kjLXFQOeTRd2"
      },
      "execution_count": 21,
      "outputs": []
    },
    {
      "cell_type": "code",
      "source": [
        "print(\"determinant(A): \",d)\n",
        "print(\"time: \",end_time - start_time)"
      ],
      "metadata": {
        "colab": {
          "base_uri": "https://localhost:8080/"
        },
        "id": "_TQFWy4ZSiDZ",
        "outputId": "aa1168d6-c7f8-4d6e-b168-58b69b9d14e1"
      },
      "execution_count": 22,
      "outputs": [
        {
          "output_type": "stream",
          "name": "stdout",
          "text": [
            "determinant(A):  29129065307\n",
            "time:  29.186748504638672\n"
          ]
        }
      ]
    },
    {
      "cell_type": "code",
      "source": [
        "import time\n",
        "\n",
        "start_time = time.time()\n",
        "d = np.linalg.det(A)\n",
        "end_time = time.time()"
      ],
      "metadata": {
        "id": "jL23i77VT55-"
      },
      "execution_count": 23,
      "outputs": []
    },
    {
      "cell_type": "code",
      "source": [
        "print(\"np.linalg.det(A): \",d)\n",
        "print(\"time: \",end_time - start_time)"
      ],
      "metadata": {
        "colab": {
          "base_uri": "https://localhost:8080/"
        },
        "id": "n94nx14VT5wn",
        "outputId": "8f21cae5-67a5-4482-c349-5d21cc9490d1"
      },
      "execution_count": 24,
      "outputs": [
        {
          "output_type": "stream",
          "name": "stdout",
          "text": [
            "np.linalg.det(A):  29129065306.99992\n",
            "time:  0.0002453327178955078\n"
          ]
        }
      ]
    },
    {
      "cell_type": "markdown",
      "source": [
        "# Estimating the time by instruction in Python in a Colab machine"
      ],
      "metadata": {
        "id": "Ssedt2z56DNC"
      }
    },
    {
      "cell_type": "code",
      "source": [
        "import numpy as np\n",
        "\n",
        "n = 100\n",
        "\n",
        "A = np.ones((n,n))\n",
        "\n",
        "A"
      ],
      "metadata": {
        "colab": {
          "base_uri": "https://localhost:8080/"
        },
        "id": "1KhlyeNi4uwa",
        "outputId": "9d713297-58e7-4ff8-9448-475821ef33ab"
      },
      "execution_count": 25,
      "outputs": [
        {
          "output_type": "execute_result",
          "data": {
            "text/plain": [
              "array([[1., 1., 1., ..., 1., 1., 1.],\n",
              "       [1., 1., 1., ..., 1., 1., 1.],\n",
              "       [1., 1., 1., ..., 1., 1., 1.],\n",
              "       ...,\n",
              "       [1., 1., 1., ..., 1., 1., 1.],\n",
              "       [1., 1., 1., ..., 1., 1., 1.],\n",
              "       [1., 1., 1., ..., 1., 1., 1.]])"
            ]
          },
          "metadata": {},
          "execution_count": 25
        }
      ]
    },
    {
      "cell_type": "code",
      "source": [
        "B = np.ones((n,n))\n",
        "\n",
        "B"
      ],
      "metadata": {
        "colab": {
          "base_uri": "https://localhost:8080/"
        },
        "id": "RKtHO3UY5M87",
        "outputId": "2efcfd4d-b8c9-4df0-d1dc-8f43c4b5bb8f"
      },
      "execution_count": 26,
      "outputs": [
        {
          "output_type": "execute_result",
          "data": {
            "text/plain": [
              "array([[1., 1., 1., ..., 1., 1., 1.],\n",
              "       [1., 1., 1., ..., 1., 1., 1.],\n",
              "       [1., 1., 1., ..., 1., 1., 1.],\n",
              "       ...,\n",
              "       [1., 1., 1., ..., 1., 1., 1.],\n",
              "       [1., 1., 1., ..., 1., 1., 1.],\n",
              "       [1., 1., 1., ..., 1., 1., 1.]])"
            ]
          },
          "metadata": {},
          "execution_count": 26
        }
      ]
    },
    {
      "cell_type": "code",
      "source": [
        "import time\n",
        "\n",
        "C= np.zeros((n,n))\n",
        "\n",
        "start_time = time.time()\n",
        "for i in range(n):\n",
        "        for j in range(n):\n",
        "            C[i][j] = 0\n",
        "            for k in range(len(A[0])):\n",
        "                C[i][j] += A[i][k] * B[k][j]\n",
        "end_time = time.time()\n",
        "print(end_time - start_time)"
      ],
      "metadata": {
        "colab": {
          "base_uri": "https://localhost:8080/"
        },
        "id": "0UFSLi-F5P0a",
        "outputId": "7b64166d-e640-4b5c-f87a-547905e8d427"
      },
      "execution_count": 27,
      "outputs": [
        {
          "output_type": "stream",
          "name": "stdout",
          "text": [
            "2.0605621337890625\n"
          ]
        }
      ]
    },
    {
      "cell_type": "code",
      "source": [],
      "metadata": {
        "id": "zQPBTmdMYSqK"
      },
      "execution_count": 27,
      "outputs": []
    },
    {
      "cell_type": "code",
      "source": [
        "C"
      ],
      "metadata": {
        "colab": {
          "base_uri": "https://localhost:8080/"
        },
        "id": "h9zr4Z9P61bs",
        "outputId": "2323c472-6306-441b-de6f-6cc47c1697ef"
      },
      "execution_count": 28,
      "outputs": [
        {
          "output_type": "execute_result",
          "data": {
            "text/plain": [
              "array([[100., 100., 100., ..., 100., 100., 100.],\n",
              "       [100., 100., 100., ..., 100., 100., 100.],\n",
              "       [100., 100., 100., ..., 100., 100., 100.],\n",
              "       ...,\n",
              "       [100., 100., 100., ..., 100., 100., 100.],\n",
              "       [100., 100., 100., ..., 100., 100., 100.],\n",
              "       [100., 100., 100., ..., 100., 100., 100.]])"
            ]
          },
          "metadata": {},
          "execution_count": 28
        }
      ]
    },
    {
      "cell_type": "code",
      "source": [
        "time_by_oper_python = (end_time - start_time)/(2*n**3 - n**2)\n",
        "\n",
        "time_by_oper_python"
      ],
      "metadata": {
        "colab": {
          "base_uri": "https://localhost:8080/"
        },
        "id": "iEhaMEK77Ko7",
        "outputId": "aa35ae0a-b18b-4dad-e808-bac7b67678e3"
      },
      "execution_count": 29,
      "outputs": [
        {
          "output_type": "execute_result",
          "data": {
            "text/plain": [
              "1.0354583586879712e-06"
            ]
          },
          "metadata": {},
          "execution_count": 29
        }
      ]
    },
    {
      "cell_type": "code",
      "source": [
        "import time\n",
        "import numpy as np\n",
        "\n",
        "start_time = time.time()\n",
        "C = A@B\n",
        "end_time = time.time()\n",
        "print(end_time - start_time)"
      ],
      "metadata": {
        "colab": {
          "base_uri": "https://localhost:8080/"
        },
        "id": "TfGsw6UF9o-a",
        "outputId": "d7bdc7fc-7e1c-401d-ccba-0ffede8492a0"
      },
      "execution_count": 30,
      "outputs": [
        {
          "output_type": "stream",
          "name": "stdout",
          "text": [
            "0.005763530731201172\n"
          ]
        }
      ]
    },
    {
      "cell_type": "code",
      "source": [
        "C"
      ],
      "metadata": {
        "colab": {
          "base_uri": "https://localhost:8080/"
        },
        "id": "Q5MtZtVT93oQ",
        "outputId": "8ac53fc5-6a19-4654-9032-172ab78caf07"
      },
      "execution_count": 31,
      "outputs": [
        {
          "output_type": "execute_result",
          "data": {
            "text/plain": [
              "array([[100., 100., 100., ..., 100., 100., 100.],\n",
              "       [100., 100., 100., ..., 100., 100., 100.],\n",
              "       [100., 100., 100., ..., 100., 100., 100.],\n",
              "       ...,\n",
              "       [100., 100., 100., ..., 100., 100., 100.],\n",
              "       [100., 100., 100., ..., 100., 100., 100.],\n",
              "       [100., 100., 100., ..., 100., 100., 100.]])"
            ]
          },
          "metadata": {},
          "execution_count": 31
        }
      ]
    },
    {
      "cell_type": "code",
      "source": [
        "time_by_oper_numpy = (end_time - start_time)/(2*n**3 - n**2)\n",
        "\n",
        "time_by_oper_numpy"
      ],
      "metadata": {
        "colab": {
          "base_uri": "https://localhost:8080/"
        },
        "id": "DTVYQYxT-TsJ",
        "outputId": "d5a122fc-be9d-4532-833e-add19a07970c"
      },
      "execution_count": 32,
      "outputs": [
        {
          "output_type": "execute_result",
          "data": {
            "text/plain": [
              "2.896246598593554e-09"
            ]
          },
          "metadata": {},
          "execution_count": 32
        }
      ]
    },
    {
      "cell_type": "markdown",
      "source": [
        "# Time estimation for the digital computer computation of a 3 x 3 matrix determinant by cofactor expansion\n",
        "\n",
        "The number of operations $(+,-,*)$ perfomed  *det(A)* algorithm that calculates\n",
        "\n",
        "$$\\det(A)  = \\sum_{j=1}^n (-1)^{i+j}a_{ij} \\det(A(i∣j)) $$\n",
        "\n",
        "is given by\n",
        "\n",
        "$$\\begin{array}{lll}\n",
        "T(n) & =&  nT(n-1) + 5n , T(1) = 1\\\\\n",
        "\\end{array}\n",
        "$$\n",
        "\n",
        "$$\\begin{array}{lll}\n",
        "T(n) & =&  nT(n-1) + 5n\\\\\n",
        "     & =&  n[(n-1) T(n-2) + 5 (n-1) +10] + 5n  \\\\\n",
        "     & =&  n(n-1) T(n-2) + 5 n  (n-1) + 5n \\\\\n",
        "     & =&  n(n-1) [(n-2) T(n-3) + 5 (n-2)] + 5 n(n-1) + 5n\\\\\n",
        "     & = & n(n-1)(n-2) T(n-3) + 5n(n-1)(n-2)+  5 n  (n-1) + 5n \\\\\n",
        "     & \\vdots\\\\\n",
        "     & = &  n(n-1)(n-2)\\cdots (n -(n-2))  T(1) + [5n(n-1)(n-2)(n-3)\\cdots (n -(n-3))] + \\cdots + [5 n (n-1)]+ 5n \\\\\n",
        "    & = & n! + [5n(n-1)(n-2)(n-3)\\cdots 2] + [5n(n-1)(n-2)(n-3)\\cdots 3]+ \\cdots +[5 n (n-1) (n-3)] + [5 n (n-1)]+ 5n  \n",
        "\\end{array}\n",
        "$$\n",
        "\n",
        "$$T(n) = n! + 5 \\sum_{i=0}^{n-1} n!/i! = n! + 5 n!\\sum_{i=0}^{n-1} \\frac{1}{i!} < n! + 5 e n! < 16 n!  $$\n",
        "\n",
        "1. Asumming that an arithmetic operation takes the *time_by_oper_python* estimated before,  what is the maximun square matrix size for which the deteminant can be computed with cofactor extesion in $\\le$ 3 minute. Report the time at [LABCramer](https://docs.google.com/spreadsheets/d/1JNUbuj3QHcyPmp8i6kNreUFucj2mOvKHkCFHHy7zfws/edit?usp=sharing).\n",
        "\n",
        "2. Run an experiment with a random matrix of that size and report the time at [LABCramer](https://docs.google.com/spreadsheets/d/1JNUbuj3QHcyPmp8i6kNreUFucj2mOvKHkCFHHy7zfws/edit?usp=sharing).\n",
        "\n",
        "If the determinant of a $n \\times n$ square matrix takes $16 n!$ operations how much takes the Crammer solution of $n \\times n$ systems of linear equations?\n",
        "\n",
        "\n",
        "\n",
        "\n"
      ],
      "metadata": {
        "id": "PhAai3wzo_Tc"
      }
    },
    {
      "cell_type": "markdown",
      "source": [
        "# Puntos 1 y 2"
      ],
      "metadata": {
        "id": "ka3jGnzr_Z0d"
      }
    },
    {
      "cell_type": "code",
      "source": [
        "import math\n",
        "\n",
        "def cofactor(n):\n",
        "    return math.factorial(n) + 5 * sum(math.factorial(n) // math.factorial(i) for i in range(n))\n",
        "\n",
        "time_by_oper_python = 1.0354583586879712e-06\n",
        "\n",
        "tot = 3 * 60  #180 segundos\n",
        "n = 1\n",
        "t = 0\n",
        "while t < tot:\n",
        "    t = cofactor(n) * time_by_oper_python\n",
        "    n += 1\n",
        "\n",
        "n-=1\n",
        "print(\"max size:\", n-1)\n",
        "print(\"time:\", cofactor(n-1) * time_by_oper_python)"
      ],
      "metadata": {
        "colab": {
          "base_uri": "https://localhost:8080/"
        },
        "id": "CktoMNSn_fI9",
        "outputId": "2fd5dbbe-9571-4ce4-dbb0-ff2cdffe3392"
      },
      "execution_count": 33,
      "outputs": [
        {
          "output_type": "stream",
          "name": "stdout",
          "text": [
            "max size: 10\n",
            "time: 54.82679527167699\n"
          ]
        }
      ]
    },
    {
      "cell_type": "code",
      "source": [
        "import numpy as np\n",
        "import math\n",
        "import time\n",
        "\n",
        "def det_n(matrix):\n",
        "    n = len(matrix)\n",
        "    if n == 1:\n",
        "        return matrix[0, 0]\n",
        "\n",
        "    det = 0\n",
        "    for j in range(n):\n",
        "        s = (-1)**j\n",
        "        sub = np.delete(matrix, 0, axis=0)\n",
        "        sub = np.delete(sub, j, axis=1)\n",
        "        det += s * matrix[0, j] * det_n(sub)\n",
        "\n",
        "    return det\n",
        "\n",
        "r_m = np.random.randint(1, 10, size=(10, 10))\n",
        "\n",
        "start_time = time.time()\n",
        "determinant = det_n(r_m)\n",
        "end_time = time.time()\n",
        "\n",
        "print(\"determinant:\", determinant)\n",
        "print(\"time:\", end_time - start_time)"
      ],
      "metadata": {
        "colab": {
          "base_uri": "https://localhost:8080/"
        },
        "id": "u5o6WVpUAdGY",
        "outputId": "aaa166dd-4464-4498-b328-4dc468e8341f"
      },
      "execution_count": 34,
      "outputs": [
        {
          "output_type": "stream",
          "name": "stdout",
          "text": [
            "determinant: 100204958\n",
            "time: 61.97178554534912\n"
          ]
        }
      ]
    },
    {
      "cell_type": "markdown",
      "source": [
        "# Time estimation for the human computer computation of a 3 x 3 matrix determinant by cofactor expansion\n",
        "\n",
        " Write a 3 x 3 matrix with the first element as your list number Mod 10 and the rest row by row 1,2,3,...9 skipimg the first element, by example if youir list number is 12, your list number Mod 10 is 2 and the matrix is\n",
        "$$A = \\left[\n",
        "  \\begin{array}{ccc}\n",
        "2 & 1 & 3\\\\\n",
        "4 & 5 & 6\\\\\n",
        "7 & 8 & 9\\\\\n",
        "\\end{array}\n",
        "\\right]\n",
        "$$\n",
        "Use a chronometer like http://online-stopwatch.chronme.com/ to estimate the time to compute the determinant by using the procedure in the follo wing exmaple (https://people.math.carleton.ca/~kcheung/math/notes/MATH1107/07/07_cofactor_expansion.html):<br />  \n",
        "Let\n",
        "$$A = \\begin{bmatrix} 10 & 2 & 3\\\\ 4 & 5 & 6\\\\ 7 & 8 & 9 \\end{bmatrix}$$\n",
        "we compute $\\det(A)$ by expanding along row $2$ as <br /> <br />\n",
        "$$\\begin{eqnarray} \\det(A) & = & (-1)^{2+1}A_{2,1}\\det(A(2 \\mid 1)) + (-1)^{2+2}A_{2,2}\\det(A(2 \\mid 2)) + (-1)^{2+3}A_{2,3}\\det(A(2 \\mid 3)) \\\\ & = & -4\\left|\\begin{matrix} 2 & 3 \\\\ 8 & 9\\end{matrix}\\right| + 5\\left|\\begin{matrix} 10 & 3 \\\\ 7 & 9\\end{matrix}\\right| - 6\\left|\\begin{matrix} 10 & 2 \\\\ 7 & 8\\end{matrix}\\right| \\\\ & = & -4(2\\cdot 9 - 3\\cdot 8) + 5(10 \\cdot 9- 3\\cdot 7) - 6(10\\cdot 8 - 2 \\cdot 7) \\\\ & = & 24 + 345 - 396 \\\\ & = & -27\\end{eqnarray}$$\n",
        "\n",
        "3. Report the time at [LABCramer](https://docs.google.com/spreadsheets/d/1JNUbuj3QHcyPmp8i6kNreUFucj2mOvKHkCFHHy7zfws/edit?usp=sharing)\n",
        "4. Report the value of the determinant at [LABCramer](https://docs.google.com/spreadsheets/d/1JNUbuj3QHcyPmp8i6kNreUFucj2mOvKHkCFHHy7zfws/edit?usp=sharing)\n",
        "\n",
        "The one grading verifies with with [matrixcalc](https://matrixcalc.org)\n",
        "\n",
        "The number of operations that we as a human requird to caculate this 3x3 matrix determinat using cofactors is 17.\n",
        "- The number of operations to caculate each cofactor is 5:  1 addition (row + column)  + 1 sign verification (if row + column is even positive and negtive otherwise) + 2 multiplications  + 1 substraction.\n",
        "- The number operations to calculate the 3 cofactors is 3x5 = 15.\n",
        "- To add the 3 cofactores we need (2 additions).\n",
        "- So the total is 3x5 + 2  = 17.\n",
        "\n",
        "\n",
        "\n"
      ],
      "metadata": {
        "id": "__brdhGadAXY"
      }
    },
    {
      "cell_type": "markdown",
      "source": [
        "# my number is 10, 10 mod 10 = 0\n",
        "\n",
        "$$A = \\left[\n",
        "  \\begin{array}{ccc}\n",
        "0 & 1 & 2\\\\\n",
        "3 & 4 & 5\\\\\n",
        "6 & 7 & 8\\\\\n",
        "\\end{array}\n",
        "\\right]\n",
        "$$"
      ],
      "metadata": {
        "id": "Cqy6d13SBmcW"
      }
    },
    {
      "cell_type": "markdown",
      "source": [
        "$$\\begin{eqnarray} \\det(A) & = & (-1)^{2+1}A_{2,1}\\det(A(2 \\mid 1)) + (-1)^{2+2}A_{2,2}\\det(A(2 \\mid 2)) + (-1)^{2+3}A_{2,3}\\det(A(2 \\mid 3)) \\\\ & = & -3\\left|\\begin{matrix} 1 & 2 \\\\ 7 & 8\\end{matrix}\\right| + 4\\left|\\begin{matrix} 0 & 2 \\\\ 6 & 8\\end{matrix}\\right| - 5\\left|\\begin{matrix} 0 & 1 \\\\ 6 & 7\\end{matrix}\\right| \\\\ & = & -3(1\\cdot 8 - 2\\cdot 7) + 4(0 \\cdot 8- 2\\cdot 6) - 5(0\\cdot 7 - 1 \\cdot 6) \\\\ & = & 18 - 48 + 30 \\\\ & = & 0\\end{eqnarray}$$"
      ],
      "metadata": {
        "id": "knOFEFZ4Lv4V"
      }
    },
    {
      "cell_type": "markdown",
      "source": [
        "respuesta det(A) = 0\n"
      ],
      "metadata": {
        "id": "a1TyJLMVP4G1"
      }
    },
    {
      "cell_type": "markdown",
      "source": [
        "![TimeDet.png](data:image/png;base64,iVBORw0KGgoAAAANSUhEUgAABKIAAAIlCAYAAADmAVDQAAAAAXNSR0IArs4c6QAAAARnQU1BAACxjwv8YQUAAAAJcEhZcwAADsMAAA7DAcdvqGQAAP+lSURBVHhe7J0HwNVEtoAPikqVIoqAAiqIgKggiAXsFHvvXZ+9ISrWFcWua1/Xturaxd4FxbZWpCmioIKASrOBFSzIy8md/De5mcn0lHvney9Lysxpc2Zy/zGZ1Ovcoe0ykES6Qo7h+lKP/JsD8hr3RLtSjF9W8aHqteS3bR8j8gV8WLp0KTRu1IQc2cOU3+nkiInGz9HAwyUtW4sUE9Pkwfe8xb/K8yGdwcqjyHGs5TGhKBS9jTKwP7W+L4Jp/3XkWbCFGWsZXViW32g8ifLeUXR6p5LlLJPXU6EmqX49ThzidflxC6DKJqfkY4eUKtfVZZhSli1uK4uSLJ4cU3rCqMjUtyNJRmDjcuRfYUyY5ZAnr3FPtCveE6xRC3np+p6jtqnlHpAH390IlCqp3T+L3K4uJ/NNij8CHYbBtstT+5m2xZOX4vCRViSN6zEYo7htbvyuVcK5IP1EFBZeqUEDaN6yFaxQf0X/+I/fl8CiH76HP//83S9TFLiOpzVyCJDX7ppoV4rxyyo+VL2W/E7Dx4gOAT/cE1E0TCRAjgYfIdK0t2ixMUkefM9T/Ks8F9IZsDyKHMdaHg/yTtHbJgP7U+vzPGz4rirTgi3LeDJFdWK55EYTkaTmYYVe7zBZjt2noZCkJ6LidZPjVklMduhQNX519RimROXK2VtJWRZPjp4eRDfWJXTtYNcP2yc1EVV/xRWhV9/+sG6PnlB/+RWgXj0vLZYtg7///huW/L4Ypn04HuZ8ORNWWGFFmPf1bFIrn3CdjrdiZuimgi3yEsMs40PVbcnvNPys0yHoQ1oTUYgJ/9PLFRNJkKNBSIg07S1abEySB9/zFP8qz4XUBq0ixrGWx4G8U/S2ycD+9H6gcLDhu45M0/Z48hJjLaMPyyY3nIg0eQ8pOr1TyXJsv5aHsGMRr5sctzBU2aFDab98ZCaixG1lEfhw3Ckn+FsSt954s7f9mxzJE4+Hiv3ROg8/+wQMH3YufDp1GjkTpUvX9eCiqy6D/XfZk5xh6wzbJzwR1aBhI9hhr4NgtdZtoddGPWCD7utB06ZN4W/vD9Fvv/sBJk6eAh9OmQq//PwjTP/4A1gw72v4xtvyiJDD8VbMDJX0sQ3XphTjl2V8qLot+W7bz4h8QR/cRFQSJhIhRwOREGnaW7TYmCQPvucp/lWeC6kNXEWLYy2PAXmnyG2Tge3p/jjhYNJ/XVk22sKTyYy3jL6gLLvxRKSpeUjR6Z1KllWdE1HSPtWRPBEVlStuK4vAhw+mT4H+vTaDn3/62T8TZRk0XbkpvDnxPdioU3dyTp54TGTtj5fHiaZrb/kXDD3+pNhkFP0aW2fYPqE1ovBJqB32PBA6dFwbDjlgL9hqi76wMk5C/b0U/l72NzRvsTJs3W9T2Hv3HaHlKq2gw7rd/aek8oh+KqVLHu3l2hTvAdbIMj5U3Sn67sg7RRttikYtxzcPvucp/q6vORwOE2TwI65qh688/iD2bGLGW8XenDSeZwbPemnvKlzLtjUrjNEOe0iAtix56JNQJZKuZQlOMOFEE0444cRTQNIElQhCE1E9+/SDVVZdHfbadQdo0bwZ/PnXX/72119LvX+Xwu+//wGjRr8EUz76CHYatC00btoMVlmtDamdLi+/9hYcesRR5IjNY08+C8+NGkOOKsi2tzkcDksUr2tncIfUIm17ixYfhz2qOBdSG7hcf3KYwP2IFqZqu5yJHDCdR548Y/HOUY7nIIeK2OOLaHPWVE5GqU5ChVOWOxGFC5N36rohbLRBN2jatAlMnPQhLFy4CP4ik1F//PEHPP/CKHho5KPQvHkLaLbyytC1Syfo0Lkb1K9fn0hR4/NZc+q2cZOmwAUXXUKuqBF2/NlnnoIxL40mR/kkj/cnrk0p9uzcxcei76n6mtPR2d00ikIeR65qJA9xzltbu9zTo2ijrGtvh0lSzv/cpS/6n5cxwLQdnrzEeMvoEysrUkrNy5AjZJcvRzLZlHKTXSlun7gClm+jX3sRpnz+IXyUsI3yytCRjbxaS2WBbUvDk1HJk1BilnAnopq1WMUrtRx079oFfvzxJ7jmuhvglCGnwzPPPg8///wLvDzmVXjiySfh6P87EtZdt7M/QdWx/ZqwYoMmsFLDxkSKOhdfdAF07tgObrrxOjjksCOg9yZ9yRU97rn7Trj+2qvJkcNR2yjdcxwpUcTWSdPmWs5e13NrhuL8DnY4HEngsJ27oTtPA4xpW9zgKRUBSm7mKoLEvkHb7AA9Om+YuA32yuSBUvyy6vQqetNrce5EVP36K/rrQDVp3AQaNmoE11x9BWy77TbwyGOPw8BBA+Hyyy6Fww87FLp16wZ/LV3qv67XoMFKntt/w3LLL0+k6HPv3XfC/HnzoFv39f3jIUPP9J+Swqel3nx3POy0867++TA4afXsqDF1T1Xh63jt2q3hX7vtjrv9LUZOelvu7lEipBi7QsbH4agp0uylqKtWR4Ws/c5b3Ks4D3L110BeqNV+n1eKmqQp2Z27dEW/89JmFm1JjLuMTrGy9iIacoTsGtWlkJ8l/eyK9mLhyILw63jh1/RkCTKGOxG1zCu59O+/69aEWmmllWC33XaBq6+6AtZu1wbW7bgmbLDBhv5aUX/+Gawd9RcsXfq3X9cU+Fpes+bN4ZWXRvsTTHvtsx8cf+xR/tNSjz86Eo476RRSssx1N9wMc776yi+z9RZ9oUHDhnDBhReTq/nFYNiMkle7qp1U457zO4YJ89J10VTroRzXA/nUaoxcbkRx8VDDxc1Ri6T0q8B1rwzw2jYx7jJtbzZP0v0tqk6WdtrSXSeXkRtFaZu0qVwTqnLNKBX4E1HYSt7/L/jmG7IuVGnCCSekbtx9U7h8QI+6yafSE1F/wfc/LCStqD/q/mP4CP9ppgEDB8ORhx0Ec+Z8DTvutAus3qYNPPTIE/61E08ZAuut15XUKIGTVVjmuKOP8I+/9uo9OvIhWKdTZ/84r+hHLCNqrNcWtp145Nyxqo171ZJFi7ksSR8X89Rwv5AduaWIyVnLHcqW7ypybdjiyUy8NenqpAu3FdUIRLWIrlTssUoozqHdIvvVdOWmZC9O0rUsYS1MrjsZxZ2I8ht9ueVg/KTJkQkn3McnpXArTVB5259/+v9O+2y6V8lMiuAaUfg0E4ITUAGzZs70n3QKb9oUv7dagz7cOuqwlDsu7tWAa0VHGmSdZ3nLc9fv1HBxc9QK7ke/efISU88Oo0OZmF9pem9cl0K8bPprPZYZ3epuvfHf8ObEd+GD6VMo28fetff8MtkSD85FV10Wm4QKCCajsIwoQfsKPRGFhSd/PA2+njOXTDjhhNRS+Pvvv/2tboLKOzd33gL4bMYs/7U8U6/m4VNQV1w6AnbZdXf/SacXnn8WOq61Fhx6xFH+dTxXuUbU+PfHwqKFC+HWO+72w4lrQ+2z3wEwY/rnpQKVWM94Phn1CX1yELs0KWw7OeqosZTNmCx6jOulDqRK88D6AIZxK1LsXH/PHndXdeQlBzw7jA4JNL/0FKhHyrRvyei2qG79CCG/deQatUkBnGTaqNP6jK27v916482kdH7Yf5c9qZNQAXgNy8giMBHlbd7/LL98fXjyuVEwf0HpFT3cljZc2dua+RNQOBk1d958ePHlV/1Fyv82uUCUx/PPPQNvvP4qXH7lNf4k0803Xg8nn3Ka/2reLbfdCZ3X7UJKlrnwH+f6r+JN98qMGvM6/PD993AseVUvQtZZ6ZHiuCJN3mzLc6xMUit+1gamWtNlhTi1GKusfUb9eYu76zMOh6OSlH/4V/0wlJepAU+WUKzNt7+oRD3NJeeM61LIT/MRTJEEf7Pzq+oHCSr1Ondom+j5am07wBaDdodly5aVJqD+/APWW7cTrL1WB2jYsKH/RNTCRT/C59O/gOkzZ0P9+it4Uuv5k1fvvfQ4/PrTQiIpO2gOBl/M8yemctCb8px+ibZlELssY0XVbSkGafoZ0SXhz9KlS6FxoybkKB1MxSX9PDKVKDkYsJTIwu6ixkqXPPidp9hXaR5YH8SKFLda7et5oIixT9Hm9H9scLDhu45Mk/Z4srjxltHHKhtXIipVy1vykIeIjGgZTlAYl5P0iMhn10+2Jya7oniSXTz8ur48GZuT7eVRksmToacjIG6/ilwztiTJCezkPhH119K/vO1v/wmnesstB8vVXwGmfjYDnnxuNNz74KNw/8OPw4svvwYzv5wD9VdY0VNZD/7+exn8ufRPWPb3UiIlf+CTUnPnzmFlnINgKhVNkTd7qiF/IjF1/cEi9gf2fIN2p217UWOlS636zcLFQ54i3QzcjSsbMO5FjH2KNudu6LHhu6rMLPLHjj5RqXraVZOJU49xWTdStlpWR65fNyEctmwuHulFgvtEFC5U3rhpM8+keqG28/ZK/0+hdBaflFry68/+k1RZE7ZgyNAz4aRThviLnR928P4wZ+7X5Ep2ZB8hNom2pdxj8xCniA2W/U/LXx2fsngiCjERm2zyyWTSpNwBjZKm7UWOky5Z+56n2FdpHlgbyIoUr1ru41lR5JinZHs2PzIY2PRZRbYNezyZiTE3aWdUkahkLa8L9DQU30a2TbG6FfMIfNls/Lp14mTsZtvLoyyTJ0NdR5i4D6pyTdjDlhHYyZ2IMhOW7ODaz866VMhzfPMUuzzEKWaDZf/T8jmiR9InNxGlgqnEyXjw0iZN+4seK1Xy4HeeYl+FeWB1ICtKvGq1f2dFkeOdku3Z/cCgYNNnFdm27PHkMuNu2s6yIlHJWl776ko6eXLi1xOSkXFJTkdcCN9Xtk2xuiYnoiKiZOxm28ujJFOkvrqOALr9qnL17UmSEdia+GqeCROyhGu/TjY7HA6HQ4M07zBFv5upgn5n7XueYl+FeWD1d0xR4lWF7ZprihrvFH70Y2hyEx7016bPKrJt2ePJZcbdnp2ikrW89v0qOScvRz4ZtWz14NeXsMn001AJ6PrtECcca+ZElHzq5oui25813Pil2GNdWzocNKqhZ6TpQy2PJFn7jvrzEv9azgMVXLwc1YDlH615GuJ8bP9Il5WP5W3Z5Mllxl5Fp1gdW96wENEnZZNivibp0I2J1Zgq9880OnauBo9U4S5WXkSEmtNqtotR2LTLQezSJu22qt0hiY+p2GSXxiZbtxoyJU0farlnoe9Z+5+X+FdZHlgfzGq53ziKj+UOkrvuYXtAkJVv0x5PNjP+KnrF6shI1vJeK7cSKjMu8WylX9fyUBgdLdFX8uKk44FdzPqglXhSVN1EVHqhq14SY5hyb81te1bDqFVQXOgderi7RLbkJf4uDxyO6sfyL4aaG0Zk42kz/p5sZvxV9IrVCX+6i4eW93Vq8Hv0fLR0CcCWXzJUV3+sfg4+dqaL7TapBqryiSguOciM4nev2sG1VfWS3VBgMquqIUPT9qGWe7Ub0aoS64NZ3vPG5XV6FOXPq1r8M9CWzyhXVrbN+HuymV1eRa9onfTHGeNRZLhgs7XK0JXHdFcU07GNXreswL7f6edMmSx1i1FVE1H5D3f+SYxhOqNUHbltT8txyMzvlNs3L2TntsmWrobRL20fUF81xE2FrP3OS9yrrP1rdAwvU6v9OU2KkmS11hnQX1s+q8i1GX9PNrOry+rF8qJ15MYXrQhIDmXCuhSHSC1fZKmwUVu3os+OdKjNJ6IyxvWJ4lDtbVVU/1K9KTpSJIuMdCNyNuQl7q79qwvXnrUN/jpI6RdCblLNpr8qsm3Z48ldhhs5jCGrV6Z8SaloDVlLIoT8E5FDL0MJkpV8lYsLjUhdKzY68ka4matmIko4d7VGB30K28dSjlse4pSFDYXND4ciJlu8WrLH9bx0QJ+z9jsvcc9DLAyR8W8cRzWT9+SqxeS35TPKVZFt0Z7EIVpWry07NSWHfNSzsKI25/ZmLxp66NpFX6S8fNK+35zA+4iUSSav7ScCdSJKPySOIuLaXYAi93YHk+ppVteLHbJknTN5ylnXf5IpQnzcTdoOLq4RctEVbLVJDts643hjRESiohU5BR9NtBRPhu71JCJ1q+z2a6JtagH3al6KFLaPpdybqmwscjg4mM74auhBWfhQyyNP1r7Xcuwt4H4BO4yByeQSqg4cqnIxXNlqEx25lmzC1/ESkdUrV170K3la3leoEJGlpc8IYl/zU0VXNv1pqDLZx692Cce+tiaiXNYxYfZXF7MyLhYOa5j+ZWtaXhZk4UM1xE2VrH3PS+xrOQccjjDuR08dOCxU9dCAba3T3jZyxZOZOAmlYrMNO81KjcoykHQJInh224kWBXfbrULEGjU2EVW1uZBab6KT57gybcsgZnmJU9X2A0eOMZ111ZDFWfjgen925CX2VZAD1u7frn/UBhn/aJbGor25S3mTvqKsPLa1Z1Ni3FVslq8j8jSUdvQU8ktYZ4JsPbv1n4aqq0+xMYuYZkMeDU3Xpqp4IoobMu2Mrl4K01ezxuVQ1eOaOK/gKJX2SFWrI2Me/HZ3JWNYG9RcGznyhMW7d65SHf006aspWRbjbwx5G1PxqiK/RHSK2eUJ1sxd8/6n15nYtpdsEPdNzeaS/PT8LRrhyFT/q3nme1LVkNhFMohbXrpsVnakrTcv8XaEca3CxvWQdEC/s/Y9D7Gvkvavud9AtdpvaxFMbosJnqtUMu2nKXk27PK2xNjL6pS3sVwjua685BAK+SWmjy+YJ0f3Oo+6+kxT1TufWxsqQD2GaVL4iajEMNdOtknj4kaHGheXRzWDa2pHFBwRinEzN0/Wfuch7rXa9g5H3rF8t85V1zftqwl5KMOkXUQexj0x9rI65W006RUTio88vabsMiNHXYpVPwt1yy6UsdYo9ESU0bHKInlLtTymvuuOGZOj/uIwCfasaupdWflSqyNU1n7XatwNY2V8d21TfWCiBFueqaUfLKZ9zWPsPJtwOOEOKbK2y/sar8E2SjmSFJF0WSpjLKmjUpXA80vNb4pBGjZS8eSZtV3NwJIO085VL5GJKBe26ofbxmojTFVAjU1K8XB9Lz9k3wVsZEM1ZZjrLemSdbxrXb/D4SiTwh06N10+jz/I0aY82lWJvI0yNdKOgJS+hPzVtdtYfYaNpesKHdDdpisoTkAK+0RUUULs+gYfF6P0cTGvRaqp1bPwpZZ7Tda+17p+A+j+BUElj3Gx4miNkPc8r6W2teGrrsws4y+j266dWtIpXYwur1xQSp9mF7YZuTrZDBt1dfPq2/QtS4roV9jmuomovN9+whTF1rzZybWnWntpzilS38sTNtM1+67gsoJPFjFy7ZIdLvb5xLWLIw1q4Qcq+hhsecKmTSJyZXSr2WnLuzpwmLQ9VC5LVsDzUfe6EDZiYCWuakKt51EVUvjFyvOK7fFGlrzZE5BXuxyO7LHRO6qtx2XhT62OWnnwO0sbqqDd3a9kRyJ5TZAU7cqsm9v2UVV+CrFnxhx1y+hXs9W+BjY8ecL6Us9bGYXLzPnJQEx+WkHKbBApBJVt5SaiHCV0RwEF8tRVqbakEBM3XDkcumTRi2q159b6iOVG7Pzj2sihSFWmDv6QVf0xa/tHsCefGfMUfoB7JGuJGqdsEcNHYx4K5C1Pl+51IWz0Lxsy7Qh1MPAnomRCfugRR8GjTz4LQ4ae6R9Pnjodxk2a4p/Da7nAWO9WI28pnMculftunnEOOcSo/may0VNy3/sUyMKnaoyjCFn7XatxN4SVQTNvbeJyRJ4a/tGD6ZJpytiKvY5c2/ngyWfGXEW3fJ3kGlHjTEdDRLeQToG8NW27bGfx9SdU0bVPrL6czY70EH4iql27NfzJpn8MH+Eff/7Zp/6/55w5FJ595il/H689O2qMX9YWLpXkEIqX+VGqUNR8TtV4++cfGxlajVmfhU+1Onpk7XeW+mu1zXm4uBSXGv4RkGnaYtxtxF5Xrs188GQvw40cxpDVjeXl7U2uETVOXnoIip9a8sIYyl2ePcbsNY2g/3L2Gwqqw0Ms8vU6dWjLjTpOLD38WGmy6YpLR8Dzzz3j71ey0867wnEnnQIXXXAejH9/LDlrFq6xGfeYvKWwkD0pxyxPMaLakmI8sopFRK+Gv0uXLoXGjZqQo+ywEcc85am9pMx4wLRCFj5VYxxFyNLvrGNe8Da3MsDlLSa12i9lyXucLNmX6U3eVsx15drMBU92Ysxldavbyq4ZNVA7GhX+isnjr6nkE4tlPLgicpLK0K8lNmIEv37CIurK8kNFeD6WrovaLO5bJWU77OsKoxxDJmbsYsmptFfoiaiNevaCRT8ugv333t2fhMLX8t58dzx8PmuOv+E+nsNruwzeHvr12xLueWAkqW0OU6HBibXb7rjb6pNbeUAoXrweXAUMPe1Mf6Nx3bU3ZpYHpvJZlqz0OnSw1WrVmA1Z+IQ6a7FnZelzLcbb4agl8AdqDfxINYZurGzG2pOdOGTL6la31aaXEWzeogzJttzi1m/TPPtTa+s6RB02E5j0/TMPdyIKn3LauM8m/gTTnDlf+6/n7bXPfvD4oyOhc8d2fpnV27SBE08Z4l9D8LW9zbfoZ2zNKLQBX/mbPmuOv7317ng4jCZbsEVwYm277Qf6/5rEdH975bW34LDDc7LuVoEZMGCQv1Vy7bU3QscOa/l57XBUUg0DvBiWfylkQlY+VWMseWTpc63qNkDtDHCOQuISVByMVZ7j5dmWOFymZ7uMJmWr0FeKv6LyuOUEbz08OWrXJe57EkWlIHJF4ymOLYNrEfFYcieiDj/qaOjTd1N/H5966thxLf/JqOuvvdo/FwYndoIno6ZNmwq77Lo7uaLHhRdfBnO++go6dWznb3fcfgt88vEUclUetK/TWu2YrxiqkLf0FbLHfC/mwrLrwgsvgRdfGEOOzLLDjtv7Wxh8CgonofbYaxdyJl2yype85alDBputV42ZkWUvq7WelqW/tarbwce1jxh5i1MGP04Li6lY2Yq5JzcxvdJraxlNpq0SlVeP1xcFu6qdqIqPEyL66WXM+O9QJf0AcyeicOJp3Nj3/H18EuqB++5JfIIEyyBYB+vqgk9DNW/RAo49+ghyBuCeu++EcZVrUNnpdUK4fqFPu7btoEGDBuTIPl97OZzVJJSjOGQ4rDCwOdq4kcwstRbPWs2fAvudvwHOkQl5SgSLtmBXDW+ZYcpHE3JQhq2Ye3IT46yqV76eLQ9j2MyrRNlyiq3Ho84cul1K+kOiROqn1uYZwfZPLheyhjsRhZNAs2bN9PfxFTzak1BhsAyCdbCuLs899wwsXrwYrrnuRnImzvCLLoHxE6fA9Jml1/Zw8grBp16ee3GMfx63e+8vr1uFxwFY7rEnnq0r57/6F3olDteTwrqBrI8+mQ7DL7zEvxY0933e9Sne+Rne9ee9csG6Q2jL2548PI/Xg3o0wjJwvxKsi37idZQZ+FkJ2rSzd+0Fz44vvLK4Pe75F3C758/Hnp4vvpgDEyZM8V9RCzjc8/vVV9+C+z39H39cKoP7YW6//W6/XlAf6yCo8513xtedx6ecAlAm6nnXuz7Tuz7Ru47lkde8a9tvP9CfuMRrd3jyEdxHGZ94dgTn0BY8xmtYL5CB4D4+VYXXcHvi8ZLPWDeoj+B6UZM8/bO8MlM9WQ94MuvWifJ69qwZc+Ci4ZfApPFeGW//tVfeKl83QLGGiGJg84aTv5uZyyBxXKzSJat4Z93OLs9K5C0O1f6niAlqJEa5SE2Mtal4m5Bjs+092YkxV9GNdeTrydZQscyH4a+ovMRyEvnL0ydij3IMPHTqFpWSz6KNlIvBKDMqvRdarDyJDyZNJHtRXnlpNDz95OPkSI8777gNBg7eEcZPmhJbZHzI6WfC3vvuDzfdeJ3/ut3HUz6Ci0Zc5l+74MKLYcnixf75rfr1hVfGvOSfr2Qk+SIglsGyY997B84Ydg706dPXP4/07LUxPDryIf/6S6Nf8HUG4KTR2uusA0ccdhBs6clAbrjpFv/foacP88qPgnW8enh9/Pj3/fOVhGVg2W++XRB5ouy0oWfCPsRPvD4l5GclGJ8rr7oWpk37BNb2yvb3bLr7rjv8aziRs/76PeDwww+CtdduBzfddB0MGrQjnBZazBv1fvPNAujevROccsrxsPnm/eomfHASCusfd9xRfv3hw8+Fl18e7cfqyiuvhfe82AVyDz30iEgMN910czjl1BNhLe/6ggXz4cQTTvHPb7NtPxjjtQ1OXuK1o48pP/22QY8NYcDArf1zgazDPNux3JIlS+pkoM9XefrRZ7zWr39fuOvuks9hcBLq//7vWLjRs6+jVw5lrb32Ol7dayKjJ+rdebfBsMWWfaF5s+ZwxtBh5Eqxid0gavGOoUD+wlTbNzI5MFZZxasW28nFulAYH9xcOxSHvN3ZqvkHiUnfTMiyGWtPtvFhIJ3cUNai6W+iXq5ss8HWjjTHHLZ8MT9E7JP3wWwMHeJwJ6Lmz5sH33/7bd0+rgEVZshJx/vnA4J9XC/q66++8vdVCdICn8Lq0bUTPPvMU7BOp84waszrpaeBvEzbfsAgf2Lonv/e6ZfFV/jwSSy8/ssvP/tPaOE+vk4YlAmD15o1aw5777lL3SuHp592ij9Rsv+BB/nHyKSJE+rq4/WGDRvWPTWFk1SXXToCxo0b68t4ZORDsN56Xf1rOFnSY4MN/UkUvM5alyosA0Ed8+eX44p+jq7wswXxMwzG7PQzhvn2D/VkIGgTPlmG+HouK+v5ryfv7bffjCzmjXqHDi3VxXo4QbTrrnv4x1ts0R9uv/2Wuvp4HeUfcMBBMHv2rLp6KBfr4fmARx8dWVdv5CPlGCVx+RWX1LUL1j344P0iMoLX+c44veTzaUR/2Ocw6CfG8W4Sx/c9WehPr54b+8cBJ516vC8Dt/ETxsFGG5lZ2N4NdcVF++ZsHJdNcmQVr1psp1qMteuPZVws8k/e7mj5u8OaAf0y6ZsJWbZi7cldhhs5ZCKrn1ZeTIaMJlmr6kjwV0RmuYz+uMnTp3ddxJtk2BI4vkuERt/KIqOfQ2nDnYjqv1lvWPDNAn8fv5R30CGHRZ5Iwj/Ur7h0hP/6HIJlkONOOgW26L+lv2+Ki4afD9tv08+f8Djek4/gRMRuu+9V91odbkirVqv6kznBE1L4ShvttTgshxMYlcyY/jk0adKUHIHn329kr0zQ3DgpdeNNt/ivzOF2wfAR/jnkmP873P/37nseSHydDstXTlLhJFYA+rm752egAzcE7a8E7Z7u2U8D9VRO0LzzzluR9ZnCeivB+jjJVAnqxIklfC0v2PDJqnAMf1j4A9kTJ5h0Crju2hv9V/LwFb/hF4wgZ5N9DoN+fjj5Q3JUAielgvYKCCa/HI7aong3MTmy8q/a40ojy1jXYrw1qO1f7o7MsZyAVTMcmIiTrVh7coXiLKufVj44lyxLRlOprGSicG41Ivq5ZbgmlQvwZMnEQ5V6kiGUJQ0fHOnCnYjqvUlfeOiRJ/wJFHwyCZ9yefixpyJPRnVetwv8vmSJ/5oelsGyOCnx3zvjr0aZYMxLo6HBSuWJk/vuudt/ZS68hZ8c6t1rff+VtkMOK7/yFaZ169XJXhl88gqfqBJl/3339F+ZC28ITmjg01brd+vkv06Hr+qxqJykwie1wtzr+VmpI/yUV7j/r7HGmmQvTnhdJQRfvUuafKqksn7AJK/98bW88HbMMUfwx1FBcBIKX++75967/Vf8LhpxAblSIsnnMBtssCHZK3HE4UfVTaRWO5bvEVVP/m6CNloUZVZzpmTlWy32vix9zkJ3gdvY/cJ3ZILlxMu0S5r0zYSsLDs56pbVTytv3ocso5KIRO6m40OyQfFJqOgJZRu14yAhQAE5v+zaUkS4E1Hj3x8L77z9Fpx93gX+k1D77LGL/9QTfh3v81lz/C34mh5ewzJYFuuwXkOTASdncF2oPpuU1gfCf/f29OETS8ibb7wOu+y6e90kDr4CF0yS4bng/HfflV4vrAQncn78cZG/WHnwpBcujI6TU9f+8yr/mAdOwFw44tK6NYxQZ/DaHv4bnE+a2Jo2bSqcS2KMoM/hp5T+R/ET142iccftt/oTgdeSBd6xrG+D11vw6adzz72gziZcaBxft3vkkYf8Yx7oa2V95I47boWePXvVrTWFfoQXKxch7C+NDh3WgkWLFtU9kXXYoeWJxds9/egzTlYhdT5X8MyzT8PgQTv6k0/IJl6ZY445Ht56+03/2FFc0rkR1xLVfMPMyjfUW2s/RGrN51prXxZ5iINri/yCd2zLd+2qaX4TcbIZa092YqxVdNPqiMsRLVkuJ5ksnOIi+hPLSJgjHpVkTMkxSigOPPuytV8yf6yhEwWTPojbIbRY+bnDTvf/xSehcCIEn3rCV/Y6d2znb7gffE0PyyBBHV1w0exVWrWCu+55AKbPmuP/i6/bHUsWtL7owvNhwoRx/ut3+FreLbfdCV27dvOvbbvd9nXn8V98corGfnvvDg0aNoQ33hrrl91wo15w9rChwq9nnXry8f4TNfj6Hb4yhxNKLVu29K/h5FFwHp/mufYa+uQWvsKHkyz/82zAL+ch4VcGw36iLPRzPeInEk4ffJ1txEUX+Prwi3n/9fQffcxx/jVcY+mLL2bAf//7gP/63Mknnwb/+c9t1NftaODi5eH6OImDEz6o86abrod99kH5c+Cll16HHj02hLZkYo0HTiSttFID/2t3uKA4DVwvCiersMxtt94JH3xQXigf9eMTUugzXr/Hs++Yo0s+B2CMrr3uanjk0YfhFM9v/GoelsMn1Y4+lv60XDURG2JyedfJP/kLm80boE3ZtUwtxjULn7OKc0Hb190TaoSsGzoF/e7WFSLL9lbRTasjLke0ZLmcZLJwiqt4XAfKtpC7PJu0bPaw8jSUhTjQSU2RMXTbK0/U69ShrVAL4BMul111DWy+RT9/8unQI0pPlCC4FlCfvpv6X8r7/LNP/Vf0dNfY4RqVYSvkKWWFbckoXnmJVaIdKcYmy3jEdBvwe+nSpdC4URNylD1pxTcveR3FViJnONimQpb+VXtsK8nK31rTq4HRwS0P/tdaHxMhy5hY1p2bm7MpP3XkpNHOng5mzGX1s8qzzscVi2osl5NMGE5xef0hlskm7zIhfabKMJ33Tsfrl8sqyw6d4slIvs6wuw7e9WRKukVl6OkK0POXhRnbyrDlhe0XnoiqZNykKf7X6ZBFCxf6a0fhF/RMLfKcaBQvIy1juql0ELIlo3gVIk4pxybLmMR0G/DdTUTlDVsJnfGgmwpZ+VgLsQ1Ta3EuYPsaHeCy9r/W+hePKm+PXNycTfioK8N2O3vyE2Mtq59VnnWerlxEa7mMZLJwiot6TC3ny5azp55Aebl4JMHWRV+gvHxSSX7oUN8Htu3J1/iU9IrK0NMVhu2vjg5z9vFkhe1XnoiyCdcgkay0RJ6CJWRLRrEqTJxSjE/WMYnoN+S3m4jKIzaTOsPBNxWy9K/aYxsmK19rTa8iRgc416fyRdYxsag/8xuzKd905NhuXyI/MdayNiSVD19jKxXVGC0nkTCcomr6Q0g/DYWykuuI2CRmd0LcmZdKF0TjUqeDIo8nI/k62/YSvOvJlHSLytDTFYbts44Oc/Ylyaq0XWiNqDThhoGXkRYx2USpkFGsChOnFONTuNxxFBib2VbtmZylf26UsI+LsRAZ/s5yOJTIvGub6DQoQ0eO7Y7rycc4J8Za1oak8sG1ZKWiGqPlJBKGU1RNfwilSSh9tGXIm50MRZ4JP21Rsk00CKaDRSMNHebJ3URUInnOyLyRUazy1g2Y9qQYn2IODY5iYzPrqj2js/SvVkYL9LNWfEVqyde84H4w1gSZDyWYZyZyTUeGKRuS8ORz4yxrA6184IusrGSUpXF8FpXLLKeQuyI6eWWU4xHg2W1Uh2If1vNDUamHdvwcdRRrIipD1NPVDnmzB8mjTVRqcAQpTNtoklbTuptQtWdUrfSYrMkizlm1bcFyytgg5+KdH7K+cxnWn3kTm/JHR47tNvXkL8ONHDKRtYNWXt4XkRryUgkcn0XlMsv58uWS2IS/yvEI8Ey2rsMjDR16yLWdXfJkixxuIkqAwjVvBr0zjzEqbrd0FIHsb4JZU+09LCv/am3kysJfd3dw1BpZ3rFQt2H9mXdhU/7oyEmhTblxlm1bVnk5X0S1ykkNwfFbVC6znEL+WvVXFM9uvg5J5yjFzfihEGRH6uRqIioxZaz3Ljp5TOO82VSoGGWUR7nCxcAYLpR57P0mycq/ao9rJVn4Wys6HY4qulNhF8q0G2EsTcVTR04abZqkQzYOSeVl5IiXlpMagpNf2voV8lfZlwq05AjZvUzbVpH6puLhyB73RFTByPT+SyFv9uSNPMSn1too7RtUfm+IabV8tWdYVv7VWs+tFX8L5Kf7te/QxmASZd51TPmCcnRkpdExPR3UeOvaroeoZmULOTmmrV8hh035rByTEMZ1+PHIomNnodMMJtrRPuJW5mYiKo8pUcg0LUaGWoXZbi42jpojrVEM9RRyxBQkK9+qPa6VpO1rlu1aS9Sav3kiyx8+BnVnmkLohwlfTMgxGFMqnnzmmlCqupPqicnEUqrao6BjFOcYp8OI6meW48inwdYZFWYmNjSIHu8f4zoo8RDRIWaHQrCtkSdb8kcxnoiy18Oqi5TjVKiulUEO5SE+tTr8pd3c+R6i3E3QDBjHrGJZS22Ytq+uTRNxv78KTJaNZ1B3pl3FlB9570iefYmLkpu2H+XZiQlbKsM5gfwStZRZjqojWbGoHyK2idpPRSA+iJQOikzrftQh6BCDkg16Mhxl3Kt5DPKYYok2memdwuS1C7qhweGgkVbPQD3V3guz8q8WYhuQtp9ZtqnDHrUc35R/FEbIUrcp0AdTfuRNTiWe3MSuoqOXVldOnkxpdlmGgwJDhKh+ajmUrzAMaemsQFQWFWK7loxEFILDxYbMfGCvHbIjFxNR1ZsyKVGNmWmSDOKTh5ym2uBypYZJMyurfVRH/7LysdpjG+D8zA3uvuEQxnCyZNI98pjwNmzyZCY+BYXo6KXVlZNXz0gCMGQIiBa1llouUb6qX+V6IrbJRbsCosq4Horr1n2pQzXuJeRt0NNXC+T/iSgzmSdFHtMmTzbltVtR7cogfxyO/JJm783rSGGSWvAxS1y+Vg9ZxNf9AEiXaoi3aR9MyLMRV08mt0uq6sV6tLri8koSxMcMlkYqKFZAtKg8ajmN4U5Er7CvqkjYL2ULRW4u/JVCo3GtkDd75Mh8IqrY4UuHxBjlq3dmBjVGNR4blxoOOmmOurUwwmfhYy3ENSDtfHXtScXdUBxVj+kk15WH9S3YJPQUlKpeWj05eaUJKPExUcpSw0MtVTdXB7tAsi+leqL+SsUlTJ15y7gypHQoxl7OD0UlBUC5PXNOphNReUyXvNnk7FGkWnusw2GE6r1ZZ0MW8XRtaA+MbdrxLUB7uvuqg4mF5Ei1S+QpudEWG/Z4Mrkx1dFLqysuD0vKvoonLB3FSogWkUstYy1nLcWlkpAaZRk0GOYb1WEZeVutJUNV4RYrD5G3lOHaU6QebJHCtZujKiled0wrU2ulR2Thp4utXWolvmnh4lmdGLr7YXqEt9SwcfdWlWnrl4QnlxtTHZtpdcXllUpaanRJsSJWU8tomq+stwKRMlRC9hvVw4iLVV+oWMqvFDAbh3yR74moao48B253ySA2xe3CtYlrr/Qp3pCVVpbUSjain2n7moXOLMjKxzT11kI7pkmtxjPNO1HRf6jbsF9Vpq1YenK5XUFFN9Zh1ZOVJ9dXkzRHkBwCZK2uQ1gPvaCIXlNlqNiKk6TcMPK+aCgTJg0d1YB4nDKbiMpbUxYqtZRHmhohw/i4ISo/ZJUGxeueaWUt6qmVHpKFn7UQW+dj8amVMaAWMHi3Sz0t0HbTd2tVmTZsIXDXg0JUbWYhJ09Wu3B5yZwSlRsrp5m7sv6zUJZTYX9JDtspE/bydDhqh/w+EWWqZ1YbGcUlr8OFG8boUONSg30qK5eLF+o0e1Kt9Nos/KyF2Lq4ZoqRwS3NeNZa26V19ynyDwobtqvKtBVHTy5OQnFR0Z9UR06erHbh8nXdXqz/i8qNlZMaXuKFlfVWIByXSkImoQyjehixEZEh7w+vIaQaqgYxGR85WW6NqBziuksxce3mKDZpZnCt9JYs/KyF2FZ7XGulfzgcHqmmu/yfuMmgPFWZpm0J8OQKxVRFf1IdOXnl0nxjsaywdMl8EpUbK6eZt8p6KxCOi3VCAdGITX78caRBJhNR3PxMOQs1xxKjJNqSUe/MU3zCFKbd8kANj+xZuV7MkKeZybnvNYZAP9P2tRZim4WPtZKz1UQt3fxq+EafCTrxzrKtULeKflYdeXnl0vwxVUpyRJw52bFymrcCZb0VSMWmkpAPUTl054R1JcRGy14mvMbQbCyPkt0ycvR11gr5eyLKTpYyyVOq5C1t0Z7CdaWU8yePuOEvjksLGdLMoFrK1rR9rYXYVrOPOfbNDag1jqEEwBQvZBdG/3ViYLMDebITY6qqm1YPz8nJi9bgN76c9DDmZMfKaeasst4K1GPjIekDXxcRKCyXXlDLJ0chca/mFYWUe6fmOGudPNmX91i5kb1EFmEobujTzOrc9yCDpO0r6qv2+GYRU0cxBrdauvkVzNfCdiPdONtsJ092YlxVddPqycnC0tEa/ASQtrZOpDnZkXIoli86ESW9pqnwQV8XEciJDU+Pmh2aDSKA1bZwpD8RlZgyKbe2/fQVJ0+25B1mrNxo4XAYJM1RqZZGwCx8RZ3VHOO0/UtLVzW3mcORNro/ErOun4Qn28pwUWkzHsv5ES/NN1ROg4eE76KyI+UMxFZJLwPp+ARU+BGXE3dUSBcnPsr2amOg4Xxk5JjSKUKauuzgnogqAin34Dyndd5sK8QQUPxxqtBkdwM2gUseO2QV12pvzzT9S0tXtbZZGn5Ve75ngYE7WqrNgvYGmw469U3oT8KTnRhTVf2VdWz6UEZKC/od8Z0dCJkopOOpKFGflG2rCI2IHCFd7JALk6945wv7sTHQgBrU69ShrZAFF1x0Cey97/7QsGFDcobO4sWL4bFHHoYRw88nZ6IwlaWchdmGPQrXlhqOTZhEuzIaxfIYK6pNluKzdOlSaNyoCTnKP1m2V177lRhpdbCMOnKmZOFzNcc5Td9qvF8YGdRs+1bNuR4mDT8N6Ej1RmgqJqpyUmqTxJiq2ECro+YLvRbdYCUNMVH6smNlDeRsSSZfEC9eSjFCKlSz5Ujq8osn+2XNJ47eEiJl2JRtk5Gjp7OS5PiY0GXSXr6sSn+EJ6ImT50O55w5FJ5/7hlyhs5OO+8Kl199LWzQtRM5E4WqTD0LlTEZdh24dqQcm7zEhUaibTWcQzRitlmKT5EmovLQXnnOGTHS6GgZdObMycLnao5z2r7VaL8wMqDZ9qua8zxMQXIw1ZugiZioykipPZjxVNHPqqPmC7tW3GglDTEx9GDIyI6VNZCvZZnJwkTiZSZOfF3CepaxfRLxB1HyyYetuwTvOp+ybTKy9PWGSY6PCV0m7eXLqvRH+NU8fBKKNwmFYBneU1NZYzZFHGmQ2Gbqo5ijhshDmhQ/VdMYPVFHrY3S7q5klrTj6drPUe0YuHul2k1M3G1VZaRxp/d0MOOpop9VR80Xdq240UoaBHNJRnasbIr5KhIvU3FSkkMjYRJKFGO2WKBsW4qJUIMIT0TNmjkThgw9kxyxwTJYlga1KfOchZq0a7cG3HbH3f6/NLipnXJs8trVEu3KKH/yPCzFbKviPubIgrSyP8+9zAbob5o+V3t80/bPtr4ctpe7t+QE2w1hQH5q6Yu2moiHqowU2mIZbuQwAuqW1c+qoyKrBL0WGhw3WloDXQwVGdmxsoI6eJTlsgWK2CkdJ4Si0pguXza7pDWf6jDUQMbJq10ssrdXeCLqzf+9Dnvtsx85YoNlsKwpxrz2FkyfOYe6qZBmyDfq2Qu2336g/28lXDsSeujtt9/tbyYpWtfx0RvFqpJCtmOKuJQxRVqZhnpqLavT9LfaY5u2f7b15bC9cj+oVnuOF4DUmsBEMqKMvCa1Zxczlio2s+qo+0+vSTdaSguKkMgjdQ88DOVr2Qa2wGQ7S/WUfFH0QUiXofioI2JA5kamQHX4KLxGFPLok89C8+Yt4PCD94c5c74mZ0vgUz//vf9hWLRoIeyzxy7kbBmqEsnehZNPF190Adzz3zvJGXny0GxcGzhxCSahjjnmCP9fXfKcykzblEZmMxQqXpbjVLTFypGs2y/P+SNPmh0xw06fGS6+ZqimOOa0nZQHtjT8cbmtjqb8VG94JmKhI8NWW3hyE+OoopdWR89+em264VKahHOoVFDWi0h5Q/katUE1BsukffFh+GBEX0x2XJk1v+oQaSSRMsmUbZSRpa+3EnasdHWZt7UEX27YJ+EnohCcYJo7dw48/NhT/qLkAbiP51iTUHnBVshl4Nqg1zulyUNMWDBtSzlGYQoZL0euyDB9LZBm1qGuWsvytONbrVRTHGutDzjY5Pxukmqq6sYC6+vIsNUWnlzjcaTZqmc/vTbdcClNwr6rBSlii6E4i/jHL6MwWYP2M3wwYpNAfMz4noRIIxlqSB+Tshw0pCaikMMO2g9efmkUXHjxZeQM+Pt4jjUJZasZ8Sms514c4z8p9dEn0+He+0eSK+CvzYTHwat94ydO8SfM7vPOzfCOccP9ACyPx6zryGlDz/Tl4LUpnj68Hl7/Cc8Pv/AS/xrKC84heIz7X4S2d94d71/b2bML9/Hcxx9Pj712d6Enc8KEKfDFF3Pg1VffgkaNGpErJbA+nsfruL3wwhjo06cvuQr+tWuvvdGXgfsBrns5ahG9m6AZ8mBDcam1kStNf1FXtcY37TjaJIdtpDyoVWu+1TipNqvuHTXr+jQ8mcy1oMLI6qaVV7cfa4rWlinro5BDMvIjZQ3la1x/XLCIjVJxQhLsN6LPUHyqG/NBYrdL9TSI9ERUnhj52FOwZPFi2KpfXzjysIOgW7fu/kRQQM9eG8N111wFndZqB/MXzIcrr7oWGjZqBOt4xyMuugA236JfZMIGy0+f/rl/ff9994SunrxrrrvRv4aTUEf937Fw043X+deP8PStvc46cMWV1/jXA3pssCEMGrA1HHt09LU5PF7bq4dbf8/exZ7dl106wr+26257wKOPjoS1124HZ5011F9XCieXkNNOOxP22Wd/uOmm6/zr9957N/TsubF/DUH7r7zyWvjgg4n+9f79S7JvuOFmUqLEpptuDscddxRsu20/cibfMLuY9OhsDjcOOxw0sugZqLOWemTavrrRTh8XQ4dN0vgxlOEPLmF0bMS6WdZn4ckUGj5M6FaXIVNTWovC8Klsj6GhOq5fTbB0rBIQkcUtI+iGEV3aGGpMR2pIT0ThOlEDBg6GC/9xLjkDcPyxR/nn8FoltlICn25q1qw57L3nLv56VePGjYUJE8ZBn76bkhIAkyZOgOefe8bff2TkQ9CwYUM49eTj/WNcZ2r+/HnQrfv6/jEybdpUuOjC8/19lPfGG6/CRhuVFhrffsAgGD36hbr1qfD67bfd4k9ehbny8kti62dVct/9D/uyniO2HXP0EXDddVf7+3hu1qyZ0KrVqv7xAKL3v0Qv/jtp0gR/HznggINg9uxZMHToKf4x6t5rr11g9dXb1E1mIS+9NMq3OaCQXdX+CMYk7/FyQ68cGaZSHXmwwRyYgVlkoct8e1RjbKvJJ5f7tUvO7x6ppaZOHHRjaKMNPJlCT0GpYs5mGUlSWtF3af/lXmOLlDUUa1H9vHJSsQpg+CAiq1xGLxByulQx1FgC6Ntqk/TikAZSE1HBYuX777173QQPMv79sf45vEabjKKi2co4UYMTS8EX9HDbbvuB0KBBA1ICYPHi3/x/w00WniRasmQJ2Svx/fffkb0Skz/8kOyBLzd8jOCkFNoQJjzZEyaw4fY77vb1Dj2tNHGE4ITR448/6782h6/mdey4FrlC9E6O6v3tt5JfSJMmTeHrr78iR2XCk1kIHgfkPYWrq4s5HLVEFr23VkYM9DNtX6sxtmn6ZFtXztpH+XddNeaZLdL6EynPf4qhbTr26fpmIzaeTOFuoOI/rby8H7KapTQoDgOiOmK2Gxp26PrjwqViIQrDBxFdQvYIxEhOl6GgUzEt26attUtlvghPRF1w0SX+UzYDtulHfeIHz+E1LINl02DRwoX+a3fhbXvPBlUaNYyuvYSvyIUnqzbYcEOyV+Kww4/yX4MTBSecttiiPxz9f4eTMyXwlcHZs2f6r911794pMmmEbLBBVO8qq7QieyXWWGNNslcGJ7O+++5bclSmsN1KaMR0RHAxyz3V2URZjDK19IMhbV+rMba1lC+O6iGtO0ae70y6tunUx7o2YuPJFB6SZPXTbKad4yNeA52ReEqpVFwB1CFWMWKLsr44oj6KlBOPL4HhgzFd3BjJxl4n6IYazBrm7ZPOh4IiPBHVf8ut4fFHo4t308AyWNY2wStyuAh4sGD4kKFnRtZ8QmRSA1+zw8klBP/F4zEvj/aPn3v2aRg0aMe666jnmGOPh7ffftM/TgJtQBsvGnEZXH3V5ZGJvD6b9PWfqnr11TH+a3e4MHn4iShc+wn1Bq/ZHe7pX2+9rv4+cscdt0KHDh39xcgR1INPV+FkVvDqX5HI+1DjqB7yMshX580mi56MOmtlBEnb12qMa1o+1UpOOqoDzTuStXRHu3RsM1HfBp5coZip2E8rr+aHeK2SM0LlsahSvpQmoERtqiunrI8OW39UiYid0TIcIxP8EI1JlAphCfIr4elTs6cSEWMEDRagZLM5eY5khCeiOq61Flx/bWkdoySwDJYNoCahmcyE4RecC+3WWBPeeGus/2oeruO0WuvW5Ko8uKbUoYcd4X/d7uRTToNHH3kYriM+4794jOfx+t33PABTpnwUW5ScxY033QItWrSAC4aPiHw5D1/le+qpx/0Fx/GLd506dY48EYVrP+GaUMH1XXbZPbJGFNbHBc5xMXK8/uabpVcDDzlkf//fMIXtVobyRYccmCBH4QzOhryEqTqbK6sRp5Z+QKTpazXGtRp8qqV8d9glj3citEnHrqzrsyByhbqviv7KOkSfJOK10JHS5JBQeY1hS8aLurIGh8lkH8uKksuVESlTR4IfonISywnHSeKJNx+DDWAROZ8cJqjXqUNboeyYPHU6nHPm0MjaUDRwEfHLr74WNujayT+mCk+ppWXSHp+sQkQnlkTg6k8x44swBDBtzMHIkPf4xexLKWZLly6Fxo2akKNikqe2LUI/lSfLDpyDwSM10vK1GmOahk82deSoTZQHsRqJjzIFyFHjNzBdn7Ouz8KTKxQrFf20Omp+yNWSmJhQzJOSfPHKdfYYzEu+jyVlorGgl6MYzPHBmD7hWPHbO3pdWDAFkbo68suUbFaRZUZ/GHZ8Tekyb3OJZLmVfgk/EfXYIw/7E0yfz5qTuGEZLOtwGIE30qWAra7qyAc5SLE68mSLObLsQbXUe9PyFfVUW1zT8MemjmprD0eUNO4MGjqsDAlZ3w1t6ffkCsVKRT+tjrwcrCFbS7i8Yp4o2WM4L0Vt0Csnb7ARuyRihXJ4OqPXdRpBpK6O/DKicYxjRr8YaepKB+EnolRgClZvbSlkHEv9iaiUYhCQ99Sl2pdyjGjkPW4BMTtTil01PBEVkKe2LkreyZFlh87BYJIaafpabXFNwx+bOnLQHsqDly3bi56jOc9JKzcrXZ+zrs/CkysUL1n9tPJqPqhpFkwCxVwp2yQmwC9vOC9F46K0eHqEivocceJ2MfDliwerLIddJ65LXH4ckbo68suI+EbHjP5K6G1mUpcdu3lyK/1yE1EWSdSfUgwCso5FElnnSRJ5jlsA1caUYldNE1FIntq7CLknT9adOgeDSiqk6We1xdS2Pzbl56QtlAYvW7YXOT/TsF1Dh/GblK6/JuJlK+ZEbmLMVHTT6sjL0dMskAgKuRK1iS/AL288J8VjUyonaCeVirocUXJ2UaiTLxa0qBx6nbguMdl0ROrqyI9Stl1WpjkbwtDbzZQuOzaXSJZd6Zfwq3my2HSxCCT6T88uaxSyLVKOEY1az2FHtuSgC1gg615VK706TT+rLaa2/bEpv8htUW15VAQ07jLGm0v3jmeivum7LpG5DDdvlxkzFd2sOrJyVGqE63ASIdFvNrI2+eUV9PAQtaNUjm+AsF8cUXJ2UZCMlYg+Yd9yjYUkciRibSKKSUqZ6lKpRJ7jgLbl1T6XP448UB039kqy7l210rvT9LPaYmrbH5vyayW/qx3bo7+GfOMpluWdDnXb0O/JxDhxY6Wim1ZHzQ+5GiWHSq+fcZzjXE4iblOyIL+8oq4kRGMjUg7LiMoz5QtTX0Q+X1lcjqiBOo6I1NWRH0W4bWKYsyGMuj3FI/2JqBSwkxaGSDG78hyHRNtqqQc6HDVJrkfpKiLNOLs2laOK45Wre7jLyzgaDWQ8nCaSRUUG1rGRqEQuN04q+ll1ZOWUkKtVckiojkaOxOWzhWFZv7zxnBSPjUg5MVnECQFflHWibMlYqcfBQqNYp4g2F590J6JEM1qDPKSRS+Vk8h4f136OPJHCsJkR2NOy6m211MvT9LWa4lpkX3Jge64GrqK1pc3gacg2HsasksSWXk8uxigxTqhbRT+tjqos+VrCmjRypCw/CCJbmF82uYgyIn7G42HAEAERorbFoMpOViiiyw4isTQQb0cuqMononJLir06r12Ua1d2I18hocbTxbDqqO4mxSzOYsTK6yhpgzR9raa42vbFpvwitkM15Y4qNkd7DdnGm8aUn7JybMQXZXpbYoxIGWlY9VRklZCtKfQlOCyikSNlm/hC/LIaupIQiY1M/ITKLvOcEfBH2TaFWLF1xYXFy1pqHEsItRGVYvkZRd1rXSqj5iaiDJOHtCxs18iuXzgcPnlOwervHlmMXKizsCOmJGn6WU1xte1HreRflrgfF1oYT1Hd9sD6wSaKbHkRiEzucKeql1aP6FRAtmapvEDja+SHjE1+WW6s1RC1g16GbpCQX4K+CMmiwZTPViyjK15Wt3FE6uvqoGFDpkMENxHlSA1mN8eRTHmUNYsbihw5SUUqebbNDFn1QNRbC70/bT+rJaa1kh+O6kXx7mE87XXuYlhXpb7FOyc3Pqr20uqp+yFXM7wgOQeN/JCxyS9rPBdLiNpBLxc3CssJyRT0R0QWVaeleAUI+eioQeQyw01EGSSxz6fUYy2PO+ZxI5kyhWtrhxGqv8tkmdm10qvS9LOaYmrLl6LJFcTd33OCYkMYT58sEsKWTk9uYnxQr4puVh11P8RrokM4CSWIYn6gfBlvbD0FhYjaQS8XN0o+dsmOicijlkkUS7+IcoTtp5LsCx+R+ro6opT8VZFp1o5apqomorJMizykZJ67BdU2vRHP4bBG3lOz+rtOrY/maYB+puVrrcQ0j9R67N0PDSWMp41uO6jUt9X2ntzE+Kjayqqn7od4zZJDQuWxqGJ+JMuPC/UnoSwhGht6OYqt5F8ugj6JyIuVQdkWYxYQty0FpYYRbq+UyatdtrAyEUVNx1qLbJha9t1hheIN+Q7TVP+wktIvKiq11MPcaCKHrXi5dnDYQOFOYTwVde9WKvVt3CE9mctwI4dUTNuq7od4zZJDQuU1ciNZflxw1pNQWEY0hqLlom6yHRS1L4K1tgkoKYiXtdhQEdLSk1dM+p+fWFbNE1FZhjQPzZnn7km1TXjUTo88x9CRPjlM0RhFsFGfrHpmLY0I6Kttf90Iy8dWjDKMfW0MUoYwHSwFecZTRdcn2fpY3nQcEU9mYmxU9SbVUfND3BJ0qPQqnlB5jdxgyy/ZEMa3R0NXEqK+CsWDIFQ27iYVZfs04iXmq6UGqcO2fBYqerOytUiIZRVifCKK2jzi9lQftey7R1G6qxtWHDSK0H1rY4jJqofW2shg21+UXw0xrbW8cBQPhTuD8bTWvTvJ1Meylu6G1p6CYtVLupaMeK2SQ0LlsahGbrB1xIXmdz2oMCUDsZxw/GJQfCf/8oiV04iXmM6ygnh5DeV1iMgwoaeMaKwd9nGLlWtitmuokQcbpHAjgD1cbI1ThJDWRrNnNdKh3sKNshqk4Ws1xNOWD0WTK4C7LwlgMkgKsoynh64/MvVtJZgnFyehmOA1Fd2sOqryZGuWGptbHotp5gVbR1Swb7/xHCwjGhvT5UTjp6zXYsz4ZKrcACr2F93n7KnMYTcRpUFiOmKkhUcqdfLcJYrSXd2w4qgGUhhuckCWvRV118pokYav1RBPW/YXTa5Jip4TKpgcvRVkGQ+5jj9YV6a+ydiF8eQmxkVFL8s31nkxxGuiQ4Kv4mnmhIxHtp+CEraD/JuM+a8KKttnoI34lJUI+y2FiBOWksNhEXabVV6piomo3KWond5aHbjYOApIUdK2NroXjvhZjvq5u+NYJA1faymeMri41AYmR20FWcbTTMcf2bq27nie3MS4qNjJqqPuQ5LUOCWHhMpr5oSMR3l4CgoRKytoLBZLLFq+KGpjrJxy3EoVZWKDxMsrGxDChAx5ZH1PE7Zt2cQqDdwTUYrkISXynJZU23LY+4vYtat3OMo3eb55hSmKnfpgT8iqN7heaJYix7NothfBXte/UiFXYZa9c9m403kyE9eDQp0m7ZSVVUa8Jjoj8RSURk4I6fDx7PH05OVVPNGyCLeshE8yNkbQjJu4vyVF8fIWGy6GLV1p+uBIwk1EKZCYvuI9vGpx3dtRrRSle9fWMJTViFMrI11afhY5nrZsr6Icy2xQynMMTQZFUpbxsKB+FX9k66nq4eHJTIyJik5ancB+FXmyNUsOCZXXzAcZb2xPQInaImMzBohbXsgviTbxiJTDqlqxk3itUE+RACLybdsgi1175PKxejA6EZW3lKlmXKz1qboY1uoo5qBSW+mQVW9GvbUwGqflY5FjWQt5oIELj0UkR3vjbaF6t5GtZ+Ou5sk0/hQUQqujIqeMbG1hyzXzQcauesvsDQRSdpB/ReDGEV2ScEtUd6ScgbCJ+1xWFq9jov1MyFBDPAaOtCj8E1Fpp3OivpQyPLsuzIdpm+v9dnHxTY0ihRptrZ3UwNEnq9ExS91pkZZ/RY6jDduLItMhh6mROesRXlW/bD3TfqI8b0vsCio6idwYKrJKsCQmIVxecygQtwtfx7M37sjER75sgt2SLonqjpQzEDYZn9nYa784NnWl6YeDh7GJqCya1aVSvihSexQ5d8zcUBw6uDbIM9i7s+rh1X5XSiu2WbahLtWeA478oHAnMpqeKndCrCNTT7a8CJ487hAjqzPJTnX7xWuWHKpHNqGGFiiShIxtVbcelGCIw8jYWYeBuJXkiQoql5OJlTgGHFJEz5/s7C4ecrFya0SZwk6PjeG6gsPlgEOWlIannJFVT0G91d5L0/KxqHE0bbeNOKQc29ochBiYCIaCDKNNruKDbB3TSePJS3wND0GdMnp55WVklRG3Ap0pOSSsqVxFGVFd+BRUXiahZCiXpxiv4E9JHr9ixE4DcZPzu6wwXs+AMcIyTOhiYVN2kZDLDJvYn4jKj6/auPRlkxibKsoBhyOgaGldm90QR6asRu4sdadFGv5VewxFsREHF9v0yWgkzrypZfzGsqbj5MnjxkBWZ1J5dR/Ea5UdEqqDxTXzQNgrT4/NCShENE7i8SxRLk9xQMEnaTtRh4HYyfldVhivZ8CYjJGLRSXF9z/PSE9EtWu3Btx6x93w5rvj4fNZc/wN92/zzuG1mkQvw4XJa1dItCul2MjghhSHKXKY3okUzV5zYK/PqudX+4iThn9FjKENmwueS1IDkClfq3HUk/TJeNrYjKkN2Z7MxBigTlm9SeXVfJCzouSQcB0DOSBsm6dL3A81ROXL2IFly+UpAZOMIVdeiLpyBtoJKevNC6KOGQoAFZuyHWXksk9qImqnnXeFp54bBau0agVXXDoCOnds52+4j+ee9q5hmTry1xMKSx67D9rEtAvbPoftX/RhyA2j+aNow1xtD8tZ9aBq77luZKJThLi4tksPE6OvpAzjzavig0gdLGMiPpV4MpkxUNXJqhOWh0qDjY+4FSWZYU1cxExgIqurXFZTMQUZW4Rt9oiWpdgt6YqMjX5ZlG8gXHXyIvAEl6/L180/cZ8ceaJepw5thbIMn3bCSahnn3kKRgw/n5wtg0KGX3QJ7LLr7rDbzoNhzpyvrbZ+2l2DqS+lDM/jUJBoUw57fh5jKEMe47106VJo3KgJOaptipZfRe8PemQ1QOVwYDRGGr4VMX42bDYtM8W4Sg08JuzKU87o2iJZ3/ggr2K/SB1bbeTJZcbAtC/hazSl9LrJVtCNl7JcMwekdHmUX8fTVExBxhb1shS7JV2J66YLqCtnKFR0n3nCy9dF7ZZHRo4pnWXKfqnINm8PC3r7Bdiww6ZvybLDvgpPROHrePjU0z577ELORAmEPPbks/D9d9/BsUcfwYuqFjbDR4Opz6KPAWn7KkqWMVEhr3EUIdH2DOPtJqLKFDG/itwn9MlyoMrpIGmENHwrWvxs2GtaZooxFR54TNiUl1wxZYeEHKMDvKz9MuVNt5Enz/iPJl0bg/olw6LSaLLpDkhZodH+8t7mY1FyRK9syAkFf+i644LqyhmKGdvnJAXla4lx0EJGjimdUUq+qcq2YxMNdhsipu2w6RdfdthX4Vfzuq/fA/575x3kiM3dXpmNe/chR2YZMvRMmD5zjv9vJa+89hYcdvhR5MgszJAmZ40R0usC1U2R4+hyoBikMBwYB20uot1myLJnoe5q7dlp+Fa0+NmwtUj+q6LrY+2ObmaRjaNMedNt5Mljpg3qUtFnykbWK3VocOUWR9gKtgghpL21+GU8erzY6JUlTijGj647LqiunKGYsX0WUyATM4cdaq0NwpkpPBG1eps28Pxzz5CjOEEQsUzzFi3IkVn69dsSFi1cCFt4/9YChsYoKzBty2FvynMceRTZ9lqkqDcTtLvWboQlsIdl2cuquYen4ZsbIc3hYumgIXNnkLmT2LjrePKYaayqy5yNOhYI19XsxvI2libXbCArV7Q8lmOWVYyfjG4fQ8MtWy9PQdJ1Q8ZJyTGl0yR5sSmPsTGH9FfzWNgOE65RtVHPXnDjjddBT+/ftL7Qx/RLdNRRpLrTzmEMy3nokKfITVK76YQjblajbjWP9mnEtSjxs2FnNeeOQwsjqSFzR7BVVpBlnkymz6r6zNlZT6FBULuwBSheo82ldAVYfhJKBtHyieUUfWHLjAr0y2m2UxhRvXHK1+MyDBlnTI4eie3tyJQgQ4xNRNnm/44+DqZNmwr3/PdO/188ZoGTVM+/OAZmzJzjb4898WzdxBW+voev8d13/0j/Gh5XnpvyyXQYfuEl/vaxt/+Fd+5V73ogA/994YUx8MUXc/zt8cfL8msB5vCSwx6fj6FQHTeIFhPXbkUFR4wsRo2ij1Q8bPtXlPhVezsL4gZIRQQDp51mqEemkbJsUE83TkJRkfUDCerI1oujKkm6jkZ7y9vnKfMnoPLxJJSo/YnlMH6KMRS11S+n3S/LsPXylJSvx2UYNFAK23qz8ksM0RwqDnIe2ZuIMhzZAYMGw5iXR/v77499DwZ6xyz23e8AmDbtE9iyX19/69hxLRh6xjByFaB169Xht8W/wTprtfMnthAsM3365/650aNfgH323d/XMXDA1rDfvntCs2bN4Wgy+RXI79+/r79h3dNPL8uvSaqvJ+UfF3OHBVxaIfjDJe0fL1noTBPbvhUldqbtNCkvbzHUHY3y4o+JUVVQhrbLsrbaLs/Ck8N8Cgp1qOgxY5uOdul6iu2tosuffPL0qfgmgqxNomUTy2n0l2T9ZcH+U2Maeiph6+UpCdlE/rWDQWczoxp8yBLxDBOaiFJ52sfkE0J9+vT1J4Kuu/Zq//iiC8/3j3faeVf/uBIsd/ppp8CcOV/724QJ46BJk6bkKsCSJUtKX/ULMX/+PF8ugnUbNmwIjz460q8/btxYmPrJx9C2XTs/ttdddzUMHcqWX81Qu6bdEU0ZN4w4siSn3UIItL3I9psji1Gkmkcu274VJXam7SxgzrgBRgLBYGmngWyjyJTHsqYa3ZND9VVHh75tqWpH/xXbW8VGnISyhWzcZMozy8XiJ+dfsv6yLNOvLrL18hTpXhdFVo7hAIUQzRFHtghNRJ12xjD4YNJEcsQHy4afQNLl5FOH+hNDwat2uOHx/vsfREpEwUkwfM0OX7cbP3EKbL/9QHKlxI8/LiJ7ZXByKiDoFgt/+IHsgf8EVQDKv9+T/+qrb8GECXH5utjrlnrk1S4aRbLVUb0U/UbobuRIFqNJNY9gtn0rSuzyamc1514W6I6igvW1m03GTiwrWl6mLA9PTuJTUCro26cjQbou+q7R1ip22p6EkkG0fGJcNd0RscHXbzBsif5wHYpej8ux177ZU82+5R2RniI4EbXV1tvCs888RY743H3nHbDVVtuSI326desOp5x8vP/aXLDhcc9eG5MSUW7/z3+hYaNGcO89d8NuuwyGMWNeIlfMcMcdnvyGnvx774ZddzUv3+FwVA9iQ3F+Kbr9ZsAfM2n/oMlCZ1rY9q0ocTNpZzXmStF90h09Betrh0nGTltlk/Dk5HAxcqytI0GqLvqu0c5KtpK1oGwha49oeWY5ZgzFfeTbQBZwtxc2LaRzQIr8OG3XT4cYYvkgNBGFTwv9Y/gI+HzWHOY2PbTd8K9bYMnv5SeMdBgy9Ez/3+efe8b/NwCP0a7TyPUwuAbU7Nkz/fWfth8wCDbeuA+5YoZA/n89+QMMy8/p2JVbu2oa1yiFoeg3RXdTD8ii01VzR3eDmFlMxdO1S/YIjrraTSUzutsqm4Qnh+kj6lDVo26fjlZEur5GG8vpQkWlzeZi5IiMbBkfmOWYMRQLrpgNZBLKMMl6eQp1r9vEtu4sfXOIIjQR1X+z3tC5Y7u67eknH/dfvwuOcR/PdfL2g62fV8cE/fptCZ988jE5ioLrNuFEUyU33Xid/0QWvsJ36GFH+OVEEUnbm24qyccv5h16qCd/qrj8JPLaZRLtEr07OJRww6gjL7iuHoC9Mu2emYXOtLDlW1HilVc782KXjh1Zjlo6ugXrajUR6pCxMe1YevqML0aO6NTVqVlCqj76rtjGql7iRIqNyZQwMnaJlmX6mxhDMUdFbLAVt2TdPIXR63FZJg224LwiIu2VTH58qQXqderQVjriuEbSi2Neh0+nTfWPu6zXFQZvv7W/cHcd+plQR5opwdRl0B8aeU77RNssx0WFPMdSBiE/Mo7/0qVLoXGjJuTIIULR87Na+pcZsuiAORx0jWHDt6LEy6SdpmRZjp3wYKJqR5Ztr6NboK7WQCxrm+3ylXj1qf4ZkKuBam2lehrtq6LP5it4ATJ2GSmb6JKYvyJ2lCagzMcvWbeIvmiZuDyTNsvKMh+vgLKfqjrs2UaDn2M27EnDx2Qdgd9CT0RVghNOO2y/NcyeNdPfcD8yCVVQ0k29YpAYE37vcTgcFRS926D9rusH4AiZ9p2jmu9UNnwrSryquV1rDZ0RUqCuVqrI2CY72suWp2B8MXJEzy7V2kr10HeN9pW30+46UAEydhkpq+kSyuXa4emw9RRUsm4RpdEycXkmDZeVZSFohLKf9nSYhJtjVUzQQkpPRNGICTEY3bTSiaknhUxJy0cZEm3Kae/JYxxV4fqSgzZwT0TpUQ35Wk19Tp+0O2VOB2ItbPlUhFiZtNGELMsxEx48VO3Iqs0t26s86MrYJeuDbqy9+ky/dGSr11WtqVTPwI1UWq/ldaAQWfky5ZllhWLJLiRkg1c9Ws5AA3rwdYvoiZaJyzRjaxlZeab1lzDTHnZsY2GmvWVJy0e+HvRf6YkoR43D7zmpg+me7vBhF64vOWwDhzzV0Izog0vHgLRHoWob+RBb/hQhVibtq5a8KNroomqvYD3lZpWxS9YH3Tby6jP9UpWN9dTqqtdUrKfRVQNb5fTaX4wckZEv40NiWaFYsgtxbfCq+utBkcMSGg0Ygu+/iJ5oGb5MXWR9NxOrZNLQoY/9tskaMQ/dRBShGGmbHkWKR821XfWPXo4CgmnpUhPBESnY0iJtfbapNn9kyJPflm1xAwZBMBDKzSETaNlG0W1Erz7VL5SrI1suWIE2HY3SddFExTZVs5VMQCnnkTgythkrq+kX1w5PfryMmWDyY2Cq0VJofCZZ6nbkFTcRlQMK1TVl7hgp4IY1R9HJWZfSBv2pNp/USXuEqrYR0YY/RYiRKRtNyKm2nLKJysgnWEe5GWyNxrojvVfXynpQYfhB0/UCkZaBZml0Kzl7S8rSmoBCZOzTKhvEMdiEiBdEuVw7vGrxMsJKmQjpFtKDZaLlbNgbxbQ8dcq+6tiUH39qBYx47ieiXFqkDzPm/NHS4XAoUI1dyw0XAWnfxVBfNd05bfhSTfEpOG6g4KOcrrLBFS2v02he3cQJKB3Z4pjQpCRDY+iR04eKSsrSnIAStU/OF0pZQz5xbSBhjJfTN0DG/2TitpiTbQpDDeaoOtwTUR5Zdo+8dU2mPfkb1RyOqgK7WLV1MzdsBODImvZon4VOW9jwI++xMWWfCTnVkkd5Q2CEVA69rdFXR65Xl+mPLXtRYVkpatHVpCxDoxsl6wt8DG8l0noNTyYesrGLlTfkE9cOoideTt8A8RjwdMWv02UbClodpuU5ahUjE1EuHdXIW9yK1o41mXfidy9HQam2JnYpGwZHrbRHrmoZKW3ELu+xqZa2c8SxOTKKysZy4Y2HqFwaXl1mOuvIFaOepxw3HUSjFAPVKqrm66QL9hfU1nNXCNl4aJfX8qlUmRtTLIbx8/6RtVcEcZk8Z+PX6bJ5cmSRlWdavw2KYGN1kusnotJIC64OG6OQR6FS3lIMHJK4dnAUFJe6laR9B6imH1mmfUF5eY6PCdvyIkOFPLdNkZEZlbGsziju1WU2o927Q9xy+XyKyxAEVSmmL18nXXiaE1CyMZEpT5Wv5VepMtcGooNdTi+44jHg6Ylfp8vWs1cf+/rLfmftq0MF7YkoarOL97RM4aZsQfywSk5j4IYbRzVTjUOPG04rwVEszZGsmkZNG77kOT7V1HbViuwIZ6tNTY+0OvK8usz1oOzDtlzcIGXvNXxO1omC48LTmoBCZGKCZYNNBGpZusuClCoL2UB0iNoqi7hcnrPx63TZykFLwIZMdcp+58suHrZyrIjk9oko2ynFlW8xSwrTXXLYUzB2xRpuHA41qvFGhT4FmyMgzRGtmkZPG75U8x2myH5Va5tkhcgIrDlSC01A2bkTaFruoyxDYwiJ6gwEVW5x0pqAQkRjIhs/Znkt30qVhewgemRslkFcLs/h+HVbNseRbQzZ8o5aJJcTUZmnbnq9OjcUYbiolSHNDd2OgGoeimpwmE0Ae31aPT9NXbax5Uce45MHm6olb0yjMpoJ1JEOt6lRVUeOVxcnoRLB66ZsLSMnNQgu/hvdlNaSWubVwU2BqN2BHWKk+RSUaGzF26AEs7yWb4JPQSFEj6zdoojL5Tkcv86WnVJiMLGvv+x71r4WifzFyvxElK2ebBCXslGo8ShAO1YjLjcdlWBXrNbuWM2+qYEjQFqjQJq6bFItfoig62etxCnvCIx60k0lOpLyyumMyF7dRLtRto58OupSy8YGMspy8Fp4SyBymVO2gpI+QT0h0ngVLx4TPjJlEWp5uVBQKE1CCUH0yNotirhceYfZsm0khoxMG/ptkld7ixZHNXK9WHkm2BqNCLWRVg6HwzQ4NFkenjKjmn1TI807BeqqhjuTaR+q9W6t61e1xkUV2ZFLoLx0iEVsEBllZX0J49VNtFtHNh0Rj3iIy0DnKra6p6BwCxMcB9fiW/krfriJk8YEFKISV9k61PLavglOQpHQY1lxu+WMMys3WoYtW85GMWRk2tCfRNr6HKYxOxEl3uscOSHWheVGZYdBuMOpG28dHtXcPd3wEyaLH3RFH2RM25/HeBS9jSjUTKcXcFS6eUWCZ6oMDa8edz0oVdl0UJquRG0Z3HaKFwh0quj166XU9VXtE4UaA/RN2z+JSSgPFT9FEZct4nS0DFu2dgApyMi0oZ+OubZLz2Y58mqXeer1XL+LlreRyoYyw2b4ubItjUx5TCmqTZb81yWP8TONkI8pt89ffy2FP//8w/v3L3ImytKlS6FxoybkyJE21d4vaqHf88liUM7pjUAY0/bnMR66NmVdvwJuZ1fRl0a7yejglFUa8Hj6RexTjZNXz0q70TEhyYg1ku2kqzPPE1CITL1YWWO+CUxChXTJ+ypuqLhsEZnRMmzZxgIZQlamDRvolOJgQl96NgeI5Yctu9L2l68vd6/mpZ8SIeRHJiEy9YkB1SZL/jv4COVIBu1Tv/7y0LBhQ2jcuDE543CkB6Z8sNUuODqkfRfJ411LBtMxK3o8HHaQGZlsjGI8mSLXVe3y6iV2Cx3ZUUxJ0pahMKzo6kzrNTxVO0XrxXQoxJKFkP1El1BZDczKjgaILdtGksjKtGEDHXMxTs/m2oXfWm6NKMvkMc2L1vXcUOFh884pwHLLLQfLL788OXLkhYzTIlXQ11ryNw6OhGmOhmnrs4FJ+4sei0p0/TEcj8J1bhmDBcpKh5MnU/d6El5dpr0oV0d2GVOStOWgrwrprqPTt9lwF6tEJy4ydWPlDPpVkp0gMNR2qr6KGiwnnyczep0tW8w2OWzINI2ujUXwsTZYTr1jmsd2WiTKz1MgLMKMQU79r4Whoig+rrjiimTPkSdqZOiqA/2tNZ+jpD1ioL4ij8Qmbc9TLEzYUeR2rSKkmyFpBBQZIVVHUCKbaa+q3DgmJBFr1UE/FbuIit7AXn8CSlGvKKpxCWwUJVbWoF9cO0K6VP0VRU4+LwjR62zZlpNEmLzY4eBjuyfIo/VElEu9ZPIWH6Y9+ctLH5dfhJy0T/369cmeI2/ktAtbpRZ9LoOjY9ojZJFHZNO2u7tTiVqNg8zowykrHULdkU+1vlcPbWXaq2tXCZRiQpK2DIXUDmyX1V1XJzG+5pC1D5H1i1reoG9l2RShFXGUsTsO32hx+RWGUYleZ8vm26WGLblm0GtLRzYkt5p7Nc/hyJB8D/mOIoFDfa3dpGvR5yg4gqQ5iqStzySm7c5DHEy0R1Hbk0ceRgaODdKh5/mUdB2vqcbEq5doq6rcMjrWBQQytK2RbBdVnXX1UF8K3VDHTlGYOgz5l+hDRRwTyxpCXL5IAKJl2LINBTOGLbmm0bUzOz/F8sWmfflr45qZiEoMvYWRKn9NzcD2KK1IYeKngZCPOW0fR37BlKm1tKlFn6PgaJLmqFnUEdq03XmJQ1HbQ4Za8DEJ3giXdF1ndPTqWgo9WhVsOpiQ4YN+Svqqqtevp6BPBZ34yNSjljXoY6ItFTpU/Y3CNhzlm9ERENXFlm0omDFU5dqyJ47ZeDvygrmJKJchuSa9oUKfItlqFdenHBpg+lRu1U6t+MkGR8+0RtCijtRBjIpqvw1cLMzDGYmkQs4b1ZKua46IQnbK5Q9apGmVjyk5PhIuBHpVdNfVS6HLqdqIyNSllkX/DPmYaAtFj6jdybCNl5fPC0T0uhn7ZeDZ53DYw72aVwMUaYipleHQDfuOLEj/B042oJ+14iudtEYY1FPk0cyE7XnxX9eOIrdjwZAKNW8kS7quMwp6dZeZHUVRmgmJpuT4YFsItoeu3rq6KXQ1VTtlfYyVlYgnj7gtgXBvW0a2CmRsZxOXGyAvny2rRPR6snyeLBV0ZNqwh045Lro607PZEYad2bmZiLKZGomyzYxaxaSWfS8Cbrx0OLTAIa52hzkcQNIaRNLUlUfy4nsWdhjU6X6T5ACvEXACSrpZ2RVMjcOm5PiguRI+6uits1tSpyoqttbZKEGsvEHfEm2h6FGxXxZ5+byAiAYMyxkMrqOGsd1LWLDzt16v9btQ5pSTee3N96BZ8+bkCODHRYtg6y03JUdq2OxiibIttUlehgymHVnlIoe8xM0mUj7mrJ1+/vlnsldi6dKl0LhRE3LkKAK10MdY1K7vaQ8kOb3BMDFlbx781rFBta5BvxM7qYweW20hKpdRzugPgKTrsv575Y0MkCW9stqTMCnLR9JPVf2ReincfIzYKQC1vEH/6PYQBRV6VH1OJu6MvB5eQER18OTooCPbpl1RynHR1ZmezSz4eZSGjVnEga1TaSIqIFKPRLdXr94wceL40oEENsPClC0/sghh0xdZqLZY8luXPMXNJtJ+5qi93ERUdVArfY1F7fqf9mCS05sNFZO2Zu23qn4duw35zOycKvJNt4OMPEZZqcGHpy/puqTvhl7DK0kxIwsxJ8lDYeBX0R+pk8LNRjVGsvWY5Q35mGhPxV+qqj4nQ3dEXhcvIPHrbB2GghtDR64tm+iUY6OrN127afBzKQ0bs4gDW6c/EYU7omadde750GvjPrBm+/bQoEFDWLJkMXz15ZcwYcI4uPLyS+C2O+6Ghg0bwaEH70dqiGErLEy5dkYxH1u+qEC1xaLvquQpZraR9jVH7eUmoqqPWup7ldSu72kOKjm84SRiyt6s/VbVn3a9CpidUkW+6TYQlccoJzXg8HQlXZf028AkVFyCnkx9iyqQiL2q7ki9FG4uOjGSqZtY1pCfyTqiSnT8ZkN3RF4XLyAyvhgKLhUd2TbtihKNj67e9Oxmwc+nNGzMIg5sncJrRLVp2xaeem40bLZ5f5g4YRzstdtO0KvHerCn9y9OQm2z7fbw9LOj4cLh5/nlcUIqtyiMYieeeAoMGrQjOWKTfZqXQDuotij4bpu8xCyX5LC9HNUFplitplnt+s68Q1igaCO8KXuz9ltVf8Z2MzukrF2me7aoPBN6eTKSrkvq12hu1BRscdQEs+VpIGiKju66eqhLI6ai6NgpU5dZ1qCfifa4SaickZ5d0fjo6s1rPGsFdrYLPRGFk1B33fsgfLNgARx2UPlJJ1wrauv+5bWh7n1gJKzWujUccdiB0Gb1tlKv6PFSBG248qrrYN111617EuvLL7+EfffejZSIw5QpObrgBNTppw+Dwzy/5s2bS87SyTrVE/XLj6rWyTpeWSDlc87azD0RVf3UYp8MqF3f0xpocngTYmLK1qx9VtWvUs+Qr8yOKCPfZNxFZSWUEx5ceLpY1yX9jdkjXl9OE7+0pOVyCMRdR3+kbgo3EFVbVepR6xj0MSq/UrB3NaNJKDU9vMDI6OHJ0kVVvm27yiTnhgrp2c5CLK/SsDPLWMR1Cz0RNfyiS+GnH3+MTEIhuGB5OLCHetex3IVeeZOTUIMG7whPPvU8LF78G5xw3NGw0QbrwR677wSvv/YKKSGBwgiz1177wNlnn2F1EmrwoB3hf2+8R47USNSv4LcjY1ybOTIA065WU692fU/rh0laekyAtpqwt0g+61JLvkogHJak0SdpdJIctaj28I1MsoANyqXLVpMnCFttHbr66+oK6DKBqq2y9ahxMegjVX4lbhIqZ6RnVzQ2eY2HDdLy1U5vUoX7RBQ+ifT86Fdhp0Hbwry50YmYiR9N81/PC9dt064tvDDqVdhxcLw8C17on3l2NMybPxeOPfoIckYMqlyL8ef5kcRBBx4CZ511Hmyw4XrkjDyJ+vOVdz468SoqUj7nsM3cE1G1Ry3204Da9D2tgSeHAxwTE7Zm6a+qbpV6BvxkdjxR2SZjralTeBBJ0qN6rQKFHyAS0oWpZ0VqCI6futoj9VO4SajaK1svsbwhP+k6KoRXHKr6n0zcITU9vMBEryfr4MkygYqONOwqU46RSb3p+lCJWG6laWNW8Yjr5T4Rtfuee8Pnn30qPKmE5bD8HnvsTc7ogV/ha9+hQ93aUyw+mDwNzj7nfHjv/Ulw/Y3/9l3FdZ3e+N978KF3bax3/vY77oY2bdqWKnh8+KFX5+zz4Y03vDLe/rPPjo5cx1fy8Bxew+3RR5/27QkI6o8dO8nfv+P2u+uebJrsHeO/eBzQ1pP9mCcDr73v1cHyyI03/NufhELwGupE8N/LLrvKlxOcQ3m4j+VwQ3loU2JK2RnFtciqC2SJlM85bDNHbVLLqVibvuNIlcYIXaS7QC3esRziMEYK4bRJGmlUr1UgmcL1vAq4mQStLVlsqT+hWI5oiYjFKNtPsORGQEyfICr1mOUFYiqCkE2enrfGvQpTpk+IbB9527iP3iaFdKE7VGnbHffeCpOnTxTYvL/l7r0N2rZrQ2qySfbfQJC5qOhIwy7bVIMPJslXPLgTUeuuux7MnTOHHIkxd+4cWLeL+pM9Ydbr2hUWLVokNBHWrXsP/5W9Iaec4E9CHXrYEXDbbTfDhhusB8cfdzR07LgWXHTRpaR0ie5enf333xMGD94WVl65GZx88hD/PE7ujBhxKXz00Yew4Ybr+deXLFkCV1zxT/96ANbfpG9PGDZsKPTtuxmce+4FcNllI/zy33yzAA4++DBSEuCeex70ZeC1444/Grp06QrnnH0+nHLqCXDllSW78ImoXXYZ5O8jfXpvAkNOO8k/F7YJywU2XVlhUwTuyJ8+tTgkuGHQUWSEfkRWKbXrO45atkeuNHSYQtfOLP1U1V2UtrGFSM9nlBEOXZIO1jU8L2IbQaIZ45L1ciCQF7fWcG5xxNFtEINa17D5YVRt1alHxZCPyTZ5SlAP0dWv97awfqeNoQfZzjz1HO9vwB+hQcMGpQJaxB2ixQwnoRo2agiDt9oJNujUK7IhG3TqWbcN3mpHv+xFl1/oX4siGkDRcjqkocMkRbPXoYrwV/No/LhoUSqp8vvvS8heMtdfe3XdhNXW22wHr4x5GR584D7/eOKk8fDf/94JG264kX8cMGzYaf7aT7h98MFE6NFjQ//83nvv6y+Gfu65w/xjvH7IIftB69arR76eh/WRUaNfgNlfzoZPP53q78/1yr/2+iv+OloIPsnUrFkzONiTgddwDS3Ut/HGffzrLF59dUzdeluVNqGcg4hN4Sev6lC5I1nGDS0C5LDdHA6E9qOtVgh8rz3/cdQONlsU5c6ga2dR/CwypnqoiBxGGeFmTtLBuibhH9ohYAtKDDY68nmbLM8gHB9V7QjqReoGuuTDIYSurSrE6hn2MSqfIrTiVNiXwTsNhPMuOhsuHX4FOaNDXDcrZn033wSGnXo2zJ0zj5wJiMvAMsNOPcuvkwRLl7FAJ6KqIw3borDjVO2kH+u8UDcRxWr8zz6bBm3btSNHUbYJfTEvTNu27eCzT6eRI31wogXXquIRTNhgczZYqQFM+fgj/zjgwQfv87+4F4a1AHnjxk38J7sq+fLL2bDKKquQo9JkUJjFixeTPYBFCxeSPfDroO7glTrctt56W1ipQfIsP+oLaMKwCSfAwjb51G5vzh1Sw4trN0cBqPU0Rf9rMwY4mtn6wWRTtkl0bczKR1W9RWiTIpI0grCuSYw6As0mN46J5YG8TMX84lSVs6MMtZ6GmaKo2Iro+Ej10yBR+YFwEkxcjDy0IHmlPeFJqFHPv0TOqlLWExDzvQKRSagAetmob3TYMs2hqiMN2xwOgSeinnriMei8bhfmRFBlB8NyWP7JJx8jZ/TAJ5rw1byzzj6fnBFn/e49yF6JAw88BJYsKU8U8cAJtUrat+8A33//PTmSA/3AV+rCW/g1PBHCNgXDRIdKm3gjbEa4Yc3hqB5wmKncao1a9LmEzdEcZef9bqFrXzXfDavZtzCM3i/kftLIkXRNQDgWSSiG0oNNnqjgsCx1mYhQ0MoI+CcLs56kaSoYtTeBxDqG/Uy0rUJXZVmbk1CJMWAiExzRsoYDTkVVRxq2JWFSf9a+iCKflcUk7mdkIooWBnzV7f333oXrb7qFnEnAE3DlVdfB+2PfFV7cXIRHRj7oPz2Ei5AHE2K4XhIuTs5i1KjnYbvtB8CBBx3i24XlDz/8KHjP80WEe+65C9q3b+8vFo7gIub33TfSf0Jp9OgX/HMyPPBg6RVBXJgcFy1HcB0rtCtMcI3GfytswrIPeDbhE1H4OqDD4XBkSa3cSsOgz7Xod+kHns0febbl66JrWxa+5TmehAKYyETI9qTRQmQkSVBCuRSMT8GmT2kRczOywgg2PKOYjn/MeoImqaJqs9E66KNBPxN9ouiqLGtuEiquTDRuuCZVmaiMJYuXeDayHiCocM6DrjNezjyqOtKwjY5o+ziqi9gTUbREuGj4ebBys2ZwzwMjyRk6994/ElZr3Zr7hTtZ/n3zjXDVlZf6TwO9OOpV/wt5/771Dn9x8sontYIudLNX58knH4djjz3R/6LdLbfcAVOnfgKnnnoCKZEMvuZ3wQXnQe/em/j1R3l6kWOOOcL/VwVcxBx9QFn4at42W28Hq626mn8NJ6r8CSXvWvA1vUoCm3ABc6w/mmZTTntydkNbttSq347apVZ/TKDfwVZb2B7l8jyKom069mXhWxo6begQ6Vlp9T6KHiGXk+zTsB11h/SjpGAzRVxmGnlUAUWljp/MuhXxNEmgU8VmnXpUDPvIts1TVKGL5kvSJFR0cigJeuPJxG3L3tuQvbicJx97CkZccaH/tbzwRoOuMy7TPKo60rAtTfLhj0zu1SL1eq3fJdZStKbDCZ9bbr8bVmqwErz+6hi49793+U894flDDj8Sttl2e/h9ye9w3LFHSD8NZTJVYrIsZUAe0ptqQ04zPg/xygJpv3M+Yv38889kr8TSpUuhcaMm5MjhKFOrfT6J6o6J7cEr7z/ndOzLwjdZnbbLE5idRESeqTjy5FRcF+rYSTJV7CZ1QrpVpCQhJs+01jCe7NA6QmFdulqp9S0P0Ko26/iahp+J9vm6ogrfGv8q9O+9LTkqYeZJKLpjavGTCdIymDz9A9igU/ljWHSdhgPPRFVPWvbFKcfLlA3Z+VKJeP7lPT9MEdUvPBEVcNa550OvjfvAmu3b+4tv45pLX335JUyYMA6uvOwSpR5vMiQxWWojEBeTNqtA1W/JV12yjlWWSPme0/YL4yaiHDrU8lgQprrjYHsgy+tAqWtX2n7J6rNdPoTyDxxTMeTJqbjO7dAWbPd1lupI1uQiL8+0BR6UmOp6m1jT4qCsarFOVKl1DfvItS8yiVgC63w0fQL06LRx6YRHviahlsH/xr8OzZs3I8cl8JW8TXpsRo4CyjrDE1F0nRYTLIKqnrTso1OOmSk7svUnjHgO5j1HTBHVLz0RxaKujnyvNxYSqhwFe3iYsleVtPw0RdbxyhJh33PcfmHcRJTDBLU8JgRUfwxsD2p5HDR1bUrbJ1l9MuU1fFH+kWMifjwZlOuJnVnGJsGynr5ySRn5yehJMmdHZTzjkuV0CZW2MCDrRESlbmIdw/4l2+cpo+gL6oQnovI2CVUJrgd17kXn+BNTG3TqSc4i0bLBRBRdJ90+86jqScs+OuWYmbQjW5/CiOdh3vPEFFH93K/m2cZqOORHIS75Se0QFvx0OBwOW+CQVevDVvXHwPbdMo93Y12b0vYpl79oMsR0j5SVx2kP73I93MhhCb02DMYhfc81cwmrB5tHsl1iuoT90jSdhpDeCgJ7VetSCcXUFIn24VNQFfpYPtmahGLpSyYuJ5iEumz45eRMAD2g8jpNQreJj2o9RzHJX3ubn4hyOW2VWHizHfm41HI6CPue8zZ0OGyh9oOxuqjuGOAoaPMuEMi3qUMWXXvy5EslebYtDSg9NTEkKrkQLR+MD/EJqDByOupk+kcmkfWVQKrJ2YWV6PqEZbBFKCNufxSVOgHMumn65scyrpBVXn8SKt54ifYlErc7PAk16vnR5CwSL9u2XRuyRyNe3jyqOtKwLZlye5m0JXu/HOLEJqJc87HJOjYx/WojbiqgrbWcS64fORzi5HgoS43qjkFwR7A5MtqWL4uOLWn6YUtXntpCBF4PpFwXdlE2Fss8bbgRhKqL6bA/zqi1u7pdZX0oQ0gOVlEzMxFVH3TahFnXsH+JNvoTUFGFWD6pjv4kVBT1GMZlyU5CXXXDlTD2nbHkTJh4efOkocNRPaj3FFvUrRGlm8qR+hJ+muxCMVmG4m3SRlWoNuQvn3IRqzwgHIcctmESbo0oh23cGFKmumNhc/DL08CqY0uafsjoslWWoPyDRydeSXUp15Q6Z7J98aveGQN6krXaQlCr55+OfeW64vpMo2q/Gb9DGPaNa5+vL6pUxKdxH70NDRo2IEdlFi36MfY1vTh0J+VjyQ7Wy2+Ngmsuvy40CVVawHzL3lv7R6XFzJv7+whOQh1z6LHkKMBwY1DR1ZGGjWzKbWbajmz9CiOel2nanHV8ovr9iSgTJkVkSIwIJsMRkyU/MsUwaZ8qVBsM+GaaPMQqD0jFIYftmISbiHJkSa2OMdXtt61BME+Dq44tafkho8dW2RCxpOfJ0YmTgmzlThmXlah9mapf9bhe2SfZAv+qYhzpkvFspUBS0tIgmuwhHZU6Acy6hv2L6qEIp5zS8YsP3UE1nTLBUtErI18HHT1p2UiHm19aZOtbGPH8TNPmrOMT1b9cfprLIYzd0V4Jl0cK5LAdk/jrr7/InsORDQXrMsaobr/x7hFsJsnTXUnHv7T8kNFjq2weqeh96I4hl1ByYt/29cgrK8nNQ9yDYJVeM6zbvFO4qZgYyKBDE+idU9CTRNgXGVTqBCTWteBfCRRMEU45peoXH4YNHvI62bLoxMsmtoOPjHwd0tJjnmj8TPtR3Likh73eqkLmX80zhY3Uy0M6x2zIV/44aog///yT7Dkc2VGrQyD6Xf2+2/hRmoc7eYCqLWn5kKdY5YGKHmckPOVJGSaoJ6JLTHFcbvbtWWeT/zU13PBAnrhvAqAugyFQssFDtR7CrWvQP6SsiyG44rSOb3zYztnTGRDVzfcTy7PtNYuunrTsjBONYXZ2pIH9HC0q0d60XNahMqGdmspVkAHV3UWrk2pts7///ts9EeXIDVUwvCuDvle3/zZGUZSZl9FZ1Y683V3SticL/0M6NdUH/bbUdxnC8DRTT/RCWF5Zbn6I2BQxnekgFSXfYnGMnZBCyQYP1XqIUF11l2JE9VEEU0Ko6psYdOeE4kJFJljRsnx9MrJ10dWVpq1RonG0YUd2vjlUKGUEeSJKvWsjkaZXF2MOAzZknc5U/XmIraOmwMmnxb8thl9//ZWccTjyQXDXCm+1RHX7j3dAG3dhW3JlUbUhDdvzEJ8coZkywn1TQEfwJT25vp5eewa2ReyjqhcLqpyfhESx8rFQsSEWA0kS6wahk3clRmBnVF+FYIYuHf+SYTunppMtj060LF+njGxddHWlaWsSebHDkQfqderQjpIR4kkSK6kwUuikpAn9NHRs0oWq296or02WscoTUnHIcXvK4BYrd+SRWh+TqtN/G4Nm1gOxiv40bJbRIVpW0m7pH0I6cWHUrbNBTLa8BV4Ngc4alyurSd4yURIlCw1E+t75SA16YhpU7FCynZBYV8q/ZOh6KAoop3T840N3Ul2nbNCi5fl6ZeXroKsrTVvplONpw5bs/atELm/Ttj8/8WKsEYXhCzZJJH3LX+pkCzUeCs2QBmiraz8FctqeDke1oHEHqwqq028bd5ys72Aq+tOwOeu4yGIh4yMhYMdDa6zhhFlZbgzz7cm0DVUFmyRK/irpYlcIbJC2w0OlDpKoTzGWcUqCSovY07YKKk6pxkQMug16Oik+MYnr5+uVka+Lrq40baVTjqcNW7L3z6GOwGLl9oYe4xTIVGFy6BN2edfto7h4OBz5BIfQ8FYrVK/Ppu9AWd/RVHRnaW8ladliM5NFfCiXMdK3fHFxvWKyVWKuUidOom0KKtReNyRouYSVg43jFwfVutx6Wv6FKfvIpRySOlR8E4fupJ5O0cBRnPVI1k2vY480dRURF5+iw3g1j0a8GLOi4Aiimz6x+gZHS13bVLDpjymyiEsRkIpLDttVFfdqnqPIVMt4tnrr1aFtm7bQsmVLaNSwETRq3Ng//9uvv8Kvv/0K333/HXw952v4/vvv/fNF9rux5xv6ilujRo29zfPX8/m3xb/5/v7ibegrbmpf+sxqgFbRq29rixYtoF3btrBqq1X92DZq2BBWWGFF+O233/zcWbToRz+Wc+fNIzVoiNghaavUDyL9OAQymjdvBkNOOhG6dV3PP0ZOPu0MWLDgG1LCgC6Kb/JSVexQsz2oteaa7WDVVVtBQy9HGjVqSP5t5P8O+Pmnn+Gnn36Bn3/+ydt+gVmzviS16NAtkbTPwEBW1iinW9LSCEJ1tX2LClDRqeOjGHEn9XWKBo5eLlm/qGxTmNCXts10ynE1bU8+/GMhns9FzC0zSExEIeWiiZUEI68bhlh9/RHMR9cuFag6DfljiiziUgSk45KzdtXBTUQ5qoGijW2tW7eGXhv18reuXbvBCiusQK4kgx8d+PiTKfDh5Mkw6cOJ8B2ZmMo7PTfq6fu6cc+NoVWrVuQsn5mzZsHkjz6EDz+aDFM+nkLOipDVIK2iV64OTjZt3BNzpydsuMEG/rEI+OGKaZ9+6sdy8kcf+bGNwrND0rdYp0yqrxK3OOt26gynnHQ8rLbqquRMiVPIRFQZDX0hv6JSVGTaq7P66qtB7417Qvv2a0L7NdeANduvAfWXX55c5fPbb4vhs8+mw7Rpn8Gnn34OU6d+6p/naxf0iTNot269GrRboy05ikPXYsw6KkJ1K/yaOOEDsidKWYCwrZRY6vgpRlypvk5OUtRBL5esX1S2KUzoS9tmNuXYmrQpP/6xEM/pIuaXGSQnokos4zkgGHmdMMTq6o9gPlk0DVWnIX9MkkVsikBiXIJ2DArlsF11cBNRjmqhCOPbel3Wg0EDBsHmm21BzujxyquvwEtjRsPM2ZWTCtmDk2uDBw6GwQMGw6oVEwMq4MTJ6JdHw6uvv0rOiJDVgC2rl18eJy8HDxjobYNg+friEwosJkyc5MXzJfhg8ofkDM8GSZ9iHTKpvmy84uw4aBAcfujB5ChKfCIKUfeHXVPWD1W/6fXWaNcWevfu6W29oHOntclZM3z91Rx45ZU3vO11gScVE/wSHKh332Nn2G+/PcmRKjLxRcPY5VVaasaMmXDBuReToyTiQRHSR4mlip3isBtPT69gUvjIxkpGtilM6MzCbjrl+Jq2KT8+0hDP6aLmmBmkJ6KihRlVBaOvE4ZYXb1RrA4dm1Sg6jPki0nSjkuRYMYmh+1oGjcR5ahG8jbe4WtTBx1wMGy26WbkjFmefvZpePDhB/z9PPg+YNsBnr8H+a/9mGbGjBlw30P3wydTPyFnRMhiMJfVyS5/0P4HwG677EqOzPLOu+968XwQvv/+B3KGhUIMI8nIq6/WRqu0bAmHHnwQbNZ3E3ImjvJEVMh+cetk/VDxO1qnc+d1YOedBsOmfXuTM/ZYvHgJjBr1Mjwy8glyhgexVXJgMjMRpY9Y69BKLYOpUz+DSy68ghyHCZePBkZMn0dFPIXrKcNuQHXdkklBKZ+sW1a+CUzozMJuOtH4mrYrP37SEM/rtP3IV9yWb9l85QvJPpe46RhmSqgFoq8Thlhd8dZOJBepYMgXRw6ogbZctmwZrLjCiuTI4agOsOsGW9bgU0FnDh0GHTt0JGfMg09a9e3TFz77/FP48ccfM/O71Sqt4JQTT4Gdd9xZ+HVDWXAdra233Nrfr/bJKHz17uzTz4Q+vfuQM+ZZc801Ybutt/UnanAtqWR0YihSV07+7rvsAmecdip0aN+enKHz4uiX/Nda47D11fN+4OHVYBNHrnQJtTrrdekMRx15KBx04L6wRsJrbCZZYYX60LVrF+jevSvMnDnbG29+IlcSWCbvX9eu60L39buSo2xQaZUw8+bNh7fffJccVYLSy39F4JGQvoo/PITracH+60pNN1sem3idZN0qOnQxoTMLu+lE45sfu9LCfr+qDoQnopJTCMMdbOV/WOikI7VutbR2Tv2oveHDANWSkxzcRJSj2sGuHGxpc+B+B8L++x0Ay0uszaJKs2bNYIvN+8GXX82G+fPnp+5353U6wzlnngOd1ulEztile7fu/kLdEyZNJGdESTsTZPWVym+z1VYw9NTTYOWVV/aPbYKTC5v17euvC/T59OnkLA3d2PHqi8nv26c3DD3lZOi3xWZCfYs9EYXEdep6qS5BvB6WPPDAfaDvJvafgqKBi54PGLAN/PzTL/4raFQiPz7FfMNSuK2X4URUYIMuc+bMg3ffHkuO2AjrCsXTlI182H9BqOmX/YuEXj5Zt6wOE5jQmYXddKLxzY9daZJO/yo+y5VCFd40qVfM0KfdTYrSLWtz+BDHxcfhqB0M3im5nHDsibDbrruTo3TAV+HOPvOc2BM0tn3ecIMN4cLzLzSyFpQM22+7PQw56VRyJErefy0sg1132hmOP+Y4cpwehx1yMOy5W7o5GyU5Vu3XXNN/Aur0IafCmmuuQc6ao66faKeIqgB+Pdt9WZYjjjwYtt66PzkioBsxV8R8y5K0YyulLxS+9GyMt1lgs5oN/ByIQi+frFtWhwlM6MzCbjrR+ObHrjQRz+/ajE+Y5ci/IeLhkw+T2hAjgj3J6UGNZ84cQxtd90jGxcfhqF1wyGZtuhx+6BGw1ZZbkSN5Fi1aRPbUOOO0M/3JoUpM+RcGn4Q6/dTTYYUV1V7Fw6+5/fkHb/FjNptvtjmceOwJ5EiUtO+Q4rq222ZbOPjAg8iRPL/99hvZU2P/ffeBXXbciRxVIhEzg+FdvXVrOOqwQ+GfV1wGm/Q2+wRQPc/QSL8wZjcKUhFGr2O67+KTTL8v+Z0c6XHscUfCppv2EXCZXcD0uCRKEFcb+t9/dxzZiyOkLwhXKGT240RR6qEfo6g8PvTyyTbI6jCBCZ1Z2J01tehzdVKvU4c1ElqT+328OJFeTq+tmz7U+hojnK49Mpi23QZpxqOocGOUsza1hVus3OFgozKW7rPXPrD3nvuQIz44CTPqpRdhxhczYP6C+f5rdYuXLIaVVloJ2rZpC228rUvndWHwoB1IDTF++uknGDrsNPj555/JGT6y/uKaUBcPvxhWWWUVcobPx598DO+8947vJ/r77Xff+udxQfc2bdpAm9XbwDZbbQNrryX31a+HHnkYnnz6SXIkS1oDfrKevn02gdOHDCVHYrz59lsw+aOP6uL5o9fu9erV83KnjZ8/7dq2g5122MF/dVOGS6+4Aj705MYRiFViIonEulRmjXZo+yDYbptt/GNVKhcrj1tAzlj78STicyWlOkk1h5x6YmkCKIGvv54Ln3w81et30+CbBd/6a8jhuk5///23f32llVaEpk2bQqtWq0CHDmtCh47toXu3rrBaa4mnG0nchp15Pnz11ZzSQSJ833Cx8n0tL1au0iqifPLxNLh0xFXkqIyQTkYe2rS3BF2xnl6VThWvk2yDig4TmNCble10onG2aVu+/A4jl+9Fzj0zJE5ElS5IGkttgbIME67HZOiNckZsEoGqR9N206QViyLDjVHO2tQmbiLK4RBDZGzdoMcGcN7Z55OjZHCC6MXRL8Co0aPg199Y69eUadmiJey4w06w4+AdhdeceuN/b8C/b7uZHIkjeh8ZNnQY9N5Y7AmVCRMnwAuevx9NoU1uxNms72a+r13W7ULO8DnrvLNh5izGejVc0hz447pwMuDqy670F2MX4eUxY7x4joI5c/l/+OPE1I6Dd4CdvK1Vq1bkbDKzv/wSzjznHHJUSUKsDNxg1+7Y0bN3MGzZvx85o0cwEcXU7NucRvvzdURLJJc/84whsPHGG5GjMgsWfAujR78C494fD9999z05K8dmm20C2263Fay/fjdyhkJFW48bNxGuveYmcsSm5FWybzgRtfU2Fa/8eWAu19XEfbKciH8+tF/61//f0jVyItgPyuCBf8a/Fuzjofc//mVyjP9XKgDLL7e8XzaJSy66EqZ+8ik58quJURFT4Xra0Duunn7uYEAhXodvg4oeXUzpzMJ2NuVY27QrXz5XIpfzWfmSnxgyJ6LiJwWNZrRAqba+41QJeiOdAavEiOnRtNsGacWiqAjFJ4ftags3EeVwyEMbR/ArcVdddjW0bcv/ehV+7e2a6/8Jv/zyCzkjTof2HfwJoFaC6zFdc/018P44/oK5NJLGy1123AUOOegQcpTMbf+5DV557RVyJMchBx4Cu+y0CzlK5qMpU+Diyy8mRyqkOfhHdZ160imwxWabkyM2+ETLP6+7Fj79/DNyRhycwBw29AzouVF88oLGk08/DQ898gg5CsOIk/APkHh9PNN7442h/xabw6Z9+5ZOGuLUiieiIkRstt3+bPkqV84990zYoEd3cgTwxRezYPToMfC/N97yjsz4gguSH3rYgVC/fn1yhsBo6+uuuxneHzueHEURs4heyoQ30jIoPnZZb1244KKzyRGd/73xNtz27zu19JnwVwx2p1W3gS2TDb0O3wYVXSbQ1ZuV3WyisbZpX/58DyOX90XNP3NQ1ohigaGtBzvtvCs89uQzMH7SRzB91tf+hvt47rAjjiwVZVKSUYvku9uUKIKNaYMxCW8Oh8OhS3AnDN8RD9j3AKFJqImTJsIll1+sNAmFzP5yNlx65aUwf/48ciaZffbcm+zJU+ljQOvVWgtPQt3wrxuUJ6GQ+x68D5546glylEyP9deHLfvFn6IQJ807RVkPTkCJTEItWLAALrniMqVJKAT/w8PlV18J4yZMIGeS2WO33fzXJYWQClt5XaYu63aGA/fbF/594w1w5tDTjE9CJRKz2XbbR+Wz+pcoK4bWZXvowUfhvHMvJJNQiBlfXn75NbjmnzfBzz+HxqsE0fvsuwfZKyHvIz1GOkjLQBMYPu6zP/91wWeeel5Znwl/xaE7qWcDI3CJsO1gEwpa6ujqzcpuNtFY27Qvf75XImdher01SlZ64yzfsvnKF5L9OmhBbNduDbj51ttg3/32hw8/+ADeevN/0GODDWH7rfvDtKlT/cfB993vAOjXfyt4f+x73k3nJ1KTJk8tANTGzU8smeTdbrlOUzsox6UAOWmKZcuWwYorrEiOHA6HCu3XWBNOPOFkcsTmnXff8Z+Ewn6nw8+//OxPaPXu1RsaN25MztJp1qw5LFmyGD5TnLwIwGExGBoPP/hw6NihIzlic+U1V8JYxaexwkz5ZIofs+7dyk9/sMAnxvCVxzI6A3q5btMmTf2F1XXbLk49GHrqEFi56crkmM5XX33lTyLNmTuXnFEH83BNL2fXWIP/5bmmjZt4bUhbdDkUV4mQBHl03DHHwKknnQQDttsO1uvSxf/ioyw4mbviivz716jRo+HXX0OLuHPt1cmZKPg6V9MmTeCPP/4oHfub/8KXBPTSAwZs668xd+GFl8L4cRPJ2Ur0fZk/fwHMnv0V9O+/OTd2K6/cFD6YNBkWLVykpTmIky7SEhL826jXhrDb7qyF/Eu88PxL8O5b75EjAUL69L0Vhe5kKeaqcDsVBXadZDtUdJkiS932KMfbpn/FiV16fbH4xJ6IojUzTkKNfOwJ/0a/2847wumnnQrXX3uNd2OZBfvstz88/9wz3rlTYMKEcdCz18Ze2Sf9Osnko5kySeucZCj6Xpxu7XA4HNXJXgJPHf3y889w9713kSN9vvn2G3ho5IPkKJkdByf/8SRD967dhb4IOPLRkf66UKZ47MnHYPqM6eSITevWrWHAdgPIEaJ+l2zSpLH/Rb6brr0B7rztDnj4vgfhqsuuhL322IuU0Ge3XXb1FxTnce+D98OCbxaQI30eemQk2Uum3xabQ/s11yRHYUhcBcOLP5vCP52aN2smNInE4t1334NTh5zu6Zds35R+NO24wyC47NIL4aEH/gv/ueNm+NeN18DQ0072FwWXJ2p0EMvHHnkShpw6DOZ8nTQ5acbhyZOnwOOPPU2OkunTZ2OyJ080T9Rtj8oRhKMO161KYsmS3+GZJ58jRxxQF9GnZKsSIaUVpKM/DDvYbFvY9heHotvvyA/p91oaQq/mXX7V1f5j/HvvsRvMmfM1OQsw56uvoWvX0kKEwy+6GLqv3wMGD9gG5s+bB5df+U//fHKXyTYINNuuu/ZG2HnnXcmRJQyNI0NPO9PfHA6Hw1FM1uq4FmzadzNyxAZfMcMv2ZkEvz439n3+E0f4VTtc/NsEgwcOJntsPv/8c3j8qcfJkTkeGvkQ2Utm6/5bk70A+Zs2xuu6q66Frbbc0p/cCujYoQPst/c+cPEFF0Gb1VcnZ9XZcRDGM9m+US+Nhg8nf0iOzPwAmTd/vhdPscmorb0YUEkwBX8dhjdT4FNQd/znLrjhppvh199+k4iGV1K4sHqM8emnc84+Aw499EBYZ+216ha1XnXVVtB3k97wz39eDttuy5/IpVEXSzTP2z74YDIeCaDujw/R9+wzL8Kvv/I/rNBnk15kTxx2nhDlgrDlJCCgYqut+0HnddchR3RwEuqX8CuMLEK6pG1Vhu2gvg3i7VOCXj657WR1mAb1Z22DHdLLQYdZ8pGPy/FSaKedd4Fu3brDqSedSM6UwPWgNu7dG555+im494GHYYD343K/vffwJ6pOPfkEv86hh/PWjEKShw7kldfeghkz58AXZHvVOxadLLr99rv9rRJW+AcN2hG223Z7cqSP6WaeNaP8hZuB2w/yNxHC9RwOh8ORD7aPPH1DZ+zY9+CN/70ucLeUR/SpqK23rJyckWeNdmt4f0zz1/C576H7yJ5ZPvr4I3h5zMvkiE3nzp0pX9sT/0MCX8M78rAjoVmzZuRMnC5dusBhBx9GjtTYduttoEWLFuSIbt8333wD9z14PzkKMPHLZBk8+czT3m8y/lcGt95yK/8VswgME0RznPfVMRpjxrwCpw09E1559TVyRgITIRPgkEMOhI027MGMQYOVVoL/O+pwaNNGbBIziGe9wAFlP7CiQuVQld9//93/Gh+Ptm3b+E8T8ij7JkKy/eJyQkiEZLc9kz+Y8MMPC+HZp8OvBFMI6VOyV4lkJ/VsSJZNh14+nVioIuujo8jI5aLLDfJEVGlIo4XjiKP+D954/bW6J6FwYuqjqZ/B0cccB896P0Kef+5Z2HyLfnDaqSd5ZUqTHVj29Tdeg1123d0/FqNkA4sxY16CtddqB/379YWFCxfClVddW7qg0IZJVbp17+T9UDmFHOWbwTtt728quNTno3RjU6rkcDhqkWYrNxP6Dx8vjHqe7JUI7pYmhpt58+fBs88/S47YbLRRT2jerDk5UkPE1xdHvwiffjrN2lCKr+iJ0LcPa8KMf/c89OBDoVmz5DWbkF49e8KgAWL/MYnGAGo8o/Y98PBD8Oeff5Ij8zz1zDNkjw1OKvTZuHfpAM2rM7Fsq2w+L7f88mSPz6effQYjLrkM/nPXf+HnikX+hdbsotjLR6ZsyffNN90Ettpyi9KJBJZbrh4ccsgB5IhOLJ5ojpH1yQRl+PpKu2E+nfY52UumWXP2JC4ikytRykYFMZKWxfCNxU677gCtWyd/pfS5p19MzsXQJXXfZUh2UiluESQCWAe9TrIdyX7Yx6TuLP1wOOxQ92peKb3j3bljx7Xg1VfGkCOAXXfbAyZNnAD9NtsELhr+D//cO2+/BcNHXOLvowyUhXWwrjzJQwpOcp1y8vHQsGFDOPzwo8jZfOKGDIfD4XCw2GxT/pfOPvhgkveH9KfkKE7wB0GwqfD2O8GXspLp1VP+lZkw/bfgf5EubIsJ3ypZuGghjBtPWzw7Sq+NknzFuzv7Dr++wKLoAet26kz25Fhn7bVhnXVYr/qUbPv555/h3bHv+vtxTPxCWQbvvT9W6JXRnhttSFWp2rb1BSaiZs6cBbfdfgcMv3AEfPLJJ+RsBdKTMzLl+WXD/nfqlPzqVpge62OOxeVT4xkpJusvDY4MxmW067NPxT560JwxEUX1TxL8K0VJBvolGT5cx2yXXXcgR3Tmzp0HL40q/50Vg+g04bsYbCfN2CAZREbg+bbI6nHIEo2/i7d+36g9lot372gYm7do4T/1FPDLLz/Hvk5y6EEHwOqtV4eddtqFyKrnL2BefmRcFrGm/PjjKf6/uDD6Cy+MgS++mOOdmw73389etwBf6Xvt1bdgplcWtxe9en1C/+UTz7EmuLAeriE1ccIUvxweY91A3iee7gsvLE3IYRzw/BEVsmZ55QL3XnvFk3fNjfDu2+P9V+cmjZ8CO+9UfuUQ/Rr1/Bj/2tQp0+Gi4cFkX4k7brvb3wIeuG+kXw7Lo+ywrDBuqBDDxcnhcNikd/CUSAKik0QBeHsJbyLMnDUTpk/nP6nQc6OeZE+eDTfYEJo2bUqO6Mzy7Pg8wQ4Zn5J4SyCmbdu29b+glwzeJaJ3Cvzdg2tqibLO2uKTD2H4ubMM3n73HbLPwsxdjq8HJ/ZKuRPOzVJbqtmw3HLsiaiPP/4Yrr3uBjjnvPPhtdffIGcRU3d1dTlx/8usvc7aZI/PCivUh44d2ifK86GaaiIOKKNCDuVUpW2///4HfPvtd+SIDS5GH4bpnwRRGZIxkCwesPOuO3jjXhNyRAefhqJC4mnCdzGIQgpmbGDLp5NsTzIyemwg62sSJmWZI52cDMif/8Un3RZkwVisnG3c5MkfQvPm8Qkm/AF5/Eknw2133EW+mKfrIL0+yr7xplt8fePws85esUcffQoWL14M/fv3hcMPPwi6du1eNyEUBieNrrzyWvjgg4mw1trtoJ9XHuvdeMPNpASfTTfdHHbZdbBfFz9rfc9/H/DX7kB5b7/9Juy6i8zriCV5pw45ETqu0w4WLJgPJ51Qfi3wsUdKfm2xZV/YftDWsEGPDcmVOJuQybTDjjjIl/X7kiURWQGuKzscDkf24PpB66/fgxzRWeKN/2+/+zY5UgPvpMGWhIiejTZUn4jqs3Efssfm7XfEfBXxJwl8SgifFuKx0QYbkT0e5T8UfvzxR/9fUX78cRHZk6NPL1Px1P1VsAzeeoczEeWpaNG8OXTprPb0F43ll4//fH1v7Fi4+JLL4OJLL4f3x/GfekPUvRetWXr6RiRnZXOn9CQaww48nWiiuudRiJwKcUn+/vbbb2SPzdK///b/FYlbEkF9ugxukEoohgpfSd3Z+3shiS++mAX/e71iYpyYpeu7OMlxMGODbBB17JHVZRqT+rP2hU68DfJpp4NHOiNMEoyJKKRk3KKFC/11oXB7btRLcMaws2HG9PgnkN96803/306dOvlfI8HyuJaTnpNYt1R/++0H+guVv/lW6Qs/hxy8v/8vPuGEE0J77bWL/9oeTk5NmDAONtlkU/96mAMOOAhmz55VtwYUlt/Tq7f66m2EFz9/9NGRfj3cUA/+iLzwwvP9axde9A//v4ZSu2PZlQiPPjbS+8FU8mnkIw/Beut19ffxaSZcj2OPvUt+4XbSqcf712igjIMO2S8ia6UGDfz9ADdMiONi5XA4bNKrJ/8T5Tg59Df5g8wEjNuQj8ikBb5m0l3itbMwGwv6K0PgD8unJER0yfu6zGuvpTDL+50hyqwvxcsG4KLv7duvSY7ozJ49Gz79nP1Kp0k+934TzpzF8CN0M+3erfSV5Thid9xwey9Pnoj66quv4MGHHoIjjjwKrr/hJviY9QpeHVFdQmtEMWHXDdsqyuxZX5I9PosW/ej9xg4mMSvsEHZJx3cCigjFUMTnX3/lT0T98vPPUrGrRC72vhOl3TCM06Lg01ArrbQSOaLz4rOjyR7B0ydnuw7JDpqxQyWIyTYlI6vLoY/tmLs2tUs6ow2LhIkopJ7/5NG2220P55z3D/h06lQYvP22cOzR8a/hXX/tP+GYo46EBg0awNtvvenXwbol9J0MFiu/9567/cmatm3b+edbtVrVXy8KX8sLNpy0QjsqadKkKXz99VfkqAzaiXJE+GHhD2SvxJIlS8heaWKLSoL7C3+IygtY1bNn/oL55KgEUz4BX/PDV/LwVb/hF4wgZx0Oh8ORN9bvtj7ZYzNx0kSyZxa8JVVuP/30I3z+Of/1vO4CdlfSsUNHaMl5Xe2zzz6F73/4nhzJE/ghCn5Bj0f3rt3jX3sTQPTJLuR9f70q/KEt/mN7/e78CbJJH35A9kTk6v7QX0afAKoQy56IYhO0a6QVPLmvvf46HHfCCXDmWWfDM88+B4v932K6fqhQ1km11UfMromTgjbj8+ablTlGdEiHQCNmpCrbbzoifeqXX34le3LI2BEnFAuNsKD+Fi2aw067JD8NNf3zL+Ddd0r/8djH06luuwzoXLKDZuxQCSK9jli7qugzjUkb8uBPnGg75NNGR3HgTEQBXHn5ZTBw8A6weps2cPpppzInQzAVH3nsCXjvvXfhkZEPw1ZbbQN33/Wf0kUftWGtMsXx6aNp06bCRSMuLZ3wCuCTV2uv3S6ybbttv9L1CtZYI/5fEXFR9e+++5YcqUPrjuEF24PX50TBdbfCJNXHSSh8ze/ee+/2X/W7aMQF5IobJkTBOAWbMi7YDodDAN5recj0GWJfmDLFjC/iTztXovJE1Prd+ZNXSWtDyRD8wcL7xTFjxgyyx2aFFVdQ8vfp556Gjz/5mByxefrZynJidyCRSczPZ4TbUuTGpH7zwljP+KIinhRxOBG1PHOR8WgFahtiEVLs5TGv+E8FxRHxI1TGyJfk+PkmwuzZX8KDDz5CjtjMnv2VV65iLdRQbOSRrOgVr4ebt1v2W1zGyisnrxWH/PJz9OuGSQR2mGgDPx8kwxEQtmHHnQfBcssl/4n1wnOjSjuoj8TTPsnOmYkjcUiKeJ3AFr49KvpsYNKGPPjjcNiHOxE17v33YdLEif4reklDAq7dFExW4at5U70fV+FFzkuIDSkB8W5Yqo9fzevQoSOcNvRM+O9/7/Sv3H773WRtKoDTTjszsgB5wO133OrXwwXHESz/xOPP+k9EPfcc/xPEssydOwcGDhzs68FtxIVk8kyAu+8p+fXkY6UYYv1zziq9AkijY4e14MdFi+rqHXroEf6/bigTw8XJ4XCkxdprre2vEZXEvLlzpdeM0SU2mUABn26SReQpKlMTUWGSfnHg083ffsv/D1Dt12xP9uS4/l/XJ77+9/hTT8ADDz9IjirBOxL7riTyRFR88XmRu5z4nTCIbRDfSO4wxOAf5u3XTHqlsFSR2mbipkmhK7YUAxEpyWWCWD777PPw0EPsyaiJEz+A66+/iRwR6kTreIN1OfW9y8EElA68jxZ8//333kZ/WyBMEDNj1LkfxCJpK1NpxyqrtPQnopL4dNrn8P674ykTeraI2x3GjA3LoO/mm8BxJx8Dl159MVx/y7Vw7yP/jWx4Dq9hmb6bB3+nxe0SsyXZp0pardoK9txvTxgybAhcdcNV/nbPI/fEtpvvvNm/huWwPB85O/iYlFV0qj0W9nt+3uFORCHnDDvDfwXtsSefgnbt8JW4YMgqBRDTBJ+UwieVxk+cDG3atIGzzzrTv0anXJcGr0vPmTMHRo9+EQ4++DB/gmb48HP9J53efHOs/2regAGDoHXr1qR0GVw/athZQ/0nh/Ard2955ZGDDymtN6VDzF7PvWFnn+7H7e3/jYUxo1+Hse+/Ry6KcaZnK07u4Vfwnnt6FLz59v/IlTiXX3mJvyYUlr3tljv9BdkdYmgNc7Q01hLocDiqnc6d1yV7bD5P+WkoRGQiCl97b73qanV3cfadvEyXdbuQPTbTI0/wmIVl63SBJ8BwPSYVcBLxhn/dADf9+yZ4YdQLMNX7fTRh4gR47InH4YIRw2Hko+yv+5aJ/xpaq+NasS8XVzJv/nxYuEhtEXTeDYzV5gsWLIBFqJNz/2vXri3ZKxNuH+qkDkdmHJEK0kIr7CxtZeTlIXE5AM888zycffY/4LHHnoQJEyZ5v60/837zvgy33vofuPrq62D+/AWlgqgyplbNjjJxob6N3qlKO1XAdeZ4T0ThK2ssgniZsKWOuMsC4CL0pa0soLTtwJmEQnBtKKM+1BG3p7TFMRfLZXDokQfBv+/8F5w45HjYvP/msGaHNaHlKi3J9TJ4Dq9hGSyLE1OHHnkIuVpCzB66T5Xg5NMhnvzrb7kerrn5Gthtr92gZ++e0LpNa3+j0aRpE/8alsPyd9x3B5z1j7OgS1f+fUwfMb8cjmqh3jod2pOsT05+nIC6/Kp/Qrdu3eCN11+DV195xX/iCWvttPPO/ppQW229jf8kFE5C8dYzKhPVK98FvRoCo5aoXJygwtfagietRInI1x/VtZCPYW2jHK+gnWkCMs6BtFi6dCk0bpT8aWKHwxHlmP87FrbdZjtyROfOu/8DL495iRylx39uvdP7IZ78h+JVV18BEyn/sYM2FOJ/FLrx2oonOCr47rvv4MRTTyBH6bHLTrvAwQdG/wiqZNqn0+CC0Kvu5pC9SZTKb7PV1nD8Mcf5+yzefOstuOmWf5GjSkT0RsuIWjps6Bmwca/kRemffPppePiRkZ5MntTQdaWbNEe+L7Me3HvPnf7kCAuUcuqQ02HBgm9KJxIRiVSpjEjJRBJjoi3dk0BkSMeerRuvbLrZJnBywod3kAfvH+n9fUFeW/PQ9yYBhdxKsmfV1VaF6266ihzR+ezT6XDxPy4jR6aQc8RUTPfabw/YbuC2/uSNDgvmzffvPZ9N/YycSYLvK05AHXzEwdC9R3dYcSV2/5Zl0vhJcP1V15MjRCGBmJiUZY9y7qRhbzFiEqDWr/LgY3Y2hJ6ISg4fPoV06EEHwPHHHg0dOnaEiy6+BKbP+hJmeNtFF1/qnxv+j/PgkIMPkJiEQnSHQzPDKT5ZFXw57+WXK75iIYMZc5QpVpd1OByO2qNDe/7rbfFXq9Lhi5nspxEC8H5JA29/lZuQrxk8/YXgRDoP1Sei+ODdWuaOXSor8qrgZ4m5I6KzVCZoQyG8KjO+4OfOGu3aCcokdoqYSyWhYt0lb4dRTMr3OvjGlp+i0YBbXV1+nd8oQklMuVIgq06mR+8+vcgem/ffn0D2yvWMo+Bf2A8Wg3YYQPbYjH4B/wODcoApiMsR8UGEVquuAsMvPR9222tX7UkopHWb1eHMc8+Agdz4ifk67Pxh/hNNJiehEJSJT1eh/+baDzEpyx7W+iOVYsTEoUfFq3n8FMM1o/beY3fo3XNDWKdje3/D/b332I2yJpQouqmt3zXwNb2rrrwW7rn3bsmJtPx0FddlUyTd0djhcFQRHdrzJxPmzJ1D9tLlB8aXXMOswvkCXpiOAr7OnTeX7KXLhEnlP3hZNGnSBBo2aEiObIB3btG79zLo2KED2WfDjyddH97WwpswRFzlV4VptKrLHQGfRcPCpEIAHsZklk8o+c4hLDMqV9E54Wpy8iP2KZoWwJpsa968OWzs/SGfxPhxE+Hbb76N2mMSNEvSP1FbmrdoDoN3TJ5ImTljFrz/Ln4pM0DBoAjidc3Ecxm0WrUlnD/iXFin8zrknBlWXGklOOiIgxPWZdKJkzlarNLC8/98/6krM+TDLx7R/CmGzY78Q1kjSmyoiqeg7hCn+N+I6tSy9YvIXWvtdtCteyf/q3zK6IZAAzckqCPVbFg4w3Z2OBzFZrXVWkP9FVYgR3RwfaE//viDHKXL9z98T/bYtGwZX/uDRZvV42sCVfLtt9+RvXQRmXRDZPxVB+/i/Dt52zb8eH73vUg8y7q0bmshk0UWmG7ZsgXZS0AsFHIw5OFps7d1nIQRlSnpqHRM+PJjdkrriBL1Oap/73334L4G+b/X3xSImyIKvsnYIv40FI1K40SM5ZdB+4NND9SFk1CrwPkjzqOu/xQGv3r4yUef+K+y3X/3/fDOm+/4+z8IjBE77Dw4tJB5gELjMVgwb0GdbWNGjfE33MdtxuczYOH3+HGuZFp4/uNklD7m/LJJNH/SsLkYcXHow1isPHnIYqeHV2+ZzpCnWi9At748eegqrrvqIRw/VnpVnk8/DR0OR0Fo2YI/qfHdd/yvudniB5GJKAEfAlqI+Pt9Nv7++eef8JPAlwlXadkyxWE94RdWvXpePPkTObjmlgjoE9svgTtjRRGR3GnWrDksv/zy5IiiI3JKwAYudBnJvqtRlilrt0B5rVBEKwd2xvyPFBNTGJYVk1fHMujWvStss+2W5LhMuC4uzD5xwgd42izoimT8kv2J06RJYxi840ByROfrr+bA22++S45oBIYGxlYeI7RzcWTtT6as66zzhyVOQuEkz/13PwAnHHUSXHHxVXDdVdfDSy++DLfedJu/P+T40+DS4ZfCjM/ZH4rAJ6MOPerQ0Otvyb6K8NXsr/wJp9NPPB2GnToMrrz4Sn+tp/vuus/fcB+3EeeN8GwcApcNv8yflEoCJ6OGDDuNHKmg71camMsjhyNOwlfzdFNPdRiUrBfrx7p2ixEbGtNRG6MYw1h+MRa/IG0zygOHw1EMRJ6u+TbDiajvRV7Nayn+ap6IvzjxFh5CKzebiPgbTLylYU+J2C8MH5FYLly40J9gS6Lsh8YdkFIVdYuAE3tUqOZo2Ihg9ZCIWBsu05MfyIvIVIJhR4X9qpRel2PYydTBVizjc9du68HQ008iRyVo9Uc+9BjZM4hE7AKbRP0KM2jHAbDCCvXJEZ1Rz+t8fILZSHXo2M+mrPO4k49hfmkOwaeezjz1LH/iKcleXJB8xHkXw9OPPw1//P47ORulSdPG/mLjuuAEFE4qnX/m+f6E03eCT99+OvVTf1Lq39f/27OR/XQyLoau9opeclvml6La7UjG7KghQ8JEFBI3TD4FxZyLy9UJCta1F9SYrfZUJeKGAz1c/BwOR9qIPRGVzatqiMhTLU2aJH9VL4wJf4M7uo1brci6Rk2brkz2SqR3y8e7VPlOJRLLbxNiKR9Dxl2SnA7kBdtvv/0Gvy3+zdtLBtfdKkOEMVRpUSeTPQmzTHEiiiWvjIrcUB3cVTOtjsDGRDu5OsoFhORVsOFGPeDsc8+Aho0a+ces+iMffgzmfG1wrTiJ+Mn6VMlKK60Ig3ZIfhrq++++hzde/R85Mo+O/XSiAezSdV3ovUlvchQHnza69abbyRE78GE7nxj5BPznljsrJqPKenFh8C5du/j7svzyyy/wwN0P+BNQOKmkyth3xno23sGcjMLF0Pfaf29yJEI0rnknmldp2V2c+Dj04UxEIeUhWj01kodIttyybjW0v02SW1w31cPFz+FwZIHJV6tsIDIxs8KKK8AKnHWukKZNmvplk1gk8ARPmOBXQXjTQWTirRH5IzqMKf0ytBTIncqn6fh2St4NveJJ8hYKPGHWqFFjskfgmiB/x64XsrNkq7yMSqLyRFDUqWFqso0hwbgroKckqzSRJ0ObtqvDiScfC8POPh1WqF8/wSaAhx96DJ556nlypImgX0iSTSIE9QcM2t7L6eQPGrzy8mtkzyy6PkQJghcP4P4H78f8Ah0+CXXvXfd7e+zgs+zEiZ4XnxtFjuJ19/P0qoBPM730os4TaAHLfBv/9xp7EhGf+BODHpu8Em2vYtnuUMHcSCKDwERUiYSHegWh1xVLbR3dOjbHidlrVrzD4XA4qpimTflPE2X5ah7+l+Slfy0lR2waV04mUBDzVX/SLfiFEGwy/PgTf42oxpSJqDCqusUp/fKofDKLRjCJac6e0K8eb5cn88effiJ7bBo3DsVT7EegEIHPOAlFJ35BRL25WApg7QmtEAIq4vLE7MInoP7vmCPgn9deAVtssRnXJpyEevZpg5NQHAK/eHYlUVcf9XnbwMHb4xGTv/76C155yfxElI4PUYgjDHCtJtYX8nBNqNKTUPT6IrHGJ6O+mv0lOYqyZvs1DX6dToZoTO67615/AXYauFYUH3Z8HWFcnGoN4YmoMiLDCotoPfl0E9cbHUJU7c0nrpvqoRS/6kohh8ORESsLTCYsWbKY7GWDyBf7GjU2MxG15PclZM8cOFyLDtlCvnImosIEum3cMkTi+fvvvyvoZt8V6/zxiojIlYpnnVqRuzLfRr8IV1RFAc01ovgIyheyPU6d76Jw/E2WFzUSn5DpvG4n2H7AtnDU/x0GN996vf8E1LbbbsW1afGSJXDDdTebmYQSiJ10nChEZBB92w7YBlqukvykIk5C/fYr/5VVUUz4UoYTOI+999+L7MV5eVSwHlQccRuX+es30cAc22GXHchRWtD9+XIWfbIMGch5NbNomMsvhyMZhYmoANU01U3v5Po4fOgOicJk0FP5twwHjSAvlOKXQTs7HI7qRGQyQeSPeZv88Qd9AdkwDRs0IHtsRJ7g+dOirzh0V26ViMS6YUPxiagwSXrlWQYrp5g7EbslJmvE4tmQcjOWvztHbST/CqH0S0ADjj7JWAR+1/kuAopkiA3Lu/yqS+DiS4fDBReeC+ecNwzOGHaav+EE0/nDz4FLLrsQrrrmUrjhX/+Eu++5HS4ccT4ccdShsO3220CL5s2FbJo69VO44LwR8P7Y8eSMIgk+BQR+qRLUr5NRoXPgDslPQyGvGnotT9eXKALBI6zHePXsh+9/IAuTR5Gzs2QDruPE+kqd6jpRarBjMneO6hpmYnF21CIuN5bTG9ZU6+qu3UTXy5ep42v2uHQVB2MV3pTAdCl2yjgcjpxRjIkovv7ll0/+QhSSR1+DYT3YxHxdnuypE+jTQWSRePV4lhdgiNgpeQMViudyevHUtbFEqZLqYuXyUPTgKUH11LYRgaqjdIImr3Xr1WDtddaGLut1gfV7dIeevTbytw032gC6dl0P1lp7LWjXrh20ahV9XUrELpyAuvafN8IlF11O/qiXCEAlnGpKsQoRq08xdbN+m0K7NdqSIzrvvfO+5+s8ciRHYEPMFm3EY46v5bVkvHo27ZNpZK+MuJ3xgE6ZPIXsRVmzQ1qv5yXHZcG8+WRPlLiPDocjCnkiKnmoS+5GqsOjar0AHb1qdSNx0DVfEjeUieGGfYfDkWcaNEhe1Bb54890J2cqEZuc4T9Q3VDE15QnoioReSKrvoGJqAD1XyBiT6GpxJNpU+RmKnZnFdHPjmeyDpVFs1notIM6If+44SwVULYTq1N0BPJM+C4i6++//4a33noHrrriWn8CasL4ieRKGG4wyjD8QkTsSYJZn6FP5Gmo1195g+zJoepDMgnBY9Crdy+yF+eL6V+QvRJ8mwP9dBtwrSgWW267JdmzhVxc+JiWlx7xdkzLl+LGDLHTZ6sfyi/JaCjF0gLrqDSBaj0TyOnOsnsUu2sWlKzS0uFwVDUikxpZT86ITISJPBEl8iRREXxdzuBEVEDwC0TkVhOUM507cf2hXxvUHx78XyMi+pevn5Q7ZR2BfVE7K2zgm1QHV1ZaMNSG7YvaKUmFfLo8dd9FbXvs0Sfh0IOOglv+dTt8+MFkcpaFgD2cuOlArY/6GDrX7dIZOjEW8A746suv4eOPPiFHYpjwJU6CIxzW7rQW2YsTvJYnZrOYflz8nEb7Du3JnmnUY1ONxNvRxcYu5nu7Hunbw/hPmiVD5NNPzIG4XKyn4rxqvTAK9XVVSuCGAIfD4ageRCZwMp+cEdAvMilSv77AxEkBnv5CX23e9oNfMsEWUHmcPIFT4o8/2et7hXWE5UbxfnUk/vBI/lUiEs/lluM9Tcd78onYIPADiedveq/meaAqij62fQq2kSo8v0v4BpV2BeDLi7L3PnvA/Q/dDZdecREcdcwR0GvjnuQKC4YtFDPF/ONDlSEQlv5b9yN7bN56422yl4wpX6IETnAcSWRZaT03BuI2i9vAWoepbbvkVyDl0Y1NlJdefInsIebkpkm8LdP0o5gxM4PZnl80mL8G1B+A1gko1lWpb2fNqYC0ugfqqdwcDofDUT2IvNJWhIkoqMe/V1fLpFs94mvwC6VyMw1LruoTZvJ28n59sK+LxZPshAhsLNvKsUHr629lxCaiRMpwqBAR9TUJMd3+Vw1xw/3SKQlQB12PuJ1sOnbs4H9J7/QzT4Xb/nOzPynVtRtrAeqQLRSzdG1BmD5R9NHAyRmRiag3BSaidH2JI+hEIiZkBJiR07gJ/yut4qjZ1K1Hd7IXZeH3P5A9k3HLmjT9KH7MzPfjLEnXG+ov4nJKKBjjV9F1QrK+b7AdndUypNQCxtpKN5UcDoeDgcjkzJ9//kn2siGYeEli6dK/yB6b5QQm3f7M+IkoEV//WrqU7NFBCWncNsRfzdP4Fad5I623nEjuYDxLipRiV2cj3Vg7baERmFDVkr+ysrA821ecgDJDWZBSuwjQpEljf1Lq/AvOgZOHnOBPUsXw3Y36rGtPUJ8pQyKGW27Tj/sfFN5+8134+aefyVEUri1KROMlT1A/KmOllVYkeyrI2/Pl7C/JXpQmTZuQPV3UY9RxLUquesybi4uYq8vNA2Zz0eEQJzaSxruSanrS64l3VRW9ul0pWr/Yw4pDCd0UcjgcjgSW/p08qYGsuKLOj399RPSXJhOS+Xvp32SPzQorZO3rSmSPzdK/+JNuCN4+wptplv7Nj+dKnj8l/QrPtUd+9PB+AdGvryjQnkv/WioYowodeMgwK5An7bNtiL1x2xiOJFKuUydPRQyDkn3L4I8/fodff/vNP7LJpptu4r+2d/ChB5ROoC8hfwIfS3apk1i/QqcIqq/lmfCFjmoSBM6z6//+u+x/KODLTOKXn34he3H6bt6X7KmiZhPSpWsXaMH4euBTj7EXWS8m6nGqVVzE1OH/50of1eHTzpBbSTQBdHWmY7MjZ6imuMPhcEjw++/sNXwCcDIhS1Zaia//r7/4E1G//76E7LER0WUTU5NuNILbiqlby+9L+PGM+iPx89jQL+mk9gxiUY6nnn0leea+pMdHMkhe8cBnOvJBj/grX51K2MajDjsGjjz0aDjmyOPhoP0PS9wOPehIOGfY+fCvG/8NTzz+FIwdOw4WLlxIJImzw46DYOgZp0CDhqWvQkZjpu5kVA4FBdHde3SDDh2TF87++qs5MGXyx+RIwA5l0AHV+BhKnjp0bCnTZGX2k0/NmjUjeyro2XbUcf9H9qLM+Hw6fDr1U3LkkMd0HjqKRmQiip8OKkNpeQiWTzfVoVt3yNet7ygUrrkdDkdKiEwmrJD1E1EiT7UIvJq3pAiTbgKx5r2aJwLeZmibDELxVHmVhvnjjPerLX6dNbEX9lUkd8p4OogandixsLFYuW+fJ1bMRjH9MZ81zQ7ksW3kK8AJxS+//ArefWcsPP7ok3Djdf+Ck44fApdefAWMevEl+Pa770hJPhv37gUXjjgfVl11FXImDNoi7nCyXx5y4iKIPg3Fj68OGg4I1BW1feAOA7z/1bEljp2v4+nZd8Glw6F1m9bkqMwfv/8BI+9/mBwVl2g7m2tLh0MEwSeiwqgOq6JDWyUqdRCVOmXS/G9siOv6erj4ORyOIvC7wGLOIpMjNllR4CmlJQITan8ITJwU4TXEJUsWkz3zyPzCUXuajnN3NHnz9GSF4xn4Vunf4sXh3OHbx4+RuhPyE1Hs8nV2SpsjIDOMxuQZVR4TNT2ffDwV7rvnARhy0ulw9133wg+CT0mt2X4NOOGU4xO+qoj2SMYqTHJ1Ls2arQxb9N+MHLF5W/BreXIExms4wKlLi98nH5Wf7KqkW49uZM8crVZtRfbi0CaD+KjHC23BSah1Oq9DzkR58bkX3NNQDocmdaO9XFcVv40FROXL10+vjgA69wEKhsXVHFrxs5QiDofDQaNaXlcTWUNG5AmeFbUWw9VHyNdffyV79sBbUXijgWv38JCa2BO6eQreYb1iaDdOoib5gPz2m3g8S3Ly+ysp8LXOX0OmRmSGqZMvp4gpzzJjXnoFhpx0Bjz+2FPkTDLrrtsJTjz1eHLEAn0v+y/km4F2EXka6t233oMff/yJHOkS+KlrfLKMpPhNHD+J7IUpyeu4VsfSoSFw4qf16uzJplVa0Z6WS0ItbmjHsScfB5dfewVzEmrMqJfhiZGPk6PiksWYUEY3r6uJbFsiTnr2LJc8BCXBqEPJK3qqGdSZiEqdAJ26YrhuqIdW/Ow3r8PhcEQQeapFajLBAiJPZP36K3tR2QAhXwuwWPlvKSzcXAnenio3sdyh+SP8w0yB0vPjuCEi8YxPYkaN8eV5p6Jfg+MZbMyhREq+Rn32QfVaJpRlRuQGKMhPlCeMflzxFb4nHnsK/v2v28iZZPpu2gd22GkQOaJT8kvw3QV9F3xUFymXR6GxYwQy2HJEcuO7b7+Dhd//QI6i8lqs0gIG7jCQHOmzwy47GPoPE8l+V4I+4DZk2Glw1Q1XwzU3Xwub99+cagu+jvfA3ffBfXfdS84Ul3jbi8fMUQsIja7a+E9ElVJPRaGukao6Zeup1AlQrcfHdXlxgttK5aaETjo4HA6HBuqTCemAr8XwXs37848/4c8//yRHbIrw9FeDBqUFkpP4VeIJHpuIxFNoElP65kmvUHcrDb0qJhLP3yhPmAWySvLwf1SQryjyal7ENhoK9oZlJspGmPLLF6TkSaPgIKFkC04YLYN33nwXrrj0aqHXk3febUeov0J9clQm7hvaFmwU1E2PsFGvDaFtuzbkiM6cr+fCRx9OIUcqJPghBV+GTH5M/WSa9790mdsP3p7s6YFPIW25zZbkSIe4nTjJdM8j9zK3g4442N969u6Z+PofvqZ4ztCz4KUXXyJniku8/U3knQxp67OLTH9yRFkumgoqocwq/CW9cqmsaqt5H6urC+YYbLpw85lvSofD4RBGZCJK7+tAerRsyX/94aeffiR7yYj8wZmlr8gqq4j4a+pVGz1EXnVkx5P86lD+8VGuGLmtVshbpSX9E+dhfvr5Z7IXliVin7LxFhCxN0rga13seKBsjnwpeVqIOxrzs86PZf7X5B6+fyQeJIJ5vOtuO5MjUT8rbBQ3mYu9p6GC4JgwNllOrF24lOS9Pua10iEFnLg59uRjyZE6Q4YNMfA0lIkYRvnl519g0vhJcNnwS+DKi6/wnxArOvH2Nx83h0MUyoqA4kNUmYqhLZTT/PRW0adDha3CsH2UxXV5eZSzBIPtAu5wOHKCyERUq1XYC7bappXAxMyCbxaQvWREvhC4SsvsfEVWEZh4+0bQX9uILP6emDsa98LgF1DkXhyRtwzq1avHndj766+/4LvvvovLQox8wU5WhqJOrCZYleorlZDABNmBvJJMRfuV4OuK+InFY1WWwcujX4HJH35EjtlsO2CbkJ+iEIUGw9Jq1VVgk017kyM24hNRQWAMGpkgSy2GZXm4IPeMz2eQozj4GtshRx5CjuS54NILYM0Oa5IjVUzGssSCeQvgvbffg3ffeqdqFiWP54H5uDkcMjA+TSE3ZJVJt17k7XDpvsTWmSxK1ccSrsuroxd5h8PhyJ558+eSPTYiT+nYQmxi5huyl8z8BfPJHpuVGqwETZs2JUfpIxLrb74V89c28+bz48n0R/HHB953qfdeijzRWIrKo2P2V5TS3FddneTKzNgl4slkiFWTZxq2zxHbEkOzDB556DGyz6Z582bQbf2u5EgQ1Os3aqIBUvTu04vssflg4ofw4yLek6Jm7SpDl6mcfxRG3j/SXx+JBb6id9Y/zvJfsROlS9cucP0t1zMXBK/ky9lfkr1KbMS09LQX+nXCkBPhjvvu9L+g13fzTcnV4hHPBTtxq0VcJNVhTEQhqrc7Uk+6VeSGzLJ4VTsRnboeLvNSR7PFHA6HI1O+nvM12WOT5RNRIq/miU7M4CLFc+bMIUdsVsnQX94TWb8v+R0WCn5+3jZff/0V2WNDzZ263yriP1rov8hIfYaYli1bkD02/ElMEz+sTMhQI4ib0m8VNNs3vWy/mLy0/Y3rk/V31szZMHfuPHLEZuM+G5M9DnWxC0M9KUwQ954bb+QfJzHh/YlkL0ygX88ONmy5su3BsxGfCBr//nhyRKdbj25w0RUX+a/Z4SQTi76b9/Wfgjr3onP9Bc/DfPLRJ2Qvzi8/0T6QYSOucfC1wXU6d/InpXBB8yT/8kg8H9KJm0OU2m2PhIkoRH4oK6FaD1GpWwx9rtvr42LocDiKzFdf8yeiMp2YEXiqZd58/h+QAcqTJynQvFlzWL7+8uSIjsgTbGmx6MdF8NOPyU9dNGzUEBo3akyOPCRvmvjrJvEXToI8kdyZP6/iqS6UJ31j1/8lEPgpslh5hFjx0glu3HhUyBX+Ilwd+jFRgeq3kCnLYMI42uRNlF69OZNAqIurTy42YZ+aNVvZn2DhMX7sBLKHCBmlSCCbLV8+b8Rsve2m2xJf0UOaNG3iL/qNk0w333kzXHXDVZHtjvvugBOGnEB9CgrXY7rz1jvJEQ9xuyeOnwgP3H1/bBszaoy//hNuOAGGr+KhDTxat1nd8+98OPbk48iZfBPPB7G4ORyyo4kKnIkoRNUIHeNV6mIdfVvFuyepI1jBdXs9MH5KMQzSItgcDocjQ+bOneOvk5OEyB/0thB5NW/GF8l/jIQReQIsK39F9H7xxRdkLx8IxbMVmdij3jTpd1KhW6RflX0nFornzFA8maLYOsqIlIkT91NCDqVoSZ6aLXWEqkftk5WraYcggc/ROBIETcC63wq84tukSROyR0HKXX7haOxL9ORNhHngRMav/pcgUYfpNghk8mXT7KcjJo/GiPNGcCejAnBSCl9vC29JC5Lfe+e9iYuB/+hPwsvbjTLxS3eV23133QvXX3Wdv+FC5MNOPRNOPOoEf2HyMaNehgWVk+YVbN5/C/91PYcs8nlX/Yj13GpEYCIKUQvQsmXiw2KcItRT1eWQQXrIwmYJNofD4cgZcziTCY0aNcpscqZ9+w5kjw7+MSCzeLfIE1Ht2rQje+nSseNaZI/NjJnik25p8LXAE3Xt2rbl3DjLF9VulXHhKKMjJ3eQGTNIPLk3duk7fwVxH+X9DFFhTlyeor2kmrZ9lgnsY/qMu5wQVMr46MMpZI9NgwYNoH79+uSIIKCLDr1S3K8yIq/ljfOfhlIyKAExJytjmoyYTB4yk1Gi4NNJY98ZS47ojH3nPbJnk2X+a4g4SYUTUw/cfV/ihBS+rjdk2GnkyMHHdD/JB2L9z0FDcCIKER/q4qRUry6/07RTVZeDRuUQJTVkYVO45nA4HDnnK4HJmS7rrkf20qNVq1WhdevW5IjOjBnTyZ4YIk/wdOmSzXobXdbl6/1C4umvNBCKp4Bf0rfLhJtxIGddTjviUyNz585N5W+Rkn/819uE3swLlUmOm6RjXvFkeYhssGTLJyNkH0clS8bCH8TWXsMna3xQj1n3En1r0GAl/zUzHhPeD7+WpwvfySCeSbZHMR84nIx6+vGnExcwFwFfhfv39f+G++66zz9mrb2kq0eMeIzwySmckHrnTfYXEXv27gUDdxhIjhxszOagozqQmIgKEBv64ukmPmRGidcTS2Vz+vio6nKECdoV/3XDlcPhqFZ4T0QhIpMJphHROeML+YmoZX8nj+gdOnSExo1D6xqlBG+yb8mSJTBz1kxylA++niM6iRmPOf5SCTYpGM0XlrXqqqvCaquuRo7ofD79c7InCu+XANtHYQRmokoyZddsYuPL89SKy+PbGEW2fJySzwL4quj6eDLwYwal162SqVfPk6LvEqEsiOdfz435k1Djx46HxYsXkyNV0KZgS0aoTSIYC1yMJ0Y+AecMPcd/NVFkbaUwOLGE9YafPTzyJFSHjvSnKkUnLdVJjtNtN93qv67HYre99yB7+SKeL/byweFQQWEiCsHUZg+HdWkeKyI/hJYo15PrQvr6xFHV5XA4HI5aYvaXrM9Ql1m3cz4noj7+hP1VIxq4GPSs2bPIEZu0nwDDBdJ5T39NnSrnK41uXbvBTjvuDCedcDIcefhRsO3W28FqqyXrTeLLrzi54/1IWqvjWv7rnQH46yT+C0Xg1xQWoRQryYteEMmdqZ9MFVKrAt1HxJJCJnR9gX04ASVi0sorN4Wttt4SDjviUDjh5ONhp112hPV7dCdXzVNnH9mEiPhRPpCREXvtjsJPi34ie2YoTSryGmEZ9Oy9Idln8+GkyWRPliAReHaUkGoXH3HZOuD6S9dfdT2ceNSJ8MDdD/iTS7RFv3HiCc/jouD4JNXRhxzt16tcEwrXkaLxyy9yE102wNf1vppN/w8B+NTeIUceSo7yQTxf7OdDrVLdkZUbeWRZTk+BSprbdSiOuL6o7VhP1lZ6edf1U8IF2uFwFIBPP51G9tistdZaqT8lxJsM+uP332Hap1PJkTiffsb3N+0nwET0faI5EbXvPvvBBedfCIccdCj026I/DBwwCI45+li4+vJ/Qv9+W5JScuAfZLNYT2mF7oHon9ZTPJT7adKvIt5recjUqfK5w7qxB7boPqkk99U80bIlm8Kbj2D13n16w+VXXw7HHHc0DBw0ALbYYnM48KD94ZzzzoJDDjuYlOLBVxazTxQUTREv2xYrrbQSd4zDCQ18ckoXuq+VjgTHnh/16gm9ljdZeCKqLLu08aHbnIScfNPga2w4uTTs1GH+xNRh+x5Wt+HEE56/8uIr/SepWKzSir424oL54usSyiMer/vuuofsxenSNf3X6cXJJiccDh7kiSjxYS6OSl21Otl0IwFbI4ZheZ141i5GoubGWofDkXN+/e1XmBn+ehiDHQbtSPbsg08IdeiQvNi06sTM1Gn8CYi0J6K6d1uf7LH5ZOrHZE+e4489AfbcfS9yFGWlBivBicefBAO3H0TOcMD7WmibRpvIDN378F4q9oRZqFIYcjr4NRNsccr1u3btSvbo4PpQn38u+2peHLotDD/qoF+n+8QjWRfVPqzCM5Gw2eabwmmnnwrNmzUjZ6IM3mEgnK65ODI9hgIw/IjKE3TUY5VWLckemx9/1HsaSszXuGO4SDlOlCXx+afTYeHCReSIBSNoDAJ7+TYHBPLFdeSZtu3akr0oM6fb+nqpXNxwIXPWU1FrdliT7GVPNH+qIzeqm9pto9CreXJDXxSVenJ1Sk0kUIfalvx6ySlg3z9HvA2EuqULs8PhKCAikzPt12xP9uzTv19/ssdm3IRxZE8OkSfA1luvq/9KWRqsuOKK0K/SX7zhhLb58+aVvvBWcV5k23zTLWCr/ltTr4W3Qw8+DFrja3qUa+ENb3PhzY9nZTmP4DqyZf/giStyUYKwHBHWX399WKPdGuSIzvjx48meGrI2xSnFIZCjJysKXSaJu0T48emggwWeeOrVqycMGLQ9OUoiqlzLb4YfdHlYmO/4Gmsm5wwisoZUmMBHLV89RL6W99EHvKehxBtf3l6xGBcN1qt5+LSVedTi91XCq/V9N9+U7GVHNI+qL0ccWaAzmiZDWSNKTRk+kCuf7iq6VINhL4g2RdcKSkNlEHf8N7w5HA5Hzpkwkf+H+Sab9OWuY2QKkVfF3nvvXbInx6IfF8HHn/CfLtpmq23JXgV4g6jcAmjXOFv/zfvDiiusGD1fwTvvvUP26FTedsLbDoN2oJ6v3FaoXx+222Y76rXwVsmECeP915WSyq3SchXYYvN+5CiJqPP+GkZSLItP6lF491213Cn5JmJUchlajBC5V/MCSnVYMuuQFI1rQrGehKpkhx0Hkz0e5dcElUAfKvwI5PFlJgdgo178yZ6vv8SnTyhGVKDlIwWR1/I+/OAjshcQ2Clur5rdybKLyTIYuMMAsh+F9QSSGmLtk0TS01nNmq1M9vJANeZJtWJy9LKFHRsZi5WLK4t2ZxUjsU5yvXhX4tRh9j0V+wJU6uroqx2UhkoXWofDUWBwYubbb78lR2yYkzMG2aDHBtC2bTtyRAcnofCVQlXef39s+QcDY9t6q21gpRVXil+jkXSNQ7/QpBveSmjbWM9f2vlgSwLX9xJlrbXWJnvi/Pnnn1483yNHbLbZehuylxyoOr8U4tmwYUPot0XyhNd3330HH374ITkSIx5ntcaOylFMmBCBvKhtFaAaX5Wcvo5rdSR7fFq3Xg2aNEleX4lrJ4+Q+UJ+U2HHQOSpownvTyR7SFyWto8UuvfoBitzJhRwke2ZM3BCAm0KtmTUYxggpqc4RGPXs3cv/99KvvInI01QTbGjY7ovmKP6Y+9QgzERhfDTmZ5Wqt2AXi85dVV0xeuIdw8131QjUu1g3KWHJgymC6jD4agCxgpNJtifiMKFtHm8+fb/yB6HYGCv2MbiRBQHfGWO5a/M0B+UpW0d23eAbut1rTum8dGUj/hfp2Ow6qqrwgr1VyBHfFZvvTrZk0Mknut378F93bEUA6+BsJ0UwKehll8+4aekx//+9wbZE4PVLnwjy9fZ7RuVIfJAVCArKo9RUUAei9UZryWxaL06vTzdVgnDSHG63yrEdW+1zZbQpEkTckRn4cKF8MnH9FeYzdhFR2SCTPZreeq2Bm0Xj2GxifvTad1OZC/K62NeI3s6VFv84kRzLE/+Vn/szWBrRDOJeRuTfz0oK9SpV64rlroqulTtUyFNXdnDazO8HmzS1FYoHQ5HlfO/N/l/oDdr1gz22G0PcmSerut1hS37b0WO6OAi0xMmTIgO4KyNwaJFC+Gdd98mR2x22WmXyCLBOOyHh/7gOGlLYu+99iV7bEa/NIrsyYNPuf30s/gCyzNnMr6AxwEnMb/9jv9E3e677Un2yo0Ti1VCuyXRoEEDT35ybv79998wevRob4+vRKT9eIjJ8GxBc3yT2HbxZVXUpYpiy69k5hezyJ4Ys2ZGy4v5zsEz14icBBo3aQz7HrgPOWIzcdwksleiZJfaQiAydN+A/yGDz6Z9RvboBDFUjyX6aNfPbKD7dciRh8KKK61IjsosmLfAXyBcj2qMY5RojlW/v47qgTMRhdCHUH6aqw+/8lB0cQ0slZfvrhSfOELkPmhbbGieYniCTQttAQ6Hw5Ef8Kmb98fxn2zZb98DoEP75C/aqXLg/mRx5PBAXbHpTMwgeF/AbcyYl+r2WRt+ve+QAw+pOzbJlltuBX169yFHdGZ8MQPGKy7KHiAzuSTy9UQWL3vx5NF3k77+K4+leFJ+jWAb+9TtCHPA/gdCy5YtyBG9Pk5C/fQTe2IuaGedto7KEPCDU0TJHvnwxZhZMbGUxKxZs2PrhImwxhrsV3Dx1Uxpv4UhAfL+2e/AfWHllflr6UwYNyHBP5RnIOgVtGjRHNqtQf9yW5gZn88ge2X72LaKEPij71fvvr1hk802gU232BQ27785dcsGtl89NuxB9qJ89GHlOlyy6MWSxlqd2K9TTxwffpU0HdTyLS3Mx796qc1YCUxEIYpp7sdUpa5qt5Ktl5YeBOuo6ise2PTBZpTa7KcOh6NKeellsa8BHXzgIWRPkPAgzNh223k36Nypc+mYAU7MvPX2m+QomeAuV7kF4JcCp3w8hRyxGbD9QOjZk75eiCqNGzUuT7ol8Nzzz5A9dR4a+SDZSwYnIp965klyJA9ORP3xxx/kiM1BBx7s/eFPWQQ71u4JiVBBjx4bwMCBA8kRHXwa6sUXXyBHSFl+ZW6IE7WRLiPBj7pLpZ3KxcrlbfLqJ6grwS3g8/qrr8Mnn/C/pok8/MBDSrYecvjBcOHFF0DTlZv6Z4J2UFkfTBov1nvssztss93W5ASbcWPHwZQP+WNFKbY6xgf1S9u6XdfFk4ksWrgIvl3wTV3s1IjqNcnJp58MJ552Ihx/6vFw7MnHxrZejLWY7ML2EZ+Gon0t75eff4H77rqXHMliPq4Ba7anf80W7cW1w9JEPf8cjnwgOBGFlNNdvmurdBXV7hWqxzG0dBnLG7CPoSt+WtWv/IG+cUJsh0yUOhwOh3mmfPxRaSHvJLwxr8f6G8Ae+JpVMPDyNg49N+oJB+x/EDli8/gTj5G9EsEdk7aJ8OTTT5C9ZHDizeQXAw8//EjuF8k++HASvKv4ZcAws2bN5E5G/f7H73DvffeQIzUWL14MTzz5ODli07RJU7j4okvIEUkOgRxhsdpqq8EZp59BjsJEhT7xxOOxBfllcoWNwpfgGP0C56ECWUp2+TIpgmOIlAG4/94H4McffyRHdJ5/7gWY8lHwFUoxuWE6dV4Hbrn9X9B/y36l6vIi5CA6Bu04EPbcZ3dyIpnHHuLndRRRR4Jy9PJdBCaivkj4ahoful5TdO7SmeyxwQnP9Ej2t9WqrWDLbehfbH3vbf4ainTsxbdL1y6wZoc1yVGUL2fNJnv2YY9X9nx32KR2201iIgqhPtgtiFy9UpOko6tEWnUQ1Xr5pLL7uGHQ4XA4EsBBMrQ9Fp7sqbjmb4T99tkfjjz8KHKkTv9+W8JZZ55DjkrgXalywwmySZOSXo+R5+OPpwitjdWubTsY/o8R0KXLeuSMGrje1NnDzoH+AguyPy4wqSPK0888BVdcdTl1HafJUybDWWef6U9CqhK0x9PPPAlz5831zyWx2mqt4dxz/gFNmjSN5FScxIuwzjrrwPnnX+AvLE+nVB8noJ54ojzpWM6fZPlJBDJKcniE9FBUluRoLpwg7Qq/wmzvj9lzhp0H494fT86U+eWXX+BfN9wMD93/EDkjh+9r6AmwY084Gk4+7STotn43csYCnjpc5+7YE4+Bgw8PT3yzY/HEI0/AvLnzyJEsKDdpS2a9rl3IHpsvppdfy+Mjp1+Xrut3JXtsxJ4000Hc32Hnn0VdG0r9aSi7MT7kyMPIXpxJGbyWF8V+fjkcondgUZZv0bzFhWRfAkkj6orjjqwDqg579RKq0ruriq6KOsIiVHSlSxCjTC1F5bTNkQvwtYYVV2D9QeJwOER+G+ITEPXr14f1uvD/iFhnnU7Qvn17+OCDD+Cvv/4iZ8XZcYed4OijjvH3k4bUX379Ba69/hr47bffyBlz4CtpuG4R7+tyDRs29MptDXPmzIGv53xNzoqDk1gnn3gqdOvanZxhg5NQb74l+GVAQeYvmA8vjnoBxo57D6bPmA5v/O8NePChB/w1tzC+MoTbqrK9fvrpR9i072bkiE3r1VpDr569YNq0TxLXbSoRz4oNN9wIzhp2tsD6PvXg1lv+DfPmzqXaW4J+tpKgvpKMZfHrlbIGDh4ITZuWXlNjMXrUaPj111/JESHWrzm21JFcDq/+/vvvMPbdsfDaq6/DtE+mweTJH8ETjz4OD9z3IHz9NasfsOXileDqpltsBquHvrbXbo120H+rfrB+j+7eeLLU4KfyAeovXx+2HbANnHL6ydBp3XXI2TBxm/Gpkn/fcCs5SpdmzVaG/Q/Znxyxefap5+Dbb1gfCsh2MmDPffeEVqu1IkdxJo6bCGPf4a9LqIac7xdcOpz5dNGLz70IUxlfTGSzDM76x9nw3bffwvfffU/OmQNfIezZuyc5irJg3ny49ab08jbec7LNOzp5tMkO7NFXFH0JRUVqIiqaUhJBixVNrhtPXSyv0Ej1FOqo6AnXUaleQNBN667WSCyLjJuIctQ8hn5r4dpJ3bt19z//z6NduzVg0MDB0KhRI5jr/bGPr2glgUPpwO0HwvHHngBb9ttSaPy+5bab4bPPdL9WRAf/qMdPs/fpvQk5w6ae9384ybJuly6+nyJP/3RapxPsv98BcPihR0DLli3JWTaTP/oQbrv9FnJkHpz0mT17tm/7b4vFJvaCNhJpK5ycwE/hd8L1vjjgWlEDBgzy8wzbADc6Za29e/eBww8/Avbacy9/wpTH008/BS+//DI5YsHzSrOE3y9L1/F/g62SgYMHyU1EMft7gi0R4uVY9i1ZvATmzZsHX87+En78UX7ikCaz76abQJu2bchRmVVarQJ9+vaGfltuAa1Xb+0/8YYT5H/+8ScpIc4aa64Bu+y+M5w45ATovcnGCU/PIWULcXLn2iuu9WJtfvI7IIgJbdug5wb+It887rvrvtB/BDB0AzDE0SceTfboPHTfQ/6X6MwiFwN8He+M886EdTrTJicBvpr9Fdx83b/IkQhl/bvttRtsN3B7aN6iOUye9CE5qw9OQm0/eAA5ivP0Y0/CDKkn5dTBXI2SrxysReJt4hCl3tod1iYZzE9kegnBDsBspWh9VSuo+Dp1rJbQ5eOVD/lpR4c9ZC0JXNXyAIVUCmDmiiNv4Fd7GjdqQo4cjoIRjD3hMSfDIXmNNdaES0dc5r9OxhtfwybjYuLffvcdfP/9d/6rYPgUU5vV28Dqq68Obdq0ha7rdeOujxQG13Ea+cjD5MgeRx15NAzYjv3jnsbM2TPhs88+g+88P7/zfP7O83nlpk09X9HfNp7fq8P63elfYKKB8br40hHwzTem/ziTR/fWd/GIS6HTOvzJqDATJ030n1zCOOKTBDhp8PeyZSSWbaB9hw7Q0dtEmTB+PFxzzT+9PRFvomXU/I/Xii68nSz16mv/CW3bJn8lbeipQ2HBAi8/uGODqAelcmr+ssApWw6e/fgq3iab8idbAmZM/wI+nfYZ/PrLL/7rUvh6IP7722+LoUnTJv4EaJMmjf3JhbXWXgvWXmctaNCwAaktQslqlH/FxVfB7Jny6+yYiuN+B+8HO+66IzmiM3/efDjr1GHkKF/g00WXXB2sBUfnsH3Zr5bxOOTI0gczcCKujNwNc+AOA2G3vXf3c4fGwu9/gEsuuERi0e+o/qtuuBpat1nd38enlMaMehleelHsgyA0MK+HDBvKfHILmfH5dBhx3kXkyD7xfJdrg3TIo012MDuOFyVu5uwMTUQhbMF8lZwSiS1VqsvXESBYsk5ntLxxPRG8OkSvXT3myEy72d7ryAA3EeUoJNkOuUxwSNxow57+mkaVBCbbHjZfGjMa7rr7TnJknyHeH/mbbrIpOUqXX3/7FS65dATMnDWTnLFHGre7VVZZBc479wJ/AikLpk6dCpddeol/Xygh4nWpjHp8KurH+nay5KuvuRratsOJKHY5fyJqvshEJd+Lcgl+WVGEZJK4HH/ycbB5v6w+308Hn6y+YsSVMPXjaeQMG3NRi3PGeWdAjw2TJ7E/mDAJrrvyOnKULwbvNBgOOOwAchRn8qTJcM3l15AjeYYMG+K/mvbH73/A9M+m+2siiU7y7LnfXrDp5ptSv44XgHL/c8sdEq8Oxm/k4YmoAJw4nfzBh/D6mNfg06liT/n29WzderutodO6nalrWAWUJs4uTu1refH8z+OPmTzaZA/zY1JR4mfGzoqJKIQuWExdQqnElirVE9MRIFA6orNc3rieSsh/jrOuR5P0NRJs/pJwpIqbiHLkjswGNjayQ94Wm/eDk088hRylx2uvvwq33ZH++iznn/sPqaeYTPDzLz/D9Tde5y+ebpO0b3ft23eAs4edCy1atCBn0mHatGlw3bXXwM8//0zOBCRHQOA5Hi51Mph9n62DOxHlyax7IkoIupz4WbZNoohqCsfl6OP/D7bcmv6Vsiz4bNpn8MA9D8LMGbPIGTr60eJzx323w4orrUSOwpQDOOrZUf7rbXnktLNOg4023ogcxbnxnzfChPcnkCN5gomoMDh5tPCHhf6aTLi2WSXYt5ImnwLkJqHYN3naRFQYnJTCp+/mzqG/4o32tmjZMnHyKcBNQtHIo032MTc+FSl+ZmylfDUPwxkNqbiqeF0xzDUhmzR0BOQjBthuwRaGds466F6wORwOB4/wACaz5YDwcKcy5L39zltw5dWXw2+ctZ9M8sRTj2cyCYVcctnFQl/SM8VXX38FIy650PgkVGW7q7S9Ll/Ong0jRgyHGV+ks14J8t5778HFIy6iTEKxMRWfOhmJfZ99UbGaEIGPJvxEwvLYMkNG426FD7ggeV54YuQT3h/yl8LMGfhEIj3Yyb6aA9cUKk0+BEELb2XYi8Vnz0a92JNQiM4kFAuMGU40devRzZ+kqtxEJqFwckhsEireHrLgK4E4UdWzdy/qhtfcJJQqebSpSBQtfmZGZspEVICOAvm68h/RVbEvrTpImrriVKZzZumNLplzy+FwVCM4QFVuOSMYylgbEt7XZdIHk2DExcPhk6mfkDN2WPTjIvj3rTfDI4+OJGeyAW149PFHyZE93vjf63CRF9evvtL7Oli47U22uxIV/Qa/1oeTUWlM7j366KNw4w3X+69X0Smfp8eKVS+ZqBw1GQjVbjylKLKeVzHuIw1xBWLywniyGeJfG/MaTMz4M/P4etSI8y+Gpx5/mpwJKAW+FEPZvwpKdVW39glrAIVRWcMqDVZrvVpiknw8+WOyJ0s4TubBhcmHn32B4CRUPsBXEoccf6qbhHLU4VpEHc5X8+RvBWUq6iWIKTegrC5OecplNX8k69QVV9GlT246RDbuO1LEfTXPoU0OBiwcqngbD5EysuAkEU6c4FpGnTt3Nt7XXnntFbjmmqth+ozPyZlsmTr1E3h//PvQqtWqxtc5wqeg7rzrP/D0M0/BH3/8Qc7KIZMPqZDQd/C16fHjx8Hs2bOgQ/uOsPLKK5MrZpg8eTJcf9118N5775IzbEoxS4qaeESp8ffjICIjXmbAwAGh2HjXKTGNfDWPQdQuEVsQdrlAnqikCAnxWLRoEbz3znvw0eSPoHHjRtBujXbkin3eeuNtuPeu++Cpx56CH77/gZwtoeWvAfpv0x+6dO1Cjtjcc8c9ZC9f9Nm0D+ATSCwef/hx+Por0ae56APLpltsRv3iogr4FNSLz73ofx0PP66RTMJAVwF+YbLtGm2h5Sr8r6XKgouf3/jP6+H5p58jZ+wT7w/isUiXvNqVHlmNXdmi7zVljago5YuqSUbqJdgalayih1GHorNc0qAeGp5uNV0qdpXRqy1BZWxpivXz05Fz3BpRNUjSIMPr86kNUGyKOizh18x2GLwjDB60A7Rorr7+z99//+1PQL046gWYO3cOOZs/cM2owYN3gN69epMzasyYOQNGjXoR3nzrf+SMHLnLF8U+1L//Vn7+rLXWWuSMGvhVvFGjRgm/1liOHy+S7OuJNSPxEGmtaJkrr74S1lhzDXLkXaPEN2mNKEWrQ5TKiZZOJGY7Xyo+SdOnb29v6wPrdKJ/Tl+HL2d/BRPHTYTXX3k9NvmEGPHbAP+45B/Qad1O5IgOTp6ceNSJ5ChfnHTaSdBnsz7kKM7h+x2e8NRiQPJ1nKjbfe89oH3H9syv3vHAJ6Dwibj77rqXnOHBs5lO2dYOyrYi2OZfzpoNTz32pPBC56aI9w21WKRDnm2zj7lxrIhx1LNZYiIKUVVG6jFaKi5VRQ+lToU+a3poEN2l0rJ6VOxSraUAq8cFBpjrkY6c4yaiaoTUBhezVOtQ1L37+v4ETZcu68Gaa64JK9RfgVyJs/TvpTB37lz4YuYXMHHiBJj0wUTlJ4KyoGXLVaD3xr3h/9t7E0Dbrrq+f91z7j13eO8leXmZyQBJSAISSEIYBYcqEGcLreLfYqlFBZRKrQOt/yKtFItaBW1FCrYqWhz+tSoyCSIFTAKEQUiETIQMZCLkZXjDnc9//9be+569z57WPOz9/cDmnmHttX7T+q39fqy9zxVXPJWdc/Y57FDyvo3DDx3m+n7u83/PPvOZT7M77rwj+6aboOPF0Bw877zz2FOf+jR26ZMuTWLnXLZv377sm3qoAHPXXXcmtvwM+8ynP80OHz6cfdNMvR27rFv+vtMXtfYQ8WBLG96nSB+mW4m1a0XZHjPOesyZ7JInPoHvejnrrLP431NPOyX7th2qcRx59FF2+5fv4L+odsvNyZH8PXa0utvFgLZgjre9422Nzza68R9uZG943Ruyd3XIJ5dnPPsZ7LKnXs5OP+N0tn//fnbw5IOV8dMHgx/lDzKnh4O/913vkbidTV6mJugX8C665CL+IPJDpxzi/6fOwZodU6m8R9iR5KBfyfzspz7LPn71tdm3bqnOEXP2sEPo8tnFbE6L0ZbqMksWogjVwZLzGjxV36PKOHPnzI1nbZwmkvFnLWXGUZFJ9SxJzM42EDkoRA0AJ4lFnyGnprPOPIvtP3CAFxVWV1b5rXx0uwPdThTyricV9u8/wE495ZRE1/1c393dnUTPY+zY8WPsgQe+yv8RIUrwMeNg7h06dIidfPBktra2xm26vr7Ojie2JJved++9NUXLZqt127OrRfq9kF8abSNydkObvT6b+xCSrYRoX/I9czpjRLHf5Dw6k4oLVGhYXV1NcssKW6G/yUE7K+nh9HQceeRI54PqVaUA3Zx44onsN972G9m7Km9/y9vZR//2o9m7IqEt7qHJ44fqXInBLsP2nfn8Fps91eVtLUQ1d6s44EL1vPaeZMeZa1+IDLPjEILnJDLMWsqMIyeTigbS4EoCzIFCVM9xklj0QFoCsgQfM47mXb0dsk8bZaieJW7P9pbptwK9tdpHRJqaNpU+y21Eem1mdnZzPwojCMeJXN8laQ3EooJmQIJnPedZ7OX/6uXZuyo/8pIfYZsbxYKyAacaJ0SZ/FCdLzHYZtj+M5/jYrOnurwtv5rXhqrJZc+z3T7HfAjlqLvGnkyN0JAehgUASEBJZf6Yp66NyhEYeYoqHgCIEnzMOJx3zXZIBGiVYfalvD2rHed9CPfTaZ/OBmWoecMp0rK10N2PgtzCiDWuyMifKSQpV4FunYEJnnzZk7NXVW658Ra2ubGRvMp9qe5Pe4Qokx8wX0CcqEfuSH2pcDVdZOUrtLWa21zYTKy9lJp1XdJnxc+b2gAA3JBfL9YddYi0CYw87cgcAIgSTfw4nredthCQw4Q9m/toEcC0jWr6y+Wi34zWxWRfJZS6qz9pJuMcpeZyA9b2B6zx5MubC1F/99G/y16FiuG5ATwAH5q1wLDsWdgRpbJsSJ7DbTs7R87UMmM50IXj6hwJmrqnz/Pv8tfFz9oQaQMAAAKIph0AZMjjKpr4ogsgh9ebQnYRkCftQ0fwqZp/jNoq6WyuPyH7CJD3o9aXUSVbaZVRUQx1vYEqKysrrb8K94lrPp69ChF38R4DmDtxg2hWi+C5W/NUOlE/R/5MmTNc6aKCJT3ypvR3/pBF5RwAgD6RrmbzKafpAMAk0cUVzW/Hc1zXPrmNTfXTzZyBpO3VcUL2dbde4gN36yatRBXqQqMb2pnVKWdj/80Dd+sObPGEJz0he1Xltltv478EFyYG5kOPiHf+wI9Aj5pnRKXTQS60VKaQi2mXjCE9R2TlcqSHD2hYT0MDED2Ue1SOQMnTQdMBgGuiijsP81tqbpZkS9+YmtvVfiQMYdhm9Js5qTz6Hed6lXXTpUEuDXGFZKT+O8coNzCvO5Dlsisuy15VufbvrslehUIeZJ2BBvYI3VbIAOYZlk0bHlauYgTBc0pzKv15WDlkz0jaS89jFf0baBxbQY8ukNsBsAPNLdmjRxjMiAAoQTE4f0SBh3wgbZ85+UzZV6+fRChDduNyJH3V/HCzANWTTNmnmcKY9FJB7lzGqpw1nUn0L7SrCjggDYyntDwf6uNXh3RbnkIQDx7YLCbM5sThZNjaQpR66LsynOw41F7lHFFU9VY9T5F03QKgv9iI74jnTJ758kMFx1kKAI6J2PVCvs7mh0OUbDUno/j5zcqJydFhHG3bFQomjX2JDjLrq1uvNmSUStoq2EBMxkLHgmPo6w70IWflR8rBQydnr8rcefud7PCDh7N3vhEMMlAANgPDyLiVQtQs9FUNIHteyIaWka3aViyN6I0BAMjIJxz9nZ98+Wfznzch2z5A6rIFfSZ7AOCaKOPOc76QttmcvNX5Lq9MtQ9F9oZWN+ieHJ1dtDcwppMsXCxx/ZXkFOi+vl9xuYAuZOv8KPOkp1yavaoSzm4oxEoXmF+gP0ivQk235uXUL0HddJxTmWMWxpiHj2l7HJX+DdOWv0i8AEQEwCs0R7oOAIBzol2iPOcMaZsV5DVhc/U+agynacuSLFO9znTtUk+HTPS1hNhKtudjtA/S3a+EkECSPAjabfyUy5+Svary8auvzV75BDHSRXWOxWYz+DgHlsiRW5VKhahmI4p3qI6LMVSRkS1kPQDoKVgBSiALgZigeI02Zj3mHiW7FeTtPrddufx5QcbQsGXFFnt9iXRablPpi6MhnCi1QzSPq2T7DjXqdW/CgU0GAdmxeIhx2RX1hah777mX3X/f/dk7H8jpMVS85BijwMegDbGVpGNHVBG55Um0bTmMZfonZNsTKucQcrrLTU+5vjtBbgCxoBurdD7inWeF4gFAyEQfr3ne8ZR7TNjN9/kz9IxYa4tKlyJjpG3M6dVGjTytIs6+zPVVkrNlDOU+gSBk/KZDjdPOOD17VcbfbXl6+gyb2OwGP9cBq8zTvaosnH/eBXt2EzegjKkb2may1X8r0z/R3Z632LOHbP854udNi22FVncZmcpta8/EFQVwwM7ODtu3tj97l0DBKBp7dYFL585/XtdfbdDHAaYmGCJRx31A+UbLjpke8n3Mzqg/14B3p019NPdd+02jr0Qkbx4rpet7WbL+WuJLTr4WasaY9aarl+75fcdOArnkiZdkr2bs7OyyW266mU01b0sVx9U4/aI6Y2KyI3zehtls2Adbt+vgoBBFNLRPvNXck6ExMva+3YsQ2f5zxM5LW2VthaNSRqZZ29qzzM4EAGopFaLqArEtDmXCvQdgSoIh0Yt4DyxHKdu0oIdaHwsd52l6m8vX1sfsu86RWn2Wnt3cR2fvCSJtJGgowMl82smcTYz2vYfu+X0ksARijL7q5YbqTInNnvB/G+YzYez2bpd/pKafrJmpvco5Mthun9N9XsWkmLOg7zTFuOznPUU12wAQCxTjxSNqKD8FlKO0bFrQQ7aPfNzuhw1oGEvwVCEbdPQl1IdLGuQ1KmNhDLv600AyR1+o0y0/+kJf9XJPdf7FZk/43z1BrVqSdMfLyPbSVEZ2HJX2Hef0Zg658hkAGTR38qNI15zqzZyrkmecrgOAPtLLGA8sX2nZtqCLTD8h+TSVRcApNU1yPcT1EXG+gQChLva6KfcnJqcgWdfi+rskN4KtwyR1/edHXxmCjm4Jbw4CG9iZMf2Nnr2Hlcv/9omqUWbniTlLZRzRc1R1EEW2f9vyAGAI2UxbbN+T6xrMVjA0KOaLR6+gvBRYblK28ZwuMv00t+0yjoLxWk6pxlhL45qv6vVQkLEWxX7otLlTUz3TK/B6mRVIxligI3kp3qeiTsGSG9vEMRSGqLMb6udhbHZGXABZuleguV/Nk10GZdvPIRzTKuOInmOzb0K2f0N9I1+A0KCY7EFc0qyTndUAxEyvYz7AvKRl7zldZPpx6uOKzdMPpHWv8Z2eHqLBINquSq6jvJztY/LiEx3Ze3mof3W9QKzA7wAAW7SvSHOFKBVUljz1ZdIIlXxrTof6VC7bv0x7z7YEw6DpGqWn1y40q5oOAIZCr2OecleA+UvL3gV9ZH0n1rbLYAIGbbG79LOo5t6K6dw1BiHSRpKkS1mf1FOVjfdrQWTQdyhoEDgAmAazap7m1S8tRJUsprJMyp+zdyugsLfU5RIbgtrKjiHTXkV+Mbp+zwYAIA5mEwA9nQd0MZAfgUH21rJ5QSfZfpz5usHudbqfcsop7Kd++qfZM5/1rOyTOeb0Na+DSJAIBlLSrFs+wb44ads9vWVOFcJ4hyAoyL/wMQDAPw07olSWdFfnyOJiDAGkc34gcoPh0HRt0hS7kV7H0MyaPwAAKaJz4tf/y5vZO//wT7J3gdOU2wJBOwcVdJPtS35sRUPOnZbHWXX8tOEPvfSl7Iorr2Q/8vKX8/czku+zvurPF0FRBwXkZBSTq9SnO1VA1FCg5AdwSf38j80PiBtZYDExWm7NE186ZVF3jkGZGoWQHaPc3p7VuqgZmXTETAAiFOOkh3FDsyM/6uj6HoC+Uoz9XsZ/4LlMy+ZzuVq2Lx/+Fo2z22+/nf+98447+N8ion3ooxY8uXz8djlD8bfXJ39HJB0b6rueXPj5A8QF/OaT2XwtAn8AkLNw/rkX8hkxrZ8tCbITprt9pYX0ze1y7dPWNedY0rnxbD6eTN/ibdOWLe0bdQWDRSYUG9jZ2WH71vZn78ICIQ9APSbmBu2IOuOMM9kP/OD3ZZ8EiIEcZwttH8zpJtuf3vhdZ899n8gqP171DP7Jnt7yPVYR6aOrTfp9pZVW7DX0mVPqu0s+2/geH9SjFYDAAPUzI0a/IJZUMZ8dY/dFVX6+I6pdLVkzUvvmc2rHkraruEytXTd+qaLzDNmzmxHvKW1pbmTQc6TnXPhQ9BcPAMCMwc2NgHOctg8Kuqn41GUM6P2K2wzeR8mnJhys10dq+70nns7QFC3ttwETahuFBMoP4Bf4ImzgFwDmmd2a1zo/GpfEFmTOsd0/EUp7FV0NgPwHcnoWCzSjPM0qAIJncPOD8lugOc6ILwq6hexXXoDS8kN68p7NvPm0OnCrHzXkbO2XqO3bm2FqIFnaDmAH2Dck6udxrP5BXAGTVGcGvzVvL8xaV0BCJSDL5zT2sDe27Bjt7avfzn1iXOe0fe1ZpbFk+hVrO2vV0L5TV9B7ZMJOAF+35iGUAWjGxfwo3pr34698FXvKUy5jB/YfYBubG+yOO+5gv/Gbb2IPPPDVrLVlDOc1GxjxSUFP1f7MxUa1pxdc9W3sh/75S9mnr7uO3XD9Dex5L3gBO+PMM/h3d9x+B/u1X/nlJCYeYK/48Z9gT7nsMrb/QLp23HLzzey/vvnN/Lsc6uslL037+vVf+dXsU8be8Ud/xO699x72xtf/J/bjP/mT7NzzzmWTyTI7cuRRdtONN5XaitNllfT79lbJtwpx2Nzn3DetfbdLFi7dcr/w+1/EvuGbnssOHjqZvz/8tQfZpz75afaO//H7/H3OM579DPZd//i72TnnncPfH3n0CLvv3vvYb73pv7EHvjqLq5y6ft/zl+9hT7z069jlV17O/vB//gH76/f+Nf8uPCJIeAOlPqJj9RfizARms3NffDLTY3zwxJNfl70WsJblxY53LzuGgfaG1WoNk72xZAY1JKBhPUFkWMhf0+mUTZYm2Ts3IIwBqELzIj9ccNULvo3t33+AXXLJJeziiy9ht9/+ZXbnXXeyk046yM4840x2xeVXsPf/9fuy1haJ4LrMiE8Keqr2ZzY2yr3RuwsvfDwvMC0vr7BnPvtZvGD05du+zN9TQerpz3gmu+yKy9lTn3Ylu+OO2/e+e8zZZ7PLknj5wPvfx/uh4wLe11PYPXffw669+moagvPCf/JP2ObmJvvGb/5mtrq2xotPDz74IDvttNPY2eecwx77uMeV2ovTbJ1UpubvOdw/HW0KpH22Ufi2M8bFxw2bsh4/9qqXs+dd9Tz2yMOPsJtvvJnde/e97NTTT2PnX3g+u+mLN7KvPfA13o6KSi/54Zew1dVVduMXbmR33XkXG41G7LHnP5Y9/ZlPY9d94jp27Ngx3pbI+6X/I+2Wm27h7df27WPPeu6z2WhhxAukn//s59itt9yanRECESS6gVM/C2P1G+LNFH3JzmaZWUWyEEVQIxmzztqKr6WyY9TTPN5c361D6ctRQrm79hPLuja0NawKiADLa4lsIYpCcP4QRbY9AH2mOId8zIu8ELW4uMj+/Wt/nr3//e9lV1/zd+yaa69hz33uN7BDJx9id9/9FXbXXXdmZ1gggmtlbd/M6ajTn/k4Scszeb95IWp1bZW943d/l/3O297Grrn6avbe97ybPfvrn8NOPe1UXjB6x+/+XvLdf9/77vkvuIqdfOhkds9XKF7u4n3xQtRTLmP33FMtRK2urrGv3PUV9pqf/unku2vYxz7yUXb/vfexpz/zGezACQfYu//yXVlrGarWKepW9/0eJR+1tMvobpGTtBSOcfFeY+H7f/D72dbmJvs3P/FT7Nq/u4Yf7/nLd7P777uf/f1nPpu0WGCnnHoKe/mrXsEeefhh9guveS37wHv/Oml3LfvQBz7ETj/jdHbRJRex004/jX9GPP/bns++43u+g++A+o8//x/22n/gfR9gBw4cYE++/Mm8nd1CVASJC0hTnYGx+hnxaZL+ZWZTpJYZ1Txm0QKqY4iep9K/zDkhtJXFZt8gCgJaSygamyIy/y7/vvi+eAAAwpsPH/6/Hy7dgkevb7rpRv767LPT22SMQ7ktgmtlbT/N6ajTn+mYqY3DTN5777mXvf997519kHDrLbfwv3SLXvpdCvVx041pvDxGIl7+25vfnL1Kufaaa9i9997Li6OnnHJK9qkMM1lrdWsKuIaP66jvtwWJvvvK0mTCi01FPn51WlQiA73oxS9ik+UJL1A98FXKQ2S09Hjrb76FGrGzHnMW/0s88znP4n/f8htvqdyyR7f7UYFKn5kM9QfoE1L5AgAtpFaQKJg9rFwaWWMItNeatyE5p0WW3ugIgHkQ4QBUoXmRH6Hxp//fH2evqpx33nnZK03yf7/lR+DY8JVOf/ZkKTij8PLur6S7mop86dZ0d0laLKi30bl5vHT4mG75mz1Pqtr4iqddmb0SJ5dnXqZWauWcfVjsU6pfgnfTYYgSMm3jgHYk0W1yv/Rrb2Q/9+9fw2/Bm+ecc8/lf3/wX7yE/d6fvKNyEAdPPpj8L9lnyndJbW5sshu/8MW9z4p8+bbbs1dd5OfWHWAo1M9rxACYYT4apFeToMkKUZlS0tYSN0batYrxbBpcRm9ZOUTb6+vXLL5N24GgMZ/5AAAOoeydH4OF8lhEucyovwzpbTJ+1PSrKtLah0N/5/qI61QQrkVOuT5rKPXt0CCB8dbf/G32F//7z9nRI0f4Q8S/50Xfy972jt8pFaQmkyX+9zPXfbrxuOHz1/M2BBW2Dj84v+uJbFw8iPn3OXWfgSFSP8cRG6CK+ajQWmGCorAjSlUp2fNCM14mj1CUGJJdKyJDsx9wBsWNSOyYz3hCNEUmIhaAbmieFI/B4ymPqWLUZ3O6q/ZtSqb2mEyE7fCVUdvUIhcs7foIUDNc3qe2rrWqiOonZ4cY+LM//t/s1a/4SfaGX3g9++D7PsA/o4IUPeupyDUfu4a96Zd/vfEoMpk0P9dyeXk5e1WE7JofADTRl/jQzmLACX3w08L8rXmJUlMVxdrP0Z+aojKpOkXmPBttVeUWodA31tD+48HHFGF5lBVfAwC6wZypIbK1yqj/5nRX7dtZTHX4KpVD16H6AUFy5EczHePQ19Nym+4+JWgdXtQGou3ign4Nj57h9N6/eg9/TzukiLu/cjf/+6zs2U9d0DOgDh46mV38hIuzT8qc+1hDtxOD3lI/5/s07/qZQ0CYNDwjyujSWkNL343xLyqPqtw29a2hoqfM+I5lBeEQietJzPwAANSD+TEHrYuRXQMb82GN7sHHx568VadJ539tv9d3IC2HIO39SipDzbX1L2K0M29QsWj+QeU5x48f53/f+660MPV1lz6JPePZz+Svi7zkh38oe5XyhX/4Av/7kh/+5/xvEXoOFd26B8A8+Xyvn/P9mG8gNvoRdx0PK29eZqvItCVk28ug2LewT23aRZS0XzGRbdoaOCNANyKyABCH5kvxABm0kA35Wr5Gd534MBlbjX1VZLbtQJH+Z23U51jDOMnHeZ8LkrK0IthMlKKM+etY+el/97P8QeWv/U+/wF79s/+aF4q+7Tu/nT9s/MMf/FvehnZK0S179Mt5r3z1j5fa/rffeQv71queVypG0XOnaFfUOeedw7+ntnS86S1vZhde9Hj2D5+/IWsJQEr7HDI8gb1CuvRJn3CIOQ/bpr4QpRyHsqa22V7F7fqhUm+6hn4rjW3aAwAAgA8oUyNb1xD5da8Rn9boH2OsdMvsztH69qvKasUn0iZpPoHkq8pI7eMtSP3p//pjdt+99/Ffxrv8yit4oYjev/0tb+MFqBy6Ze8P/+c72J2331lqe/jBw/xz+r7I61/7i/wh5gS1pd1UDz74IPvVN/wy29jY4J8DQLTPG3c5zT590gXExMLjzn18ffSVZp9sgJbbd58916JzxRSTZyrYrsSCzDnVts1nN3xT0VVOZnEds3YxXo2AduRCxii7Ozts3xq2sgNQB9LtHB5zlSmM+rTGHrr9m5Svsa+C3NU2bRLUfCcdE/X9lz9tk0GUtA/+v40yiozT0EZ5LpT7E5EgJW2pPOxAeP2vvIHvlqKHoxeLXWB4NM+tPs4iZAabiOdpGfrhs+Zb80r62TGhbRaU5JY5x0ZbW7bO+kWuiR/yYfHwAEWTrUgFIFbyeYH5UUMP1h6jPq2xh27/JuVr7Ksgt/Z4hmLCqF8SqD9+axvJZyNutfpMT05llEH1vGFx8OSD/NY/FKGGTfMcsZEQfNNHnYZAPzJ5xzOiVCkbp9tUssYUbx+nm+KUGliG1gqH6wVFYdMBAJiBedFBD65zbftXt3/X8ac2XhYIWmtZ+USTelNfe/0JyaeghLLeKSUZpZkNbtJusVH3UHOCni9FDyu/4fPXZ5+AIdI8NzQnLxgsiJxmmm/NIyqzUdaUs/bdZxZaCK2QMrJI3qTHx5frf/a/XdS0qtVXtDd5OTlCNgZBIeNqA4iEyA5uzQMDBmm0A8c5yxbG/TxnF93+TcvX2F8id/dYHS2mJqTt2u8uPkZtyz3/iPQj0UZjPlRHERm3idm5PZmiwrzw+1/EvudF38uOPHqE3fHl2/kzoZaXl9m5jz2PF6HoQeb0DKkHvvpAdgYYEs2zqq8zZWgZwC86WbuZuH3YXogiSlZTUTY9R+zMQishb4nLI1Ww4WNLtM/aip1R06pRV5EeZZ+ElbW2MxuALeScrIVMaKAQBYYI0mcHDvOVTYz7ucYuumOYlrGxP+FLh5YWe/qrS52e2XW+hpQlH4nKKSCP4pxo7llUtjbKfSiKGB30K3oXP+ESdvoZp/Nf2yOoAPWpT36q8mBzMBzqZ1TfZ8VQZn0YmMjaVeL2oWQhipBVOG0vflahpZDHxHq2W4giREeoadWop6gMMtplLe3MBmADcedqoRISKESBoYCUKYCjXOUCK/6es4+JMUzL2dhfIrv4WA0t9/SXk7q+dVcfCmfVxq+IrB1tFHaBiZ8h33eVch89msYAtNI+e4YwEzDbXWIiW1eJ24fdz4iq6CdrxrS9+FmFlkZta8f9YSCjW5/t0AMo5ucPy1BEICoAKJPPC8wPARzlKldY8fecfUyM4SwuTfi21IdYhybnnnpfmsrz0+X0lZNTUz5OuQ91WwEQB90xbmJexQBmOvCLpYeVz6MR6J25QKZvW201adRRXAaH0gJdyN9NhwLk++IhA+IGgCqYF4Jo5K1QseJ7CzayIWdbn3Lj6SvcPV7XGOn31I+Q7FoiN5xc+ri+TS6fkIyNUN9aCiTkfcz60ZcLgPDojmnduQSAS+LO0mKFqMqctK20zf59O8zW+HEHYq8pXt8ZXt90vI6IAUOH5kBxHsy/By0YzmUhYMX3NXYaXIzVxkpzAJmwj9Rc7oxlhWDvOEVKPmEU5KyF+skPG3ICECqm5hAAQISR+nIoe47Npay7b7XRZc6ypZ8NGZJ2yLX2mV3HWSMfoniIYCtaAYgBiv/iHJh/D1qQSTQRYcX/NXYyMU5UsSoRK/LzsL5zqT5sxHJjn+kXdv1nWiHqb7rnm+IBQGy0x62NZBA6Q9TZH/asHW9GLuyICk0JWXlk2vvW1c741Kt4z0lL5J9BkMdF8QBgqCD+NejpmmElJmpsZWIc5/Gr7HO5E03ZptxPiwz0lbJudWSdNfSZy7ZgdlCH5AabyV+1NwBh0h2rsc5LHYaos39g9TJzt+bJLim222cY8lp59BZZSuMpyiyLschckJDYkW7AOeTZ/ABgqBTnAeaDIrQ25UcPsRITNbYyMY7N+HVlhzp0x6bzpfqwFcsNfrdi21ZsT1bqfzZGrqN7PQHoBnFZh+0cAdqwY/04I73mGVEhKSIri+32Xcj0Z6utJMhFAICeQRnTYtYcDj1eH6zFSI3NTIzjM56VxhaIHdodpKtX9w6jue9txTTvd9Y56dWsmy0hirgaIz9S2vUGwC1isehirgAA6hB7WHkrskuO7fY2EJMhbRWCvMA7Htc1RCAYMoh/Q/T42txajNTYLIZ4bJRRNQb2zqvvgMbTtYtSH1ox3XJy4SsTupmDBNNSWoLyWGHZAYAmXM0PAEAdDYWomuXD6FxVWJ6Exze09FXGE+tXbnRDslaQ6TdpizxsFo/2tBVRAMQA4t8AlL96uiZQfFiLkRqbmRrLZ1xLj90RO9X+5IKNzpe3RzKGkZhu7mQml5GBDEMyuZKrPJa8rwAwQ3fshThXwRBAXpzRsiNKxkwqJrXdvyjm+5Z5SpM4Nm0AtMmvvRyvaxQVxQOAIYH4N4iH/OUSq/FRYzdT49mOa6P918bP7EPdsZTPNxrX5c4WkrdqchkVShCXY9JY6XhkH6NxBsAceYwVjyp5TM5ic7jUWwgA1xi4NS/HQVBr5g39tCOuo1LLoefFGHG8nlG0FA8Ahgji3xB5/ur52uM6VkyN5zXGZWOipn0+T/NDle7zW4S1FNtcpsa+LQ1qBNey0XjpmLkfu/0JgGlCnpM+gD36SXyZtaMQFZJCMrIYkltrnirKYCw3xBeMUQIzA+AMmm6YcgagdWYg16HW42XOjjHFZ5esqrrQeeVzu4Kt/vtqPzqYCfg9mYx0N+sk73evf6uYsYUcNGZ5XDe6gr6DGJLFx/wHReCBGXI7ojot154Oqt9GkD4Uo0XuNFE7yNorAvsCAEALlMXyA2hCC9OAroCsx8ycLRGjZmygNt9rAttgrJdkmup3nPdn4pcD1SAdDBpImOq4fvQHw8FHnIcKbBEK9jwRV0YVKETNKaRpOT3zDGS5cp4ncBkAAAgHykj5AQwxsOtP67EzZ0/T49mWv7V/2VjJ2rfL3N0pnW9Mb0PxXpFJuN9qw7yvqo71bd1gyFDS0LizsZttA0Az7fFSjjEAW4DwMPiMqBzZZcTWsiPTb0wyyMoq2B75KUjIe8UDgD6DOLfEwPK71Rhy8G+boc0B4/O+0T/ijquVSdHvqvoZtUkrlgO6FRq7PL47vUHMNMdJNaYAAGEiWIiSXRYsLiNT9b6VzyzlM7FeLFogQaZ30WRsV2LQDlm/7gBgKCDeLTGw63GrcdRgS5NjupgHImO4mo+zcUwEatKHZjckT63ulX67B5K77a6+P1d+SMfXNJ4W5fFzPxQPMDzq4iA/6vEZwyEDu4AwkdgR1Tzt9bHVd7Xf5pFkZHDQ1kvOkJF1wOTXS/mhCawOhgzFP+aABQzlJ5DRYMvexa5izMjawcq8F5K9vlGrPJI2Kfclc3KzbO4gGfLDB83jt/oI9Ibcz/K+9hWzAABVLNyal1OfQprThEzKCaGtDLb6bcb9iAOg/tpIGfIR/ASGCuLfEobzVExYi6cGe5oebwjzoX3eawSu5Km5HO3yJLT2W/6yuS8Z4erbtspoDZJFRnbT5OOX5ej0GYgS+NUWPucwAO1IFqKyFCEc06GkFANyVHS2pZtov93tQrE+KEN+gW/AEMljH/FvgfK/1QaF1ZhqsGmsMdwqd6arLd1c+6gOkoFumRNCqFl6+51Z3eoHtma/TiQMbJWyHLnd/dkFmELdhxQT+QEASIknK47khc3aW5nzgrLwsUNvb6oAAGMeSURBVBXl7kSmX1kZJDFiYwkZkccBAJawnC2HC+XtAeduq3HVYFcbY3qfH6oxJHheqp9IY91gbj5fysYCYlB/9vxGAlSF8Bcnun4xRbNd7PoDhEMeA6HEJAAhEkc2zHZEyQqbtRfKAVgW7CFqW/gAAOAHyj7IQBYY+HW49bhyaFtX80NkHBVZ2s6h78rfGzZsbXflD6sydNAhoppOqnpXz5PWxxgki6oepsllabaPHxsBWbr9VPR11d8AgCbCz4Iaz4jKlBPKCTKGsNWWsOEQ0T4Vx9bIueVTbeg+ILD2ASAFZRxkHUsMPB9Zj6sW+8Ya061yZ/qa1q25P0MB3NpN+qW0DC19Ul+mbSRGvVB+ZCFInhZDOadZntxnxQP4R9wfIcUZAGZxE91hZ71CIUpFUFvKCfS75z0bMoTttDLNsippgZxfj4GQoC5iiiwAVEGcW2TgOdp6bLXY18bYUc8Va7bSD3IaX1qGhmHF+hKRWUcvfZuYh2QKSS4xeXJ/SscH0Ebc7qHFFgDABnM7ohTTslCuSPsWT0ICrZRylKKOhLOcqCFjKyL92hq7B5BpFMyjeBoAUYJYt8jAr8utx1aLfW2M3Ye54k2HBl+RPEoytfRnFp1JXD03jBgiuXT0Mo24PHm8hGHHfiJv45BiKXZgSxA2NbfmyaZjmfaztmJnifYtK7MI+n1We7AhJ9Hcr60RBw2MCgCfBnUHMEz+b6qBX0/6jC0bY7vUx8pYAcajvJ6ZEjW6UF/2fGTWeC5jKS7IzsWjHbs+Hxa5LeXtaXZuDBvYEoSPxjOiisikGtm01NE+iHkmn2q7sdGnKD7HBgCEDGUHZAgHiP3bqfc4i7cGW9sYO6j5k+kd1Zye85VWjBT6yvtxYwuzk9uNzF2Y1ck8JF/xqKcYB8UDiKFuq9DjJyZgSxAHDYUo2yk37d9fYnc3cnUkf1qn+B5/WMDaIHYohosHsEz7v5EGhbN4a7C3jfH7NIeadBHTsSvIG76f+1jLnryvKe/DjF+6dJpHtj3RfI4ZHXQh+VT08kEuq5i8Ydi3j8QUMwDESLjZq2VHlKzQvpXs8fhC+bl5fGnJsB4AABJ8Z9XBgdy7h7PYa7B5X2I/bj3mnFN4S3p169YyoZKvxPqQpWXMWmTbE83nhONvklFFN1/k8rbLnMdMbufi+/mjDZE2MVKvU9G2dQcwC2waE0P3VseteRJpUtqSCxKndMhhzYs147aOVS9n9VNRu4q2s4HPsQOBfF08iOLrDmBBECMUt/kBHCKYV4aAs9hrsLmt8fs2p/RDVqKHpGmel+TsWB1jIetrhp4mVXn0+hOjeQw5+9iG5HRhD5PkMrfL3WVn+r7pyKn7TvQQpe28+e/qjjaa24rZEJgG9gZNdM1mPxh6RlSOrJKmjRKmkcNDwE5Dz2V1+gvYhCybHwDEBOLWE5RXcO24h7MYdGzzkOeWX9m6HDGtKRypQX1QXybgfWVHPTIDqQrVfJ4Je5nFkOGdQ3KHKXsxBtuOedq+q6PYfv6oJ1Zfxw7sHitD9pxAIao51VTwacm9sUXlldDLANXRJMcXsm1zn261HSawMYgRilvErgcopw/56mMOp3HYYvdBzQXN+HNhKxOFo73Yau1LbKC9vubQt4Wqos3n6ctkGgPO9AbJLnLUIdIGAACGh+EdUTYxt6TK9VTT2uk6Et6lRO/BdQIYCMguHsC/RSqEEoe25PCln7VxHcQvya5bhOJ98FdJRwZk9uXHftH35Ef6zR/zNH0+j0ib0IhR5j4Au4M4ESxEYfk1QXRWnA7Q78jlYADQzEZWdwzlFuSXCs7jsMEHtuTwNc86x83soCpf03lq/ZWdomszOt+EHEVE+tOVWx09ud1D8jbLPByabFC0z7yt8vfzn7ch2x7EBfwKRAlvRYhoR5QMpg1trr9yT6L9hhc4vUQxl5N34CEQKnl8Fg/gCFz/t+I8Fhv8YEuOYOdawPG4Z7OSjGIC07m1NpfSt9y4sU8hAjZ0EMA+qQ3mjzqavutqP/99U3uieE5buyZUzgF6wOZAFvUVzQaRFaLMGS/tSaO/xrkfloOBXeBtECoUm4hPT6hexw8Ip7HZ4I++zhFRnZR0txjXe/IojNGoy15f8p26jw0d4zaf614PGXR0Bilkw9yOxddN1LWvO6f4ncgB3AKb94mhetNCIUpsyZsZPOwlckYAcvqIUuQ5AKKCMlUsWbWXIGe24jw+G/xhWwbMQXHEYsLtxFL1X/U8Wbl19KRz688POx7d+ra/uIw14Bf4ro+482o4K4JEIUpG6LCXvJxUShuyWtS/M0rjsH2QSJoOlgYhQfGImPQMrg1bCSU+bcvhU8/OsbMYtSGjbJ/UfnZOJpjCHBIft7vzskxq6J6vn0jqz9eXyyYks67eAAAQN0PLguZ3RAVjQRtL7lyfTnUtjG1k3LAvSbzRYhb6qngAEAKIxwCgnDy0q4cYgE+CpTZndfqr2qA190n6314eVQlE3eCtPz/8tYLkLh4AgDKYF6A/SBaiZJaw8Jc7AGpB6IIIoDBFqHoG/1YSwkusNvjFthyYk+00xoLCPFKzdf1A5b70J7WZONCVQ0TX0NH3BQAAxMSQsp63h5WXF0J/y2I6stvx47oIiEtaI+C6BwQMzcgBzsqwoByBPNGJt1ht8I1tWXzPS1fj2xtHbFLR+J0yCM5Pob6AZ5BsAQCgj3grRKnTcskQ1Frl89IGl1U2wKUQ8An+wRQAlASQCITwFqsN/sHcSchsE5wtSj5rn2BCsgvO0fa+BDsRRrU/03KkxDcfyA52bAFAXNDsjW8Gg9AII4YWHnfuxQqZveOUPd3a25W/lRGjpW3JrmJ9pq1Ex59r1+rH9j7lxiUKbTvjp9qvyCe1LMjIGDkCqoYxdcNgZ2eH7Vvbn70DpkGsBcCA0p8pvMVtg69cyON7rjaNv7A4YQtLE8ZGi0mbpBW9X0hejZfYwmjMptNdxrY3U9PR393kffLZdGsjOTaTD+eMmrxtHCv720Ztm4rfqq1mnwiM0hAHRbgtOhFpU4XsS+Ri5O/n+5tOy4LOv5+hJkdK+7kCpgqQsk579k3+FP06s3vZtvnrZnsDEAuI4b5SznK28B8/ARWiCFFRWtqVPCfW36yVSPuaNo3R0t5f+q3ImDmFtp0RWu1X5JNaUIjaw01iiAcUouyBWPPMgNKeSbzFbYO/XMgTwlwtyrAwWWWj5VW2sLzGJmddxCZnX8TGB05hC0vLbOkxF7GF0SJbPPUcNt5/kO1uHGPb993Gpkku37r3Vra7foTtHn2Ebd1zC9u84wa2e/wImyZtdjeOM0ZFKuqf/28VETtU2tT6rdyq2m/LSMJreEsfJcTa8eIeHaMRG49HbJT8XVhIDv53gY2y76i/3cSOVAShIuB0d8rf00Hrafp5epQRlXee7vNiTHXctmRXsvfimC0uLmZ2Tmw/HievGf+cClOpbVOb72Y2JltvJ8fOzjY3QL3NAQgdxGyfUc36cviNIcuFKKK9bflbGVEa2la81t3nrIXo+HPtGiNFdGyFcTujs77P8qeC4/a9ECWgnptkEB8oRNkB8eaZnqc8G3iN2QZ/uZLJ93yl8Ucr+9IC1Op+tvL4p7GVi5/JVi95JhufeGrSQO0pDLvHHmHrN1/H1m+8lq1/4Vq288jX2HTzOJsefzSxedXoInYotWmcZ7NW9X22jFTTZ3Prln72aDmbiktU/BinhZClpUU2HqcFESqE0Ln0Ou+CiidkNxKRH7P/4X+oMLW9vcO2t7aSv9uFghW1IUTkbaL93HyEkJnZe5TYesImk+Xk7xIbjehzKv6ltk5aJO/5CcnrBW5Xsjpt/kttPTvIzluJvTc3Nvnr4ncAhA1idAjoZH0x/MbRwuPOvSSRQFaIjvYlq3X3PWshI0dD24rH2vssfys6/ly71igRHV9y7M7IbO6v/I3AuH0uRAmqZj8RxAkKUeZAjAVCj9OdDbzHbYO/XMnlW38qPi3uO4mtXfF8tvqEZ/MC1Ghljb5JG5hid4et3/wptnHTJ9nRT/wV2zl8D9tdP5rYP3WA6Gh77VrnGZUPuqhpMdenUh+1lNtRMSQtPC3xv1SI4sWQUboTh25v5EWk3bSgsZMVlGakO3nywgrtlOLv0zpVdn62a4cKJZub/HXah6jMdbSf2+oSj5CNxomNJysTNlmaJDZf4sWocWY3MgvZp1i4o/dF0gIW7ZBi/Bw6f7QwTt6l/tnd2U3+kq232WZib7J53hcAYYGYHBI6GV8Mv/G0cP65l2RpVkaQjrYlq4n1O2ulKUetx5r7LH8jOrbouER3n2kLybE7I9PguH0sREmoZD8JxAsKUfogvgKhh2nONt5jt8FnruTyqT89+2lEBagnfj078Xn/gk0ec3HyL2z6h7V9dg7fyx75m99nxz71Prbz0FfZdHM9sYXYBNqzWUtzkTJUxfpz/Yn7RrRlWjSigsjy8jJbXFrir6kANU2+o1sbqWhEt3vx52zNUVW3Oi6/zSzpMy9u0Vn5bWWbGxtsc2sru7Usba9Gt75a3RuEF48Sm0wSe6+urnC7kH2oYkc23iJ7JzaZLzqJQv1Tn4tLyZH8JdvkBanNjS22fvz43s40AMIhlBkKXCC+lqniN554IYpepGKICiPQrmQ5sX7lZMiZa1/rsfY+Z9+Kjl3TrjFSuvuUGz9r0xmZIn1RK7F2vSlGKahhPwnECwpReiC2AqAnqc013mO3xW8uZPOm/2jMxvtPYsuPfTI78VteylYufjp/8LgPNu/8Inv0g7/L1r9wDdt9+H423d7Kvmlmz24N/pvZtcvChe8Lfcn7pfuMtCAyZkuTCS+KLC6O+bOIaP3LCyEiO2fKLdrHzYtetOtqIfk73U0LXXQL2dbW7LY9NcSspNq7LnkBigpEKysr3Ab0vCc2XeC30dkoDuVjprvcltjulHyb7o7aWN/gY2J3FPAPYnCIyK9rMviNKcVCFCHQds9yYv3OWonK0dCu4rHu/oyMXRsppsfO2nRGpUhf1Eqs3RALUXYnfj9AIUoNxFYg9CStucZ7/Lb4zZVsPmxADxufnHkhO/GqH2X7Ln8e3xUVAus3fYI9+p7fZhu3fIY/7Lxty86e3QpN6m0pYuGkTWc/IjSfyYsTk0m6C4puCUve064kKlDI7sSpWkVMYtqtQzLQA893EttS8WuDnmlEO6SUCzJiY7dMNSvwXUpZAWqS6Mx3KiWi0g4lV8UgvgsrG5t2uKUFqQ1ekJL1OQDmcD0bQSior22i+Iut8cETT3ld9toO3Hr2TVjBw5CqYyqd5lo/H/b0yMDUVYYuCumZDUAMiivEViDgmk4J7/Hb4jdXsvmwAT2MfO3rnsNO/RdvZCsXXMEWxnQrURgsHnoMW7vsW9nu0YfYzgN38QeaNzFvu3Zbdlk6/Z7+t6tlO/Vn046k1bU1trJCD8VO1rlkvaNb5GhXjpkdOWJS01g7WRGGdmNRQYz+EvlzqNTQs5ppeAFoeZntW9vH/5L9afeX6wIQ2ZOKXjQm/QIi+Z52ZNEuuF168LmyvQFQBTE3ZOxnan9rgUYhSkJo3lRGSUMG2evG4diGRO+kcxzDgrjSKxAGpq4yKESJQfGEmAoIXNMp4T2GAyhCEa7tMN5/kB141veyQy9+LRufcEoiQHjZhHZnrV76jVy27ftuKz3IvEhR8m4tOlpMxZ4m1U25l3RXzhJbXV1lyyvLvACxtbXJb4vTKUBVZZWTnsamAgnBn22UHPRrcfS8pNiLUVR0ol1Qa2urvPBD+mxspLfE+SIvSNGv7uX2Ho/G3A9mCpEAiIALlqHjJkvTKO7XA16ImoW4rACC7a3p1dGxxLjyIjacUflYvmdhLHZdi+vxPDEQNY2AQlQ7FEuIp4DA9Zwy3uO4xXcuZXNqh4URWzx4Ojv43f+KnfSCH2GjZfo1vLBZvvAKtnj6eWz7Kzex3WMPU/Uk+yalaD8xW9a3oqcFmCpDpaR9URGKboOjogjdjkefb1FBZKv7+VdqyOtAO3VoOuTFEX67IO3U2VVNcM0ymLRwHbzol+hARb+V1fR5UFT8oSKUenHNLLzwlNic23uJHiRPP2+Yfh6KjACAfmM7F89wNxJh/9Y8Yk8nGeUMGKLURXd/BkZMMdZRHXOda4yVLp8SHVjVKxwGoqYRUIiqh2IIcRQI+HeCNt5jucWHLmVzbYel089jp/7zX2L7Ln9+MM+DEmHp9Mex5Yufwbbu/CLbeej+xH+zYlTRhmL2rLYqf2LKK+mv4lHxaWV1lS1NlvhOI7oVb3ZbmP5Y9T3I95vvyhmPs5069EDzZD1W36nTLIMpC8+TF6HW9u3jO88WE13olwHp1sfQINtSHOTPj6KdUSQ/LwqiGAUAsIytPOybmkKUBVV9Wk9ybCOiVjqxaABnts0GcjaePwagojFQiKqC+AkE/NvACN7jOZAiFOFyvPGBQ+zUl76RrVxEv4oXzvOgRBkfOJktX/hUtn7jtWz3yIO0WPDPizYUt+esJX9VigkzXqFb3Oi5RLQzZ2lpkT+TiR5IXi3smBmviny/vPBExZHxqLQzKpZi1F4RKrH7aLSQPoDd4614IpBtKfwmk/TB9cT2TiIz1hugTR5ExdmGwAIptlaeetyNlmZRLdyapor58cV79KV7YdzGHIXkxU0wfwBgAZqR+QE8g7luhCDiucWPrmVzOd5oZT87+L2vZisXPjXKIlTO4umPZQe/79+yxZPPTAyodyPdXjxWYsLAZE9ko+ITFUTGi4v8Adm6z4Nqw2QskYwb6+tsZ5tuHVvitxRSgUeNdlualJs/E2qVfhlviXe8Hskv0lHxj3ZsbWxusDHFDN3COVnmu6MAUKc49/LXBnIbAIFjoBAlQGkuxZCsNWVUyB3piCZtI9OXaNukHfIiACVMzlqgAeUm5CcjIKbLuLTHwtIyO/Dc72P7n/E9/HXsrDzx69kJV/0oG+8/OVFOzZK27U+FG9oNNVla4juh6HlQtm+3quqkPh7JSru36FZCesYSv81NqxjVLIsJX9BOIpIx3Qk1tlr0s0Jibyr8UZxQIY0/2yr5i2IUMAcuZsAwaChEySZTM8lXvRfRM7FIgHooMvIDABAR7f9uApIEkwNbfNrbPJ38o3z1ic9hB7/jlVE8mFyU/d/8g2ztGd8prVNlTW6MCfUEQDtzqCBCx850l+92aS+KmEs21ThW73t3dyctRiVdUFGN7+5KdFOnWRad+bcwGu09DJ52n21ubUaxE2qefGcU3ZY3mSxr7kQDAIB2zK08ori50uKFKDdDqeBTMtNjh2vloQPPAFUQOx6hVdn9ytxrgonnFr+6ltHleJMzzmeHvv/n2WjtxOyT/nDSi36GTR5/pdCthmTzst2TgOic6/LJgD94mhdtJmlhgZ4J5b0oop7Udna2uQ5kO9pxRLt08ucYmabqo25ox9DS4iJbW13lRZvtLdp9FvYzodpIY2aL70RbWV7ht+npFf8AAKAZ9dVBFdksL8/eCqWyqEghaD37KtsfAcQDogGogtjxBK0l7lfjXkOxHEw8t/i2z3OOfhXvpG9/BVs8eEbypn+aLkxW2Inf9So2OnBoT786V9dqbmm+L9JtbJMJ36VDu1votjzX1HtaXeHtbfrVue1EJ/oFQPuFEZlITW/JW0nsvsh2d9PbCWOHP6Nra5NNF6Z8Fxr9ol6vExUAwCvuL3/tJrTK/1UyGy62TNogr6LHxLWPzU4DQcDv8ByQhWImP4AH3K/AvSa4WG7xrw85XY65csEVbO3Sb+IFqb4yueAytvqUb27UsdbeUnNevPFoPObPU6IHTu9sbXspQuWYjrPtrU22u73LFhcTHScTjV1RYvYUkZ92Q9EuqPxZSn0oQuXQLjraGZXae4ktRvwDAwCA8OnTpbCdPbtG8XH56YdU0+Hoaw2BGQorA1EoVvIDeKRPK28ABBfPLf71IavLMRcmq+zEq36ULfTouVBNHHjBy9j4xFMSpWV/Rc9sAqBbxKhoQDtztre3+W1W4rhIRupjkC6kE0E7dPSeXSQmR5cv+bO46Na10TiRbafjOVzxQfps7+zyX9Ajm+PB5aAdmlfFAwBx+pRdDBaiZMwShwnFL5Nq2tXmle7+xC1TaNmYw8R7ix6JfD4gqwAJKC7qDhAAAvMaiBNcXLf414esrsfcd/m38h1RIs9Pip3F0x/L1p79Ql5866QSF2YSAT0km4pQVBTZ3d7uXVGEoFv0dnZ22Wg8Snd+WXpweZGmeUM7ssjeS0tJfCeN6DbIvkExtJPYPNVVt/gH+g0uaADI6ShEBXe52oF5ef1YIHC7h5ZDkdOBJrFlukGB+W2U4GK9xb8+ZHU95mh1PzvxW3+YjZYFCjM94cA3/zO2ePKZibHdb8rPH5i9tDRJiwc7O5K7oXLMJiYbcbdNBZ9ETNqhM14ca+7SEdO3bgQqztBD4el2SHo4uZq9w4diKf0VvdktiACU6WfsA3f0LasYvgqwZR7T/dqQM77QkJcYCRT0j/hm7kCgdIOUY5TgYh3+Zfsufz5bOuNxydXYcH5ta3TCIbb2rO9hC5Pl7JMaLMUG7Qyih5RTcYQKB3SUCSko9WShX9Gj5xflz8NSf1ZUjpg8xTxT2iFUuGWwj+S3RNKD4sne9MwoAACIH3tXj+7/7ygBjKvr67pCcVyX/1gI7h8mlhmavgBEB+VNXzm7xwSX+zp87ENe52MuLLC1y57HFpZaCjI9ZfXyb2ULk4ZnYmnN//aTqShDRZF8N5QeZhOVjfijW/SoQGKmEEWI6ZzrwnegLS2yUfJ3a1t191kzb/39t7MPXvPh7J1/0lv0drNCFN2eR/qa1RnECuIA6OMvo9i5QrJQiGoRVMJyxtXF/G8ktbWdAAuJ/msI2iD/1x0gEPytrr0nuDjv8LMPeX2MOd53Elt+7KXWng314Oc+xm79X7/M/4bG0pkXsMVTHkOVoewTUUSSRH0bKoqMRyO+K2q6u8uPekJKRHqy8OdfTXfZKLEzPS/KzO1iJFO3XDQSFb/486kWaAea2d1QVIT6ukufxG69+ZbsE/9QoW13dyfROdGbbocc5fbObabnTxAr8Dswi5+Ionxm9mrJ446obkXK6ooq3tKu5DXR/mSo6VMxUmxI10Y6nsSokeRU0ig/wPCA/yOAckkk+SRGgov9Dl8Paa6uXPIsNlrZn7wyrzUVoK7+ieeyL/z2z/G/H//pq9ixu7+UfRsAozFbedJz2cLiJPvAPntFkSQIqUAT4rOK6iNBXU7ScWd3hzbfscXxoqFdUTntci0kY9GuICqCTadU+DNn77wIdcPnr2c/9kMvyz4NA/olxt3E7vRQfLJ5FbJDfoD+Az8DO/iLLFqpzFy3LJx/7iUVPcofqKjZcc6e7GJ9z1qJytLSrmQ3kf6mwqOm1LSu+MrUuIUWjfEgK31Xe5ExLZEPPT9ug8iuxRsidGvDvjX6h1RYwPcRIJeagCRBzoEOn/uS2de4p770P7P9z/huK8WYj/3o09hDX7wuezfjvO99Bbv4Zb/IJiccyj7xx8ZN17Gv/ebL2e7Rh/j7PT905gYRj1Xb0EO7V9fW+O15WxsbArfmyY3z+IsvYgdOOCF7p06u/heuv4EdP348e0eIyFOFikFLyxO2vb3Ljh09mj7E3Cj1clHRb23fGpusrLCd7R1jv5YXchGKSJ+LtcQdefTIEba+vp5904SaX0EM4EIH2MV/9tCL8dpCFFH+UHaQjvYlq3X3PWshKkdLO8mxqY3oqCk1rStRYnLcrFVrJIprgEIUkCHEQhT8Hjji6QgoEuQc6PC7L5m9jTtZZWe/9l1s6bTzkjfmpfirb2juc+nAQXbhD76GnfOd/9JrQWq6uc7u+w/fw7bvvS15szvzhVCO6LJZ9fuV1VW2tm8fX7eoENW9I0rEL7M2V33Xd2Sv9CHJbr3pZnbzjTelH+whIlMZuh1vZXWFXrEjR46yzc3NZACTibheJiqAHTjhAH9e0vH1jfQ2QU3yItT9993P3vl7f5B9KsafvvNPsld2IXsvLtED4ifs6KNH2LFjxwR338n7FoSOyXkGQBX/WUMvxiMrRBEisrS0qXisq79IClFEYzSKa9CXQpRr0YZKSIUo+DxwxNMQUCTYOdDhe19y+7TXykVPZ2f8+FvYaO3E7BOztBWictYecwG75GWvZ2d9y4uzT9xz+Hf/HTt2zV+w6dbGzB9CuaJLv/L3tEuFdkOtrKzwnTlbVIzpRDRC0nYmC1FHjx5jH/nQ32bviojKVGZ5eZmNxots/fhxvkPHRFFoRlUmKsbQmPv27+M70I4fO669BPzTH/g+9pM/+1PZOzXoeVJ/9X/+0npRinaDkf7rG+vs2JGjEr8WqOZfECq48AH28Zs19GK8sRBFlL+QGaijbcVi7e3l5WhpIzk2fS8y4oyG1qVxxXQQG7fQqjESxTVAIQrIEEIhCr4OHPH0AzQIdh50+N+X3L7tdeDr/wk79OJ/z0Yr+7JPzCJSiMo56ZIr2RN/4tfZyU9+TvaJOx59z2+zR971W4xtHMs+SRDOGW06lr+j3TlUiKLdOVSEEisMiNowbWeqELWzs8s+ee3H2eEHH8w+mUfctzn8V9wmi2xzY4sXhbpvS5SlLBMV/pZXVviteeTPDdqBln2ng+qOqLPPPYdd8nVPYBc8/kJejLzzjjvZv375q9i999ybtTAL1395wraSOKNdUfK3Jcr7GIQELnyAO/xmC71Y91OIIkpWa2+vJkdDu1pvdfUpU4wSGVekt1ALUYTImBYoipaP2yCuS7GGjK9CFPwbCeKpB2gQ7Hzo8L9PuX3b7KRvf2VyvIKNllezT8wiU4jKOfXpL2CX/tRvsbWzzs8+sc+xv/szdvgP/yNj60eyTxKE80abjuXvqBCzurbKHx69ubXFdowWoogFY4Wou+/6CvvcZz7bYgZ53/LnRE0mvCBChSjxHToyzOTKd6Ctrq7wh3fz2wETTCwJOs+IOuPMM9irf+7fsOd843P5zrBfet3r2d+8/4PZt+Yg/SdJzNHOsyNHj7DNDZEdePPI+xn4Bhc9wA/+soVezPv71TwJuUNIxSQDloSAoPhBvh8kmIeRgPnphGDnQ4f/fcodgs3GJxwq/LR7GHz1E+9nH3rxBezzv/ZKtvnI17JP7TLidhjZTxcLC8l/s3GMPh8px0yfdEseFaGI5uiQHyt9RtGU3zJnj4Jc3N7JWMl/i89HMjE6FZ+oCEXFKCpKyUA7oF7z6p9hv/Ca/5e//6l/+zO8OGUa+j916T80xynu1DATU8AF6fwCAMjRmh3LC4bNxSt0ZHQ3Z6coLI68Cxwy5CwUFcgLTgh2PnT436fcodhs8cTTEmHG2buwuP3P38L+9gcez279X7+cfWKP8UlkB/v/nygVRdLC31TwwdGE20RGt+Rd/9m/z96ZJdd5xAtE/KUl0nFoCD5W8p95e5sYXqcYRdAuqLf+xm+xE088kb3xzb+afWoQUjk5qMhKdlAn6wgEDPwDgCqdq79a+hQ8a2/udrc3sXCZIBQ5ABgamHuRgGsy69BcCHY+dPgf8zhlfNKp/B+pobL16GH2hd/+OfahH7iQ3X/te7JPzTOmgty8HSSCpHkulAORF6KS/4Scnu67557Kc6FMzRcqBk3JAlQU4YURm5ZI+k6GGI0TvyZj1RX+TOhFxajrPvFJduppSQwpQA8sp/PpuVH0IHTT7CZ2SAt/JrQlG84fbYi0AfrAxgDoIHQVNEuhMsnUROINCZP6iPTlx35KoyIPA0NQ/OUHMf8eBEp+zYtcYB3MBXVCst34wKFEoHALUTnHvnIr+8TPfgc7dveXsk/MMtp/UmIGtZ1hMmUlqgXQc3uoJiK+I4pwk9RoN9TNX7wxe1emPm7l5VpI9Kbi56w/e7rxsh8VYZLXTfY2MR9f/WOvYi+86ruzd/L859f9J/73W7/t+fyvKbjOZG9jhag6yK75kTP/HgAAwiX8qyDTGMjPSkuK4rhSYxlae2wtmS4g2WOWf8jM+w1+DJz8etdQ3gHtBJ/bBGLBp/yh2Y7/Wp61f6CaZ/2Bu7NXhqHCCD2wXcIW1FLecukZVIwJkfF4xJ502VOyd1V0IyXdEZVRsrUte1C/vBzVWvjT1UsXembUrTffwndFmYarTQomh71iVA4NVmfnZtsDAPpDUwawj15uEy5E+V4shgmsLgpZCtaKF/guIvytdoMl+PkhEA+Y42V2jz2a2G03exc+K6eclb0yy3R7m003jicvxJJKNY7azit8lxVipkoFATHZdDl0yiF23uMel72rIqd7mXx3Eqdia0v6JfE9XbD9gHR97rn7HraysmL+oeWkdmJaMrfcLjzT+BwbAOASmu3uZ7x6jh/ejijCgIeCXVYHuN6EfYkD2iDfwX8RkK9sA8wvvgl+fgjEhG8dQrThzqNfS/6dHv6EWnvMBezpv/xutnbW+dknZtk9cjixw072rp02P3b5mKev3V2+GUitMOLGVxdc9Hi2urqavRNBTC7SmYpwu4kNXGhChZddKv4lg3XZW8UbVDT64DUfZi975Y9mn+jz3G/6huyVPqQzPR8qv0XPP0UZ6HXdAWbU2Sc/iqhELwD2qYtWu9BckJ8PPS5E9SU5FP5fLGXke+iL9UC4IMYiwe1KBmJCIDYwz+vZfuj+xH5iBRgfLB04yJ7w8jeyf/TOW9hpz/z27FPz7JAdBApRunHEb01LDhNXVDaZTJYUbtETmYj8JjkyRHpUEOhDEip60a4oGzui6JY62sV04UWPzz4JESr8pQW5MCA52mTp+h6kFG0Ee4GwcR+hcvneciHK7OKT9mZ+QXMG8pVxIo6GQQO/RQDlK+Qsb9AcCXaeCMZGCPKHasOdh6kQFeateed97yvYN7/zZnbB//Oz2Sf22HVkh7wQRdgojJik6xa9etonZK5zukupqa3ApBaEboTkNk9ei5ibmqh4ZWV1JXulD/2KninI3qT3lG5PDHSeAx0oss3NFwCGysj7PJIcP12oRJerlnaR5Q+pBbpPuZF0yQ8AgH0w37wjle9dIxgbIegQsh13HqFb88L6B+qpT38B+0d/dCu79Kd+i01OOJR9ahczdugOSl4UoVvz6E3ghSii7Ra9Zumb7ZCqTLeKdd2aZyj5J93sUgEmsXtaBBPrl1qKeufOO+5kj7/4ouydOhddcjG7/777s3fmIL3p9tvmwl+oxCavaYauPwDuGPGUH+WcE12qRNs5Ys/W8nIFpoldyE4dcTkoe/QI+C1QBOYcsAvNjaDnh2B8hKBD6Hlm+6H7EnuGUYg66ZIr2bP/60fZM371fdaeBdXEjqAddFNTujsn6WUh9JvzUugWvbPPPSd7V0VWh3xHFH8uWWdhRNfaKVT4I7vnY8v0S2d06fgPn7+BnXjiieyf/sD3ZZ/IQ+eedvpp7KYv3ph9YgiuwEK6Ay2CZ8F1QzrMHwAAoMfC+ec8IckmyX+7Mn5CmnZUkk/HOXtji/U9ayUqS0M7yXHn2zWf1dGfxrjVMxr6qPjTxFg5Nd8IxI8UAuKaHhLIs7Ozw/at7c/edQOfBYhoagBWCX5uRJaTQ7fn8vmXsTNe9XY23n9S9olZ/uobui1ADyK/5GWvZ2d9y4uzT1wzZQ++7WfY8U++h023N8s+k77M4E9AqiE9azQasdW1Vbayssq2trbY1uYm/1yOdgmu+q7vZOvHj7Pbbv1S8q7b/l3cfttt2at6mqdkdezlleXEBmMu3/r6evr8pk7UdaDi09JkwvYf2M/G4zE7fux49g0h12+TnvTA8j/4sz9ijzz8CHvhVd+dfSrHO//iT9mpp53K/tkLX8yfO2WK8eKYLU+Wub2PHj3Kr5X6iX6ch4XAQgdAZPiZpWJzSeoZUX1LN7r5Jgx72JOid/4GXkE8BQiuubxD8yL4uRFZnMSQazZvv4HtPPLVxLbud0XlDyJ/zls/7rEIlai+fpxt3vIpNt3Zyj6xBxVeqBhAu6KoKDXbpWOWnWQcKiDdftuXsr/qhym4vqMx1317Z1uwCKUH7YTaTey9u5PeDjkaj9MvDEKFo//7Nx/mO5re+vtvzz4V5z+/6VfYOeeew677+CeNFqEotsaJzdkC2TuxgQN7+4MWh75cSOCCCADXSD+sPIYLPHnUteqnPTzTshaQvfMDhA/8FSh9unaMmCjmhWCchKJLLLmGii/rX7iaTbftFGHodrs6ig8id/UcqCY2bv4k2z36cGIMm8lo1vfOzi7b2d5hC6MFXpyRJ6ykKRrrvBCV/N3Z3uaFIVfQbWl8zN0pWywVouTsSLI36fqL/+/r2A2fv5593aVPkipGvemtv8me843P5ee+5tU/k31qBipEkc0p1njx02p8h0LoOpJ8xSOn7jMA+oO/ayKxkWcrsfAcjOP+emGkck+vNBciBI1JhvwAYVP0FfwVILjeCoYo5odgrISiS0w5h2Q9dsNH2HRrI/3AMGd+0z/NXqX4eBB5F+ufN6W/mOdph8729jYbLYwUC1GyhJFs6dY4MtH2tuzuHD356RlRW4m96e9orG/vJi//2A+9bK8Y9e4Pv5/965/7N9k3VV72yh9lf/a+v2RXPv1p/Bw61zR5IYpijQpxwyG/wAgj7mfUyROinAAMj9kzovi79E83aXvxKSzQko8t1uOslagEHe329Bbpr75N+VOT4xGzds1nzH1T8aX8WDkin4jHjgBdqoBgKD4jCn4KHNEUAKwTxVwRjJeQdIkpB5Gso9UD7DGvfRdbPPSY5APz0j/4uY+xw9dfzQ4+6dns5Cc/J/s0DGgn2P2/+I/Z1l03JW/S4kjJAtKXGem39WGbfkcFgpWVFba2bx+/ZWprY0Nxt0q9JPSMKHoe0Ec/9LfZJzntkuvQpi+R60zxdfTIEba5uamgs7r8i0tL7MCB/Wwp+bu+vjFXCJPvt01yKjL94+97EX+AOT0H66v3f5XdftuX+XfnPe6x/FlQZAv67t1//i7262/8L/w70ywtLbLJZJLY+yiPh2HsiGpDxM9kI9U4K9q3ro+h2x8MGfXsbYLuuadYiCL4748IItCSjy3bo2j7jnZ7eov0V9+m/Km98ZrPqPmm5E+RsYj6dtVP5z6Rip0OLHYNzIJCVASITn3ghCjmiWDMhKRLbPknl/fUf/mrbN+V384WFifZJ8Ng80t/zx749R9Ob83LKPmwJgbbfZx+2xy66fdUIFhbW2ML4xHb2tjka5g89ZL4KEQR9TqnYy4uLrKl5Qm/TexYIhs9qF0NNR1oNxYV/pZXVvjuoOr48v12pSfaEXXZUy9np5x2Ki9KEVR8+sqdd7HPfuoz7J2//4dGnwlVhHZCLU2W+Gsq/K0fX+evAZH7usuDXTHRdv78uV1jAdB/1LK3CbrnX1aIIpI/UpIaLkQRfHyxtmkrUQk62u3prdff7FOT45XbNJ9R803JnyJjEfXtqp/OfSIVOy10qQGCIi9EwUcBIjrlgROimSOCcROSPjHmn1zmfU/9NnbKS17PRvvSfzAPgukue/jP38yOvP9/sOnm7NfUSn6UvhZIv20O3/R7Koysrq7ywsg2/XpecpjaFeWrEEXUabCwMGKT5WV+W9zG8XVejFErvOXI60HP41pZpl1oa/yB5VSYqdpbzT4qXrPN4uKYTSbLbGNjnR07ekyj8AdmcSHj6flYCjFKAHCP/VWoju75p3HTtgWVJPJFOrofszYxkyYsueSol7366dwnyPWDJeZo7yU0FzEfgyKaOSIYNyHpE2P+Kcp87LMfZJtfuZFNd/v68+5Vth+8hx275s/ZdKu8W6QUftKOTc9uPi39ngox9Nwi+nW78eKi0WdF8Z/qf/RI9s4/4/GIH/SAciqI6BWh1JjuTvnY21vps5IWlxb53zJqC1Zoc59iiWJqOt1lm5uJzoN6PpQNKC7UYgMAUMbPTOrO0i6e1gjmQV4FAJgG12zBQUtwaP9YakQwdqLRJxLo1/Meft9/Z7tHH6J36Yc9ZrqzzR59//9gOw8/kLzxoy/fCbW5yUYLC7xwQM9RMsGHP/g37NOf/GT2zi3zGpBOdFse2ZieC2WmKKLmLyqAbWxu8IfFLzXaW63vkPLRaJTE03jMdaX4wrOhfACbAxAT5UKU5Py1swCEtKyEgCl76PcDz4AiFA+IiUDAtVdwRDU3BOMnNJ36kn+OXf8Rtn7TJ9h0ADsotu66kR3/xLu7fy1POqel0SByGt8VRbt0kr9UOOC/KieNjIBuEnRxPpBOC8mxTb9ct7kp+Wt5bcjrQgWZrU0q/qW3QebPUKrixk42oN1QVPjb3aaH4GM3lF/yOIo3ngAYCto7osQuBPtyuQhaPamb87FmRAHFAGZ0QGDeBAXmhxtitXGt3PTMpL/+HbZ75MHkdX8n9HR7kz36/kTP449kn/gj3xVFu3NM7oryDc8/tBtqiYo9U/7LgOZvyZOPUSqErWeyLI7bbomU79u353gMjUf8GVi0+2wziS3gG1wYARAG7Rkat+YRfc1XFb0CutAi2eYPEDz9uFQHwA7RzQ/B3Et6haRbH/PQxpc+y479/d907xSKlemUbdx0HVv//Id5QYp/xP/XD1QYoV1R9Lwo2j1Eu1nsFqPcaEs6LC0t8UIPPZeJdNwN4PljtBOK/2reZiJP8noyWWqxt7ytfOYEuiVvcXGJ74KiQhTpCQAAoJtqIUphrTS6APDxTS8p7pao2UgdYypekzT36kNHRdxcjwHDuIswIATNI8ylIKC5Ed38EIidEPWKOQ91yf7Qe36bbd59M2M9fHD5zkP3sUf+8jfY7vrR7BP/UJFmc2ODF6XodjG1W/TCgnZ3USGKnse0kehm7xYx+cWH74paX0/svsELZWTz2ItRXI+lSfJqyn+ZkApRAAAQIiH+k6FQiCqkcGFJ/V4S0ujGJJDyjqlR1frxa3UwRBBzgUB5Kj9AEEQ5NxA/QbL94N3swT95A/9Lt+v1hd3jj7KH/8+vsc3bPlcqss3PHddziXbpUCGKfmp/moy+NJlIFqNkJ5LdiTdeHHMd6FfbqAhl/4HZcn2TLFQYO36MilHbfBcaf6B6I/KyUwy5iiMqQk1o99l4gR0/vs5tbu5ZXAAAYB67q1ATzVnZ4a15tpaGBcGFx9XS5AZhbfxEXDOhyQM66dfMiRCaM/kBgkFs3QkMiTgKUbeYc5Go7Os3f5I99O7fYjuPfi3xVfyTfrq5zo586A/Ysevet3dLnp1clnYqGyNUONjc2GSb6+tsgW6xmkx4gcEednzKiyKT5UT/KdsgfSpFEVuxJNcvL0ZtbfGdUXQLG9+JtthW/LMltx60k2txacxGiezr6xvc3nhAOQAgBvxk1frVeW61VbnMS88RO1Olf3G0e5/ala+C80jwvKALDO/YAwCEC80Xz1MW1BNlnoo8lmJeG2Rlf/Rjf8qOXP3nbHf9SPIuXsdNd7bZ8c/9LXvkfW9n041j2afq2LIEFRDyHURjfsuYTDFKRSqzmvAi1PIyL45sbm6xDSryGH9AuTmoQEYyUjGKfmVumezduhNN3l4280VahEpvgaSYwS15AIDYoKxqa01thjJzOTvXrLRZA2vS2VweQDth2z6Xjv4WXwN/wP6ecL86gL4iebVRzL+hMMQ8dPgv3sSOX/9RtssLOPElBCpCbX758+yhP32j8K/klbS04vRmO9LzomhnCxWl6DlLE+s7o8xAtxIuLy/zQg7X4fjxlp05tuJIvl/+vCi6nS27fZB0oJ1Rpp8ZZTqMaNfc0lISH0sTfnsh6YAiFAAgVmytCu3MMvP44Imnvi57XcXxhcAeVsaVwOX4jYuuYVzppDHO/Kku3QBSyObFowu6gKQLMmAQP6sCECSqvCQZS6HqFpXN51CWfWeHrd9yHVs69Vy2ePAMtrCY5FlX1wua0C//0fOgDv/B69jW/bezhYbnXdVp06VhtwXSxzU00/wtFUdoTaNiCBUbRuNFNs0+a6dbqnpUz0vOTGTkBbOVFUa/2ka/RjdfhGruXX3cZuT7JLvSQ9XJY+Nx+rwl+sy0vU1pm97+OGFLi0tsc3ODrR87znd1dcsLAADhYmNFEMVDIUoQb2MnA2uOLXW6UOP6RubHEaexO8VxDIsHFFDxAV2AoRBlEFzPBgvNjz7nqVB1i93mSvJneYBuZzt+/UfYeP9JbPGUs9loeS3pMGyL7B4/wtZv+Bg7/Hs/z7bu/3KixG6jDeo+79KuW3sR+zS3oVva8sJC/jDtKf3HcHEkReWc5KwkBkiuycrsmVDHjx/nO6LEURu7Hfk+qfiX3ka4kOiVFnqom/LzrZoQH09XWyqU5bcQbqxvcHvT7ZwoQgEAYsfGaiBKeyGK8CWdT6u4HNvVWMbHod+YqUFyHGruygSgGVUfoBBlCFzLBk2UOUoipkLWL/b1QVf+6c4WW7/+I/yh35MzL2ALq/v5P9iDI1kLdo4cZkf/7x+xh/74l9KHrWc02aDu8y57ddtT1OLN7agwspsV0KgAQc8CImi9ay48iI5bRO4cKkDRrhx6hhUduzvpr+PRTih68Hcd7SOoyNyGWn9kU5Kf25bf+rbEn9W1uyuSxEzrUCYt+o35M7hoKLI1vx1vA7fjAQD6gd0s2k5NIWou8fuSzqdVXI6tOZbw6YHq5FIsUIXsr+MDFKI0kCgUAD/ozg9vSMRWyPpFafsCJuTP+6DnLW1+5UY2OesiNl47wBbGi8mXYViIfg1v5/A97OE/+y/syIfewaabx7NvUpqklP2cENO46/Y8or1FvlOH10ao+EPFkcVFfhafXrUFKTHpZoi3z3dBLa+s8OdCbW+nvzxHD/3u2j3UPoqszF2o9ceLUWTvRBcKa7r9jX5Rj7qrNXUJsTGpVX50wW995LuglhPfTxLZttnx7FY8uZ1nAAAQNmIZ1A7YEVWHgbGFu3Clp0t7SozlUixQxoTtUYhSRKJQANxDcyPa3CQRWyHr2Ie1QUmHOf8V+9h+4C62/oWr2WjfiWy8/yBbmKywhVHbr41ZZneH7Tx6mG3c9En20B+/ga1f/1G+g2ueJjvUfd5lMzGbirTqbkPrGz3DaDerhIxH9GtpS+kvvCWf8R08FcQknNHSPvmKF6CW0gLU4uISLzrRL7XRg9U3jdwaJitvF3r97RUA+X8W2CTRmfQnSNfmEqPcuNS67oy8AEXXNZPlCff9ZmJrKkCtb4T9a4QAAKCCXtZWJR114fxznjC3irVcBdVSbt+9JEosmguibWft2s8Q6S9pI+QRMdloKW2FjyUoVwOzb1r6ER6HkJOn0rrJfjXdCpkaGMeU3emibN/a/uwdEEJ0GgLnRJ+PBGMrBj1j94Wy/AUftvWxctHT2AnPfxlbfuylbHTg5HSHlCumu2z32CNs697b2KMf+J/s+Gc+yHdFNVHRI9OxTr/SZ8rXDGmr9ukg1lMO7ULit8QtpTt1RqMxv52MHg5Oxaq8ICRfFyrLQYWQ/C+NOaadWMnf3Z1t/ittVISiX2kTe4ZSmWbR5GzRjX5/pD/ZmXYkLSZ/+e2RiQJb21v8lsRc/3IhTn5cOpvGooMe+r6YzCPa+Ua3ZtIDybc2tri9m3+JEAAA4sb0CiDONPRCFP2PSPtZm/bWgn0JeUSkL2rV0U5Bx3lm37T0IzwOISdPbes6G9Y0FDI1UIbsO292kzZHIUoSkakFvBB1LhKMq1h07MO6oKTDnB87+1gYsbUrns9O+JYfYktnnM9GqwfYAt+haseCtNtpun6M7Ry+lx35yB+xo1f/H/5w8i4q0mR61klZ+qwmrsU0S1u1Twuxnubhv1SXFaToVjkqElExhNZCKkxRgWT+2UZNu5bSolMmR/JnlPiT+hsl/S6O6TlgC0m/WQFqa4sXoXR35DTbRM0ezZjpL30m1lJm8wnfHUV22qHdeIm9d3bSXzWc2Xihw94zePEpsfN4NE78Ok6mU2Lv7R1u683N1N64DQ8A0HdMZ38ZjBei5ql+296+gtCuqFkbWWkqKOzCaqejFGVgvNk3LX1xP+qPNaPcpnJGXdzUdOsz+PuOC9uiECWI6NQDXog2D0nEVSw69mVNUNJjzp+ifSwsLbN9V347W7v8eWzp7IvZaGU//4U9unUv+dd21kqN6dYG//W+3eTYvu92/uD0o1f/GX8wefIv/qxVOxUJstPqJNv7rKFrMW3SVu3SifXUBP9FPV6MGrPxeJEXTPJnSO3sTnlBajrdZSx5TYWR9H0qERU8qJjCCyOjMXcR7bCiB3TTFSMVQ3Z3d9h28peKLVQM0S1AFWm2i55Nypjsa/acLipEUdFocZzanm5NnU4TO+1kxSiyN/2H2zyzd2Jger4/3dZHdieDkw+oAEVi8uLTdmpjsvl2Ym/aAdVU0AIAgL5hNmOL012IIlqla0/U1W8lEzsKURnt7dJvW9pwH5oZK6W+zd6n8zHT0KWvwB8CLmyLQlQLotMNeCXaHCQRX7Ho2Jf1QFmPgk9V+xifeCpbefzT2MoTvz75eyUbrZ3AFpJ/tLNx8o92+ptAhav5AhUVnJJ/ebPpznbyj/nkH+HJX3ro+ObtN7Dj13+UbXzxWrb9wJ30EJ/sDHEqumR61ulY+qwmxsXskrZqnyJiPXVBRQ7axcR3R2VHXmQaZQUP/iuH9Do7h6Bbv7i9qWiVCJoWTqigQsWQbba9le6uslEMcWGXFJN9zeC3LFIhkApSZPPxYmLn1Obj5KCq02hMYxfGJ/vS7qnkZW7XtNhHt1dSIWqbF/1QfAIADBU7GbsdsUIU0Shde9KufiuT5LO2nZYp99k8gsDYKEQliLSrbyM6Qo6PoO87Lm2KQlQDshMBeCHa/CMRX7Ho2Ke1QEmXOZ+asMfC8hovRi2eeg4bHzjEFk85m+/AmZx9SVqMKrB5xw20NYRtP3gv23n4q2znoXv5Q8h3Hn0wkY0eEq1O7bmZvvPfld43xHm3LGmL9mnS3YsK/NY6OqgYMkoLUPSX734qQL8ORw/CpsJH+jpdT+l5Uy5wZxs7ds7hO9HI3pmN84IU7TArkdh5h4qoyV8qAvICYPKebF4sPrXbBQAA+ovdbF0PClHzWChEzf63BoPjdZS8DOvW3EZ0FMJH0PcVH7ZEIaoGmQkAvBFt7pGIr5h07NNaoKRLwa9ObJGNJzqWrkyV8xvGL71viPVuWdIW3VOluyd1ZPu2KUs97fYxKY973UyM2R0/AADQL1xna3oaohjIyHbooV1Fg9jHpUlfgS0B6IbmSX5ESU/X4T7lryh0wfVcgPTZKT500x+zT3kJAABCRLwQFRHhLB4iC6E5aUNaNEmW+YOYfw/0gS09Q9O8eIAgiX6eSMZWLPoifyUMNG+o+r7bXGkLv7Gl4lS3gdBuH9OyuNUtRX9M5CcAALBHLwtR0WFwfW5dNKciS6q9iwUs6GYhe8KmnqBpkh8geKKeJwpxFou+fctfyMeCBJM3kcDdxqwPe+cJFL4GAIDQmCtEBZqoFcSqX1yHcZmIi+H+Ax97BNezURH1XDG29oUHclg91u1SiCn4IETcLzDDiQM122KeAACGgusVaK4Q1ZFue3xRvIf7awBDRCs4kAQXRZ6gKYZpFhVRz5Uer7d9zGHIy834tA38ooONBS/ORRRxBAAA5nFya56vBE7j5ocU+MdmBzCQL3Ax5AEKd4R8VCjl/ZCQjLeY9EUOmyOC3OLSZyVztAxszmxI7u3YsI9Pm6uPjdwFAABmqSlEBZpqNdctaa1wbQICguIXF0EeQB6Iil7ME4mYi03fvuawGPXqqy/6ARaeUIkt5wIAQMjI74iqrI9iKdlI4g5qbXa5FIWkOC6QXIOLHg9QmCPUo6IX80Qi5mLTF3mshjl/w0Z9oy+LiA09fNpGf2zMVQAA0MfJrXmh4HPhiGfRwvIaEvCGQ+jaND9AFND8yI/okYi72PTtcx7rs27WyIwmFPLKBp713t1FiEk/NJlsyONTRxpbb3yKK8x/AABQR60QVcrd4ok8T9piidvOAiW1aNgRoR7DY9Xb2aVCQAfxeQKMgKkRHb2ZHxR7EvEXm97IYw34yDmh5LlMjmHEho7R3TnMny98B6X++MhxAACghrcdUX4St+8FTxV1a5m3M5Zcm5B1YWGHUEqINS0MlF7NEcnYQ24IC5P+CNW3PuSykZK79Qh1IXAnlz8b+ba9/vihzl8AAAgZ9UJUqGu2AFILhks9LY2FBTJ8yEfwk0NorkWcw4ZKr+aIZPzFqDtyGjCCciCFkuTjWWy6TW1LF982isdHAADQF7w+I6p5wWtZEKJaK8oa2r0ot9s7sAc85xhcb0ZJr+aJRAyS3sgR4aHlkzn/O/FvYUzEU2y4XbS648OWPG71rKI3PuYVAADIoVeIsrZmxJDOfS+YcuxZNC6xATAHxT7iP0p6dYEvEYMx641/lIFGsuAQngpaeXt2cndM2lwgbPZtHn+28m0nvfGR9wAAQByvO6KGiM9Fam/suK6HANAHMR8tvbqwl4jDmPXu+z/GTOrnzFaKAyF1hkKInrAlE/XrU1/f4wMAgD9cZj8UoqxS70qfF+l9/wdCqJDd5w/gAFxPRkuv5olkHMasN3JbB8hHAAjie7KojY8cCACIHVfZN85CFC7kLALjmqbpooQ+xwWLJSiMEcrR0qt5IRmHyAlhA/8AdeJalMRi3bZOvm2mNj7yBAAgdlxk31E1WbpN+u6SdVkvvXF9L4x1hCgTAI6haYCpEDW9uYBXiMXYde+N7/qIYl705VOzaVymN7Mjx04Yc9q3T9TGJ9shJwIAQDN8R5TvRDnEZD3TV2SBw4VRrOAixCGYJtHTm/miEIsx606yI9cJMBcXsJkgBg3l3+bxLVTdNnOhU7wLPNkPcx0AAKrs3ZoXQpJ0LYNvnb2OH++aHg248ABADJorvZkvkrk1dt2R5/pL6L61dxlj+wKpjxdgLnTyaTf9sZErAQCgTOkZUSEkSZLBpRy+da6M72CdDcHPfSWPX9jYMX28rh8AQ54rfdB9aL4zqa9T2yE/JvTBCP50EItXF/L59CMmEgAAmAS/mpdQXmCHdmktCxbiJhA5nkBIRknv5gvF4YBicWj5TlvfQGID61QoNogvWYjZzYVePm2nNzbmHwAAzNAvRFlaDzqTtct1qDJW/EsJ18DnWt4jyJa4uPAEYjg6ejdfKAYl4zB2/ZHvgAy106MjiERjTG7q9WHB6IMOsUM+UPcD8icAAKTEvSPK4HrcuTC4XPsdjYXFUB/Y0BN614HAAzRXejdfFGIwdhsMMedp6zwXJ75sGKLvhKZQb3O9qmL+DCIWQ7112BzqepIdQ5yPAADgkkohKrrEKLwOIOUDsyCiPDGUa9we0bu5QjGoEIfIGfERvc+QL2sJx6+qDvLnWDHb2ZYvlMDWkwNrAgAgZGxn2todUdKJ0ed6YDCLY0EAIHBCufYEwvQqr1L8KcQg2aAPdsAaCYyRzSOhmELgBYeYS2wv2KFcEIQiBwAAmIcynK0sN1eImg1Di4zU2h98HhYT0Oz1jqneQusHAAC6Qcbpjw3gS0XmLj1gRzHsXVIGf7EqQZ90UQU2AAAAF1C2NZ1xO58RJXXR5GU96OkihLUVgBk2sh+wBq0bvfsHt2T89ckGvfOlINHrjZzZSrt/XRpPZyx/ThabHy7kCyHQ1WUYan4FAMQJZTtTWVfoYeWUJIUTZatkISwW3bheFHwuQuWx4/CPT/K54NNngyHPdAjLaOjl3FCIwT7ZYKi5zobeQ7WlEWC8IBFzi4tFHBcKAAAQG0KFqJzqglOT+A1eLPi57mhZzKTXOVMLo8V+ko9wfdcN2Qh2cgCFaH6AqOjl/FCIwz7ZATlPE+QxJ8ibWfQMOFCEcPKEb3+pj49cCwAYIlKFKMJ1sqTx8sMlfR9vHt/jh4qP2BskdP2Ga/4o6e0ckYzHvtkBeQ8MgXDiPO4FsDv/DWWBV9ez24YAANAvpAtRbvC1YJXH9bogYDXyQn4hkB/AMjTlhnJ92jN6PUckY7Jvdhh67rOhv3ObzsWwyvguUrPUGEaN2KeFJxxd2l0UXERZQk8G57kCAAA8oVSI8pUkw0nOpha6ln6khhBp3NXGlE7xgsXfMQi5aOntXKGYlIzLvtkCedAQyG/tGA40HXO3i+LSkQgaM4RgRz0ZkIcBAEPA4Y4oMwtDJTlbXm/UFwN5werHcrCg8iEWBHR1IAsYBgilaOntBTJisr++laA3NjCgiClbIK5kUE1E4SSwdn+7kjMEe5AM6nJg3gAA+k6hECWXLJEg7UB23bOth3UUfgXWyK/JPMQ1MENv84NiTPbJHsj9BkGOMwLMKAssViYUe6jLgbwMAAgVExk2K0SpdSWeIM0uBrNxRfs1Ob5ZXZogHZ0uQG7UAkOD4io/QNT09oJYITad52fgBPjUD6aWB51+2n3vegHTGc+1rCq4lJHGCsEm6nIgLwEA+soojAQdEQMwV/2i12/FsdBbAKklemhe5EcvkYzRvtqit/6VwJgNamIK9m0AhrGE/8U3PNeGckGiJgemCgCgjzh8RpRFWvO64cXH8WpgZjgRG5Tb9H3RI/2KBzCM4WkH3NL7eUHxKRmjfbUH8l9PCSgHN4riXUYZAVwLG5ADFWnPLT70i9umyNUAgNDQzaoBFqLiX3zN4dcWtOjFtvDlMncdwCKYwtEyiPmhEJ99tQlyYYpNO8DGelSmq1eDxrS4YSEOF3XfIJ8AAPqERiEKi1wzkdqmQewYFj6SEQs0AOpg/tTTV7vA3/bxZuO5tRy+Hir+r0XbY8+HfJFenxfAfAYA9AXtHVFmE6L4AmE+ETeP7Tvp2x+/2+4hL3whyzYoKIziv8YbHDR/BjGHFOKzj3YZjL990KP8N5wYkXVabE72L297LPmQL/6JihwOAAgFnYzaj2dEuSS49cudQKEtfCQPFuNAiP+6bnAMZv5QbCrEZx9tg3xZBTbxiAXj6yxF4cUCFtb+ou9bilfkLwBACKhmNCOFqFIidLhuuhzXfLKP8wIjhEWPZAhBDpBAYRxnKA+awcwfhdjsa35BzrRMSHmwZ86umHZQwdyPBbbdZT507IddCeR2AEAIUFaVzayKhajqMO4TYSqDmXFjXZAMyx3AakYidB3AMxR2+QGiYxBzSDE++2ob5M16YJdw8LuczEYXi4nYFr8w5G23rQ8ZfdvF3PjIZQCAUKDMJprd7NyaVxrdd6I3iYgudvR1ssg0il7+woYs1CcW0oChEMgPEC29n2OKMdrn/IO8Wo9RuyAvAquYCLAYgnSIEwnJAwDQT0Sym0Ihqrnb0oWdw9zq6kLbywU91ijgE4o/xGD0UO7ykr9cohinfbZL732uiFG7NMSdV9sPPGfrqo95Y49u25L3XAZwCJPFjAyIWwBAbBjfEeUmEfpYONIxzegX8CIr2BwLXs+hOHAZpsA4NEfzo9coxmrfbdN7vwMhgo+DYASUTSKuF0gT47mWuR4xl4chqzvM6Iu8DwCICclClFiipETIk6HDdcRl8nWe6DM7hrbAhCYPMMTQrv96yCDmJsUpYrUC+R65uRmjtmmIP6/2NzQnTE8tkf4wnV0Qk5WHFhGkr77OyP8AgFiw84yoDNfJsDqepUXMydpoYhD7gur6mM7HohkIFC5OYhvYYjDzSTNO+2oj5FIA+kx/Fuiw1qrQ7Kp/MYa1AAAQA1YLUX1aNMWwr6+TxbukRrdOuUzzR07dd/kBAoBcPLSp2kMGM580Y7WvdkI+7caFjfrih9D0kJ32WNLaCMc6FGftseZK1hAjRk+mvuQiAEB/kShEKSREqSxoehGwu6g4T/AVdUzpZ89O3RcYwCvkervTBDhgUPMM8VoL8iyoo9dxYUW5WYIR6x4JyRTt9nZl5/75k+za6zwAAIgaizuiYknocS48WFiAMhTyhsIeceiPQV1gGopZxOtwceF7xFc7rq+23IwXq1au5Y4FsktItjEjC3ITACBELN+a5zj5JfmaxkPCBaABg9dXmGd+GFSOM/BvgtxefbXZYGIBdGMwvwPMLde029t1cPdvMiGeAQChIViIkk3IWfvsj9Pk52rMZBy1MWRt2QwWFSCFodCjuEPs+WFQdjcQr323F+ahGFbsZG4pN0esAaEq92AngKngCzGIgU2wZgAAQsL6jigxDC+GWXcuEq7vpE7j18ugaVNcn/QLQ/7ERYw/BmV7zXhtzov9oO/6mcSKnbA+9hg4N1xc+yaUWDArB9YPAEAo2C9EZfnTV9KzOm5BN7Fx7C1qWFRAIwbCTjzGgQ0GY3uKVY147XucYh7K4dJWIfpFJ/Xbu1ppx/S4av3NzhLzqw9r+fKQXbrt7VrvftqZwFoCAPBNIDuiLDCNOcWqLXxYVIANEFf+INsPxv6a1/t9txPmYSCE/O/S/v6bmVOr3qAnhgmHxxg0rmXu78TCugIAsElX9nRaiKpPeP1J8CEkdDkZOmzf37V3OGj6EBcp/hiU7TXilOzUd1thHsrj0mah+kdHrj7FXL8vZUxoF5aFxGLPtcy+bdTvKAYA9BfKXk0ZzE0hqjB6ny5u6tDXT2SxaW/TdxsDAdpmvQAUQ4gjPwzO9opxOhQ7YR4GhEZOtU7IstlGYJLYN0/sDghLfrG851pm3zai8c3LgDUGAOCCuuzl5dY810lPfzzfi488pHO73oI6xaf6cCDfNB0K5DGjP1+ALIOzvYFY7TuDigfDWLFbQ6yG6qO+xo5iytAifFuasooP6+riWuYQbGReBqw1AAAXUPYqZjBvz4hST3pqCdhakq0RJ6SEjsWlh8zPYk0oRhAn7sntPijbG4jdIdgL8xEASYxPGpVEZXBhlsbU2D51KDO49VEK836CrQEArsgzmEAhSjbZ2VzEZPoWaWtSVpt6Z/AhHIyzh8uxQCfkDoMuwUWePwZpdwOxi3gFXbiMkZDjMdTV24Rcqn3ojD2s3BNW9HTb3rW8YdnHJFhjAQAu6ShE9TfZiqNmA7/JHH4DzVBs4mLDH4O0vWZKGlLMYm6CQYLANwAKJMPCjr9hawCACyiDtRSiQlvQFORxpkL9QEjmwBgGYpniETHpl0HaXyN2hxSzmJ/6wH7Dwc3lXXkUsfhyI5l9wtOj3f6u5Q3FPnbkQC4FALhg5DPZuB7bh640pvi4AguKs7UvlEUW6LpCLgaBDQbpA4pbjdgdkr0wPwOnJo7hM3uEdfURljTdmJQ3PN3b551reUOxD8lhXhbkOACAbfiOKEo25YSjmtBkz5s6T3RxJ9bEvgoKVE8xv2ABS2i4ivwed7zHzyB9QDGrmWKGZDPMUTNYsyOWy14Bd/YdAwuQFCFFlHndsT4BAGxSujVPL+F0JL+Wr80nunZZ0vFEkrW5hL5gsC8VSGdlO/sVfZiQzRXtruVrYIxB+sBArhiK3TBPzQE7VtGxiTd7Sg5cSTfWBJ+NFEesGUjEe5jsywxiPnApd2g2InnyQ584Yh4AECOVZ0RRwpFPOirJzlHidjGMkTFMCdrej5p/gVM0QgG+DYNB+sFACkP8gqBoiGnEadyYutpqxv4I3YQgw5AI1d5m5ELOAwDYoPFh5XaTTjUxmhtPJOmK3BJoflHR09GsPFhUPEPubDoUgU/DYJB+0Ihbgmw2JLthrpoDtkzQnH8hEp5KMRrZlMzh6S42713LHWqMxBi7AIAh0PKreSFd4NlJomb0E5Ft1kZ7TCfrCRYtqxg0L8VTfgD/DNIPGvE8xNjFXI0b+E8fq1cYDhwkNkTfrqPC0yfMudg3v89A7gMAmKamEFVOopR42pOPRNLlTZvbDyXJddtUFbkFcCj2DgZyj5yLasnjB/4Lh0H6QzOeEb8AGMLwZDKwTPUeMZOHYMl+e7PbDz70D9HmmNUAgPBo3RFVxNU/Gmic8lh2k2d1PBlEZGtuozyuQZOo6w6kMOAzvVgFNhikTyiWNeN5qHGM+WsWq/asiXH4zy0GL3UMUZZILB5C0MKUDOF5RIxY5TYN2UHPFsiBAACTCBeiCCMJSDAH0lguE57r8XJ8jNkOFmzjaJg0j8vw4mTYDNYnBtLDUGMZcxgA87i/Yhn6NVJ4+ovlVtdyhxwnJJu6fFjLAACmmCtEdSemcgKynWhl+xdpb6qNS0zKU+2LfIqFRREyZ9ehAHwSJoP2i2Is5wzRdrnOg40Zi1i1qWasOyc2edsw4ViBPtyarE8OIsLTRyxsXMvdN7/PwJoGADBBoRAlnjC1E5BEbo4m2WmtN2EsVmTrRnv3dz1Vx5JNsMCHyaD9ohnrQ7Qd5rE9rNq2B2sdYg9U6f9FXJhxH7Ld9WRDngEA6JIVouST0YJSAlNLemLJTqRvU23MYiaZm9At/R6LSwdkJkthAtuHB/lk0H7RiPXB2w7ERUusDymOh6KrpWU8YExqHKb1utccH3IPL9IAAEAEqWdEGcVlXpYYS/wCTKRT8YFDu/CrlYfUcem3ENHUv+0iKbQYAAP3ieZ8H7LtMJftAdvOMfQ12Qszo4vHIxzlkna/+PBFqP7Xkwv5GACgg8NClGyyK7d3meyUx1LK57OTaFzhsaXHUhKuHoNdRQHpmx8aFH2b+7p4gLAYrE8Mx/rQwFzuH/CpP0RSkWa6GhgmrRWz5RE1M/RsgfwIAFBl5DUZNw5d/0U4yS60BcyOPK32piFDM4MJcr2KhwGwUMfFIP1lKN6HHOuY53bxYd+gfVozX03Ia2jZa8XFGCKYkEPc5qFobZJwder2i2vZQ/a/nmxk66BzJQAgSBztiJJJcO1t6xOdQP+SOVY/oaon9ZCSeacs6mqGR590AcoM7mKK4t5Q7A/OdgWGrHsvqJkD8CloJuYLBtOyG1xEnONa7pDtpC8b5cz8AACALvw9I0oDtQQnkmBNtXEEF8W+zJ32Vu2ezssP31iUAQtyHAzy4slg3A85zjHH7QMbd9MbG5lQxLExxIcL4YKHsCFHKLrNEPOLa7nDs5MNepOPAADWGKnlw/SkvicZ+/o1G382dhgLVqctSMz5wxd1suTHPE2fS0C2aTtA2AzWT5pxnzPkOB+y7i6xbmNDc6EvhBbTIu6Jy4WhSDuMwEeOlgHJEADgjnRHlEbe8X8hLiK8ehufurkdu9tG0r6mLotHkbbh5s+bP9oQ+V60LwH8xj7QQTqe+4KB2M9tN+T4H7LuLrFuZwPrQCjEpkr8pi9rEGdOMO2FHk0oq8BOAABg7Na8Pl+Uz3QzuXCI9DXlY4dmW2WZSOX8aELMLN39WCZEvwAxBu07jTmT223ocQ8b9AiPa4gRBhSISq4StI+fMAgp+GKfCN2EOVVCtXv/4wEAEAazQpSBvOPyAj0dZzhJvNGuRoZS68Sor0kEFTHy81TPbyGP5/wgiq9BfAzWd5rzAzGfAjsAEC6GLwEE8TOqeUzqEaZN2vO3L5lDjR8zcmHNBAC0obAjqjs5SSUejVxH43SPJTKAQZ3M5O5a1BK6RYESch+oyRYudfr0Tcch0ccYFYKmv2YKQNynwA7u8WnzKPw9N7cRozUIGkUvTc7OlvOBZnIOmjB1a/cPyexD7lDjwIxcZHPkJgBAHdZ+NU8t8VhOxlrdi54s0s5UmwwtvcyBxQaEyGBj0kBewHxOgR2GBfzdMwQdaupSKt74CeRi0jLd/vFhh/7bHnkVADBPuRDVmQfDTJSuklt4SdSEP8Jf/MjuXYcIoueI9gfCpsvPvcbAtMY8SIEd/ODL7vB3IFcFnhyhrnv5THHxw78GUydc3br940P2EO1lVibkVwBAEYkdUWrJaMFaYvWTsCmJdibSVtFE5FbQzY85ammyT247IRsmiLYjiv02HfPUtaEDxM+g/WggF2AeAJ84ib+aeYK4j5+ALoUiZTgW7J7vPmyBCAYADAdrt+alpAm1M9nzZnrJt34Mewnd1wUrjetrbBlyOYvHPHVtigcAsgw+dgykPMy9GbCFW5zNX3uXBu6wqEMv495DYIkP2YeAbCJs3bp91Gff+KGX+QUAoITFQpTqgixC/cKgNobIIhPeQkQ7zZDMAUihuTDI+UCpqXhogpySMth4GgLhLeegiblJCNfFStie6871Q4888/pjfQUAEJZ3RIkik+Ta287+AeF54XA0vF4y92wjAAwwyAsamrqa0zfPlcVj6MAO/oDdw8C1H5xehQgqpyeT6tlOLQGCBrEAABgGI7F1WTYp1rd3eYHTOFZJNBG9mtvQGPnhFll/ANBP3M+9ADAw/Qdptw5gkwHQMnfg/0BRcExIV0hy4ociuQ05QvJKlW4/hS2/fczrj5wLAOA7okrJwHKupbH6mHxSvbqMJ2JceQc029OyMwHwRF/zSCcGpvQg7dYBbOIX2D8cQr9q6P9VTSga2pAjdu/1P/raMa8/cj8Aw8bbrXmDSD5e16yuwYe+oIIYobwx2AsXA1MWF31lBh1PYI/oYgDLdyeNJhJ0tkkTy8dXKA5GoPljOLbHGgzAcNkrRJUSgaP8l46ZDWZhzMbkFmx+VxeM6xqsXgDoQfHdOJ/7DM3p/NBkkPZrAfYIA2d+wPoYL9FN1mqwyasQSsCaliP2iUjyu9LB5ViixO4/AEBICOyIkk06NpNUyAkwlY0uNkoXHHsi25c9ums1ADqozKchYTBlIDeUgT3CIAQ/9CUWENPhI++jUK55Q5HDLuQfcR+5tElo9jcvD/IXAMOkVIgqJQKlPCN/kp3kM5OjuX8RWdWTLY3rL7Gqyw1AKPibP/0CdiwDe4SBUz80LImIhX7j90qob9dhJvWhvsK1T5h5oW/xVAX5GIDhUdkRRYlglgxsJz6Z/kXbVtvZT27Nspkfu90OSOQgdso5aKDIpMYWkA/KwB5h4NQPhuYSGB76oVPtATmoSLiTU8xPruUPyV52ZMH8AGBYNN6aR78AJ5cQZJOSz4QqMraofALtfKoKQCRQvsFFiBlgyyqwRxg49UPL2ht1PAw8mOO6pNKVNiRtbcgSrjexZnRBvjPvP9gdgOHQUIjKEkvyRywhyCaicvvuMfQTnc/EZm5sETvIFhAB8AvFK2K2gEa6gy3rgU1Ar9C/JAoK5+ogIQRGzAHtWvYQbUUymZULUxSAYdD9sPIktzj7x412HmvvoKSD2ZzZgUhxyHwSd+IzABRBjBag6Z8fisCWVRBjYRGKLxAT8SOaKhvbCQaBRkouUO4l7vgzY5FYCNNXofrArFxk+/wAAPST7kJUAZvJwFWi6X1Cm1sH6pP4sC4kQFjUx+SA0ZyOsGc9sAnoJUNdvmsmtLYpBJMErpjmsWGRcK3cHSaIkBl2bIH1HIB+UlOIqkkihY9sJgNXiYbGcZ7UEhvqjamX3L3oDEABxOAcNKU1pjXs2QzsEh7wiQEa8gVsax+9KzBCpwf90eMgZj1dyz6UmJiBPAdA/5DaEVWPbDJsb79gPbfOBqCx9BKbvLA0Xn7MsK70HvIPoQdAH8RcAZrumlMe9mwGtgkPLz5pmGOIj27cXZHMEBqzxnnasiIgFPERJf4QC5Nh2aQZe3bAdAWgX4gXogp5RT0RiCWncjFKNKGpJz67ia1ZLvPjZmMJmILGRkIHtkGcFaB5qZ6m9oA9m4FtwgM+AaIYSI+12OpXnpkk8vMiHC3sErueLuWnsYYSFwCAPjJXiBJPaOkiai8BUv+0e8csNf1lH6Xj5VjSq6bb8rg6qMlsZmwAypiL655gIKXApu3ANuHhzSeWlvBQGZS6ikEVoo3kVQlNC1vyhBnR4v5yLX+I9rInE9Z6APqDxq15srd4SSalqUx7cwmPdBLTy2ySFR9XEAnxjI8NBgtiqQYDqQI2bQYxFybefGJ2aQ6LAQS6Tffp9m1GtnIv8i4NLcBDk8cu4v5ybRcaD7EBAIiLQiFKIGHUNBFLyrLJaNbe3HWXqAxpOxrX3NhxMESdgRkQOw3Ipr4aYNdmYBsAgDbOE0l5YZAf3sDCYhSSx7RMoek4I+x1J8TYMA/WfgD6wcjEAmItIWRiWU84LerrjV3TceWj8gdGde0YqwkkeCAD4qUGmmpi060RsitsWw9sAwZJQ04Z3FzwqLBmWu85w7GOWAj6skdofiB58sMcuAYAIH40bs0rQwnBZlKwnnCk8mNoSd48SPBABMTJHAautWzn0tiBbcInVB8hdkAjEsFh5gqw3Atis46wr7XFfOZLh1BtR3KF7VcAgDvkC1Ed+UN/MZ0bIIB8paaTiOCiypkwgnwfuDACdVBc5AcoYGCawqYAaNAyBzG3xInCVgUhTVwhyWJjzH7EqGnL+PCuafqgQ5ggrwMQN4o7omSSqrkEXJ9wRPoXlKHlAelGk12HODSWsfE0zY8kD3KMxmVfoPmVHxrAtmLARuEDH8WPZjrTxub4vnUroyNNWJrYJVxdxdduHzqEHCPmZMOaA0C8GLs1r8gsKcgmmu72edJPj34ndmPJVVPk3N5gmMD/DRhIBbCtGLBTHITqI8ROfNi80mrsO4BAkRPB3fWoHDbkClXXFOQYFcL2KQDAPgqFKLHEYTQp1w6ZfkjjtI8lmui629nXqQoV24zoKGqGFozqD4Imjzn4vAaaS5hPzoCd4sC7nwzMSRAZhaCTdX844aIryZACH5NcnmHYDNcJAMSJlR1RKbLJT6Z9ta1eEir01ypGWhQyg6x9DCRa+SErINn3E/Jr8QA10PwxMIcI2Bj0Ce/x3DIvezPXDOWemJBV2Uj7AAJGXoQQg8OWTCHqmtLtt3Bl94c5m5D9e5PvARgIkoUouYThOiFUx7OT9I0tNp3Nqg20dTRgEiT6fkB+zA/QgYF5Q8De4sBWQAhDcxNEisckYS70TPQU4kQY3uQMc80K3Q9m5cO1AwDxIFGIKiQKiZwhlhAEOrSWR611bI0QEiySfJzk8xH+k8BAioDNxYGt4iJkXyGOhoeRKzqJwLF1BYnYbSO+6/YZvmSP2WZq0BzCPAIgbAQLUfoJzFwyaJfFyDgC6jaPI2Ir1wvC3HiGhkeSjwv4ShKaJwbmCuwuDmwFQA0teQhzxj9mLqlM9GJGErOEKJNduufk8GzSjT2bkD+QJwEIk5FywmzNGfVfukoEdsap6uQzsYWUVEOSBdQDH0lAU701v4lBNofdxYGt4iNknyGe+oFQKp5ztoH0LR1ARsacAzHcZ2xETOzYtQnmEwDhwXdEuZyc1bEkEo/LvC04VlkfkZPMKSHmt4bxDNsSCT5MyC/wjSA0JwzMC9hcHtgrPoLwWcN8HUo8Yd7oY/hSSBMT0oSlUUqIMtlFbG66tsvw/AAACJu9W/Pqk2ZH0lLMabOxZDsQb78g1FZRgTnsXAyKyRbShWhIsgwZ8kN+AEEMpALYXA3YLD7gszAwcwXTT4zYxkuglyXvz1wzHa3UX9gzIEzfhW43u7Jh7QIgLCR/Na+GSs4QSyJ2k0EqQ/8TzkxPJV0t5HskeT/kMQD7K6A5D2B3NWC3OAnGZxbWr2DxYPQhmTc8XcsSybsf3gsFrHEqkE+HFMMADJdSIUo/YcokDtkko5aUSCe3eklS27VPXfUJQYYhkPsb9tZAY2rD9urAbnESjN8sLsmgP8iESWNbb0GvG+QhThJbMoWoqyi+ZI/BZiSjeTlx/QFAOFR2RNEETSepxORXzBNKyaBzrPoGM71yzCY3JV0sEYIsIdmjj8C+mtD010gBsL8aZDfYLk6C8VvHvEV8AVV0rwrNXlWW6U9c27RSmHT7zpdNYvGFeTmxTgAQBo235slPUrVEQeO4TAg2x8p1kR5DyXTtJ6UyxLLIABlsxnCvoemQHxrA/mrAbgDERShXEEJy2EwwEn2btZlub6F4cB4bcoWqqyi+5I/dburgmgQA/9QUoigppYmJJqmrido+zlyi1MybcnqJDlZul48hPg4A3SCeFKCpqZkzcmB/NWC3uIH/wsVQagseIT0DCVRbPlFTL9QIGUrkpoj5blg2kcOObbC2AeATxv5/QIkGSwXXu90AAAAASUVORK5CYII=)"
      ],
      "metadata": {
        "id": "Ljdkl7PdJJth"
      }
    },
    {
      "cell_type": "markdown",
      "source": [
        "Det ="
      ],
      "metadata": {
        "id": "UCJjBAguJUpZ"
      }
    }
  ]
}