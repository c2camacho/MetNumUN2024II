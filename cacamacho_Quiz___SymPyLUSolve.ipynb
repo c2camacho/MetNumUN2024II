{
  "nbformat": 4,
  "nbformat_minor": 0,
  "metadata": {
    "colab": {
      "provenance": [],
      "include_colab_link": true
    },
    "kernelspec": {
      "name": "python3",
      "display_name": "Python 3"
    }
  },
  "cells": [
    {
      "cell_type": "markdown",
      "metadata": {
        "id": "view-in-github",
        "colab_type": "text"
      },
      "source": [
        "<a href=\"https://colab.research.google.com/github/c2camacho/MetNumUN2024II/blob/main/cacamacho_Quiz___SymPyLUSolve.ipynb\" target=\"_parent\"><img src=\"https://colab.research.google.com/assets/colab-badge.svg\" alt=\"Open In Colab\"/></a>"
      ]
    },
    {
      "cell_type": "markdown",
      "source": [
        "# 1. Solve the using *LUsolve* from sympy the   2 $\\times$ 2 system $Ax=b$, inside the function *LUsolve_2_by_2_lin_sys* with\n",
        "\n",
        "$$A = \\left[\n",
        "  \\begin{array}{cc}\n",
        "e & i\\\\\n",
        " \\sqrt{2}& \\pi\n",
        "\\end{array}\n",
        "\\right]\n",
        "$$\n",
        "\n",
        "$$b  = \\left[\n",
        "  \\begin{array}{c}\n",
        "\\sqrt{3} \\\\\n",
        "1\n",
        "\\end{array}\n",
        "\\right]\n",
        "$$"
      ],
      "metadata": {
        "id": "Voh5FtIzbcn3"
      }
    },
    {
      "cell_type": "code",
      "source": [
        "from sympy import *\n",
        "\n",
        "def LUsolve_2_by_2_lin_sys():\n",
        "    init_printing()\n",
        "\n",
        "    # Define matrix A and vector b\n",
        "    A = Matrix([[E, I],\n",
        "                [sqrt(2), pi]])\n",
        "    b = Matrix(2, 1, [sqrt(3), 1])\n",
        "\n",
        "    # Solve Ax = b using LU decomposition\n",
        "    x = A.LUsolve(b)\n",
        "\n",
        "    return x\n",
        "\n"
      ],
      "metadata": {
        "id": "2rXVy2w_Re5Z"
      },
      "execution_count": 7,
      "outputs": []
    },
    {
      "cell_type": "markdown",
      "source": [
        "# 2. Solve the using *solve* from sympy the   2 $\\times$ 2 system $Ax=b$, inside the function *solve_2_by_2_lin_sys* with\n",
        "\n",
        "$$A = \\left[\n",
        "  \\begin{array}{cc}\n",
        "e & i\\\\\n",
        " \\sqrt{2}& \\pi\n",
        "\\end{array}\n",
        "\\right]\n",
        "$$\n",
        "\n",
        "$$b  = \\left[\n",
        "  \\begin{array}{c}\n",
        "\\sqrt{3} \\\\\n",
        "1\n",
        "\\end{array}\n",
        "\\right]\n",
        "$$"
      ],
      "metadata": {
        "id": "zTeu2Yzicj0m"
      }
    },
    {
      "cell_type": "code",
      "source": [
        "from sympy import *\n",
        "\n",
        "init_printing()\n",
        "\n",
        "def solve_2_by_2_lin_sys():\n",
        "    # Definir matriz A y vector b\n",
        "    A = Matrix([[E, I],\n",
        "                [sqrt(2), pi]])\n",
        "    b = Matrix(2, 1, [sqrt(3), 1])\n",
        "\n",
        "    # Definir las incógnitas como un vector de matriz\n",
        "    x = Matrix(2, 1, symbols('x1:3'))\n",
        "\n",
        "    # Resolver el sistema usando linsolve con el mismo enfoque que solve_2_by_2_lin_sys_sol\n",
        "    sol = linsolve(list(A @ x - b), list(x))\n",
        "\n",
        "    return sol\n",
        "\n"
      ],
      "metadata": {
        "id": "56WRBbMTReea"
      },
      "execution_count": 8,
      "outputs": []
    },
    {
      "cell_type": "code",
      "source": [],
      "metadata": {
        "colab": {
          "base_uri": "https://localhost:8080/",
          "height": 37
        },
        "id": "g4IierwTGgQ-",
        "outputId": "00d29bba-edab-4b2e-878b-467e26ea9b7d"
      },
      "execution_count": 9,
      "outputs": [
        {
          "output_type": "execute_result",
          "data": {
            "text/plain": [
              "0"
            ],
            "text/latex": "$\\displaystyle 0$"
          },
          "metadata": {},
          "execution_count": 9
        }
      ]
    }
  ]
}